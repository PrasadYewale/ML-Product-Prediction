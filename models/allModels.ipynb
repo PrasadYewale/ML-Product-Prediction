{
 "cells": [
  {
   "cell_type": "markdown",
   "metadata": {
    "id": "ea10bd76-e201-4bf3-9cf4-dc138848b612"
   },
   "source": [
    "# Data Scientist Take-Home Exercise\n",
    "## Data Dictionary\n",
    "1. customer_info  \n",
    "2. product_info  \n",
    "3. customer_transaction_info  \n",
    "4. orders_returned_info  \n",
    "5. region_seller_info"
   ]
  },
  {
   "cell_type": "markdown",
   "metadata": {
    "id": "IIAbrJBqfYWc"
   },
   "source": [
    "## **Steps**\n",
    "## **Step 1: Data Preprocessing & Cleaning**\n",
    "## **Step 2: Visualizations & Statistics**"
   ]
  },
  {
   "cell_type": "code",
   "execution_count": 79,
   "metadata": {
    "id": "bf28c08b-0a55-4ec7-ab2b-3017fef8d8c2"
   },
   "outputs": [],
   "source": [
    "import numpy as np  # Version: 1.26.4\n",
    "import pandas as pd # Version: 2.2.2\n",
    "import matplotlib.pyplot as plt # Version: 3.9.2\n",
    "import seaborn as sns # Version: 0.13.2\n"
   ]
  },
  {
   "cell_type": "markdown",
   "metadata": {
    "id": "51320b79-65e3-40a4-880b-9b429303ccaf"
   },
   "source": [
    "## 1.1 Product Info ##"
   ]
  },
  {
   "cell_type": "code",
   "execution_count": 80,
   "metadata": {
    "id": "90adfa1f-47b6-4f9a-b28d-42bbfe52ffe7"
   },
   "outputs": [],
   "source": [
    "# load dataset\n",
    "df_product = pd.read_csv(\"./data/product_info.csv\")"
   ]
  },
  {
   "cell_type": "code",
   "execution_count": 81,
   "metadata": {
    "colab": {
     "base_uri": "https://localhost:8080/"
    },
    "id": "c718dda3-5d3f-4be6-916d-3e39a390e528",
    "outputId": "0bd5ef5b-e570-47f2-e457-aebd5b15bc05"
   },
   "outputs": [
    {
     "data": {
      "text/plain": [
       "(1894, 5)"
      ]
     },
     "execution_count": 81,
     "metadata": {},
     "output_type": "execute_result"
    }
   ],
   "source": [
    "df_product.shape"
   ]
  },
  {
   "cell_type": "code",
   "execution_count": 82,
   "metadata": {
    "colab": {
     "base_uri": "https://localhost:8080/",
     "height": 206
    },
    "id": "5ed9e587-2e1c-4859-9bd7-d6bbfe2c37b4",
    "outputId": "8b5e8ea9-fb9b-43fa-bd0e-d9e2ae721ac0"
   },
   "outputs": [
    {
     "data": {
      "text/html": [
       "<div>\n",
       "<style scoped>\n",
       "    .dataframe tbody tr th:only-of-type {\n",
       "        vertical-align: middle;\n",
       "    }\n",
       "\n",
       "    .dataframe tbody tr th {\n",
       "        vertical-align: top;\n",
       "    }\n",
       "\n",
       "    .dataframe thead th {\n",
       "        text-align: right;\n",
       "    }\n",
       "</style>\n",
       "<table border=\"1\" class=\"dataframe\">\n",
       "  <thead>\n",
       "    <tr style=\"text-align: right;\">\n",
       "      <th></th>\n",
       "      <th>index</th>\n",
       "      <th>Product ID</th>\n",
       "      <th>Category</th>\n",
       "      <th>Sub-Category</th>\n",
       "      <th>Product Name</th>\n",
       "    </tr>\n",
       "  </thead>\n",
       "  <tbody>\n",
       "    <tr>\n",
       "      <th>0</th>\n",
       "      <td>0</td>\n",
       "      <td>FUR-BO-10001798</td>\n",
       "      <td>Furniture</td>\n",
       "      <td>Bookcases</td>\n",
       "      <td>Bush Somerset Collection Bookcase</td>\n",
       "    </tr>\n",
       "    <tr>\n",
       "      <th>1</th>\n",
       "      <td>1</td>\n",
       "      <td>FUR-CH-10000454</td>\n",
       "      <td>Furniture</td>\n",
       "      <td>Chairs</td>\n",
       "      <td>Hon Deluxe Fabric Upholstered Stacking Chairs,...</td>\n",
       "    </tr>\n",
       "    <tr>\n",
       "      <th>2</th>\n",
       "      <td>2</td>\n",
       "      <td>OFF-LA-10000240</td>\n",
       "      <td>Office Supplies</td>\n",
       "      <td>Labels</td>\n",
       "      <td>Self-Adhesive Address Labels for Typewriters b...</td>\n",
       "    </tr>\n",
       "    <tr>\n",
       "      <th>3</th>\n",
       "      <td>3</td>\n",
       "      <td>FUR-TA-10000577</td>\n",
       "      <td>Furniture</td>\n",
       "      <td>Tables</td>\n",
       "      <td>Bretford CR4500 Series Slim Rectangular Table</td>\n",
       "    </tr>\n",
       "    <tr>\n",
       "      <th>4</th>\n",
       "      <td>4</td>\n",
       "      <td>OFF-ST-10000760</td>\n",
       "      <td>Office Supplies</td>\n",
       "      <td>Storage</td>\n",
       "      <td>Eldon Fold 'N Roll Cart System</td>\n",
       "    </tr>\n",
       "  </tbody>\n",
       "</table>\n",
       "</div>"
      ],
      "text/plain": [
       "   index       Product ID         Category Sub-Category  \\\n",
       "0      0  FUR-BO-10001798        Furniture    Bookcases   \n",
       "1      1  FUR-CH-10000454        Furniture       Chairs   \n",
       "2      2  OFF-LA-10000240  Office Supplies       Labels   \n",
       "3      3  FUR-TA-10000577        Furniture       Tables   \n",
       "4      4  OFF-ST-10000760  Office Supplies      Storage   \n",
       "\n",
       "                                        Product Name  \n",
       "0                  Bush Somerset Collection Bookcase  \n",
       "1  Hon Deluxe Fabric Upholstered Stacking Chairs,...  \n",
       "2  Self-Adhesive Address Labels for Typewriters b...  \n",
       "3      Bretford CR4500 Series Slim Rectangular Table  \n",
       "4                     Eldon Fold 'N Roll Cart System  "
      ]
     },
     "execution_count": 82,
     "metadata": {},
     "output_type": "execute_result"
    }
   ],
   "source": [
    "df_product.head()"
   ]
  },
  {
   "cell_type": "code",
   "execution_count": 83,
   "metadata": {
    "colab": {
     "base_uri": "https://localhost:8080/"
    },
    "id": "5ec97580-01ec-4f3f-a1b5-1b01d18a5e66",
    "outputId": "9d2d7deb-f3ec-405a-f805-5b08848adece"
   },
   "outputs": [
    {
     "name": "stdout",
     "output_type": "stream",
     "text": [
      "<class 'pandas.core.frame.DataFrame'>\n",
      "RangeIndex: 1894 entries, 0 to 1893\n",
      "Data columns (total 5 columns):\n",
      " #   Column        Non-Null Count  Dtype \n",
      "---  ------        --------------  ----- \n",
      " 0   index         1894 non-null   int64 \n",
      " 1   Product ID    1894 non-null   object\n",
      " 2   Category      1894 non-null   object\n",
      " 3   Sub-Category  1894 non-null   object\n",
      " 4   Product Name  1894 non-null   object\n",
      "dtypes: int64(1), object(4)\n",
      "memory usage: 74.1+ KB\n"
     ]
    }
   ],
   "source": [
    "df_product.info()"
   ]
  },
  {
   "cell_type": "code",
   "execution_count": 84,
   "metadata": {
    "colab": {
     "base_uri": "https://localhost:8080/",
     "height": 240
    },
    "id": "827b8987-aa6e-4e6f-8837-5baeb64928af",
    "outputId": "e735713c-298c-47a8-fa34-a71b34584d77"
   },
   "outputs": [
    {
     "data": {
      "text/plain": [
       "index           0\n",
       "Product ID      0\n",
       "Category        0\n",
       "Sub-Category    0\n",
       "Product Name    0\n",
       "dtype: int64"
      ]
     },
     "execution_count": 84,
     "metadata": {},
     "output_type": "execute_result"
    }
   ],
   "source": [
    "# isnull() => if value is not present then return true else false, sum() will sum up all true values\n",
    "df_product.isnull().sum()"
   ]
  },
  {
   "cell_type": "code",
   "execution_count": 85,
   "metadata": {
    "colab": {
     "base_uri": "https://localhost:8080/",
     "height": 539
    },
    "id": "9b7d3e98-3b6f-49d2-a1d1-4411889b1d37",
    "outputId": "57f8db09-ed2f-4ce8-ab55-4e41820a9d4b"
   },
   "outputs": [
    {
     "data": {
      "text/plain": [
       "<Axes: >"
      ]
     },
     "execution_count": 85,
     "metadata": {},
     "output_type": "execute_result"
    },
    {
     "data": {
      "image/png": "[encoded data removed]",
      "text/plain": [
       "<Figure size 640x480 with 2 Axes>"
      ]
     },
     "metadata": {},
     "output_type": "display_data"
    }
   ],
   "source": [
    "# sns.heatmap is a function in the Seaborn library used to visualize data in a matrix format with color-coded values\n",
    "# white color is for null value, if screen is pink mean data have not null value\n",
    "sns.heatmap(df_product.isnull())"
   ]
  },
  {
   "cell_type": "markdown",
   "metadata": {
    "id": "bf_0YP6Tp_TW"
   },
   "source": [
    "### Data analysis\n",
    "* white color is for null value, if screen is pink mean data have not null value"
   ]
  },
  {
   "cell_type": "code",
   "execution_count": 86,
   "metadata": {
    "colab": {
     "base_uri": "https://localhost:8080/",
     "height": 240
    },
    "id": "be652e71-bdb4-4c7a-838f-ddf8f5830f4a",
    "outputId": "b4348964-fe98-4a78-b2f5-af2805e6d372"
   },
   "outputs": [
    {
     "data": {
      "text/plain": [
       "index           1894\n",
       "Product ID      1862\n",
       "Category           3\n",
       "Sub-Category      17\n",
       "Product Name    1850\n",
       "dtype: int64"
      ]
     },
     "execution_count": 86,
     "metadata": {},
     "output_type": "execute_result"
    }
   ],
   "source": [
    "# returns the number of unique values in each column\n",
    "df_product.nunique()"
   ]
  },
  {
   "cell_type": "code",
   "execution_count": 87,
   "metadata": {
    "colab": {
     "base_uri": "https://localhost:8080/",
     "height": 1000
    },
    "id": "21373790-0642-41c6-9825-1c9a1acf492d",
    "outputId": "9419471a-cde6-4c78-9845-19ade04c5756"
   },
   "outputs": [
    {
     "data": {
      "image/png": "[encoded data removed]",
      "text/plain": [
       "<Figure size 1500x600 with 2 Axes>"
      ]
     },
     "metadata": {},
     "output_type": "display_data"
    },
    {
     "data": {
      "image/png": "[encoded data removed]",
      "text/plain": [
       "<Figure size 1000x800 with 1 Axes>"
      ]
     },
     "metadata": {},
     "output_type": "display_data"
    }
   ],
   "source": [
    "\n",
    "# Creating a figure with two subplots side by side\n",
    "fig, (ax1, ax2) = plt.subplots(1, 2, figsize=(15, 6))\n",
    "\n",
    "# Plot 1: Horizontal bar chart for Categories\n",
    "category_counts = df_product['Category'].value_counts()\n",
    "colors = sns.color_palette('husl', n_colors=len(category_counts))\n",
    "\n",
    "category_counts.plot(kind='barh', ax=ax1, color=colors)\n",
    "ax1.set_title('Product Categories Distribution')\n",
    "ax1.set_xlabel('Number of Products')\n",
    "ax1.set_ylabel('Category')\n",
    "\n",
    "# Plot 2: Pie chart for Categories\n",
    "plt.pie(category_counts, labels=category_counts.index, autopct='%1.1f%%',\n",
    "        colors=colors, startangle=90)\n",
    "ax2.set_title('Category Distribution (%)')\n",
    "\n",
    "plt.tight_layout()\n",
    "plt.show()\n",
    "\n",
    "# Creating a figure for Sub-Categories (using horizontal bars due to more categories)\n",
    "plt.figure(figsize=(10, 8))\n",
    "subcategory_counts = df_product['Sub-Category'].value_counts()\n",
    "colors_sub = sns.color_palette('husl', n_colors=len(subcategory_counts))\n",
    "\n",
    "# Plot horizontal bars for Sub-Categories\n",
    "subcategory_counts.plot(kind='barh', color=colors_sub)\n",
    "plt.title('Product Sub-Categories Distribution')\n",
    "plt.xlabel('Number of Products')\n",
    "plt.ylabel('Sub-Category')\n",
    "\n",
    "plt.tight_layout()\n",
    "plt.show()"
   ]
  },
  {
   "cell_type": "markdown",
   "metadata": {
    "id": "b555d6a8-c9f7-4d68-be23-d4f3834c8d89"
   },
   "source": [
    "### Data analysis\n",
    "* Office Supplies is the highest category\n",
    "* Paper is the highest sub-category"
   ]
  },
  {
   "cell_type": "code",
   "execution_count": 88,
   "metadata": {
    "id": "4aa38282-a366-4cfe-87e2-0bc6858b13d3"
   },
   "outputs": [],
   "source": [
    "# Create a new column 'printer_related'\n",
    "# It is True if 'Product Name' contains \"printer\"\n",
    "# AND 'Sub-Category' is \"Machines\", otherwise False"
   ]
  },
  {
   "cell_type": "code",
   "execution_count": 89,
   "metadata": {
    "id": "1e5099a3-0891-47ae-879d-08d6a0543c7a"
   },
   "outputs": [],
   "source": [
    "df_product['printer_related'] = np.where(\n",
    "    df_product['Product Name'].str.contains(\"printer\", case=False) &\n",
    "    (df_product['Sub-Category'] == \"Machines\"),\n",
    "    True, False\n",
    ")\n"
   ]
  },
  {
   "cell_type": "code",
   "execution_count": 90,
   "metadata": {
    "colab": {
     "base_uri": "https://localhost:8080/",
     "height": 206
    },
    "id": "82948b9a-ddf0-4cbf-9ef6-10725c310b55",
    "outputId": "5e5a2218-717c-4500-e9cb-9c4cbcfdd308"
   },
   "outputs": [
    {
     "data": {
      "text/html": [
       "<div>\n",
       "<style scoped>\n",
       "    .dataframe tbody tr th:only-of-type {\n",
       "        vertical-align: middle;\n",
       "    }\n",
       "\n",
       "    .dataframe tbody tr th {\n",
       "        vertical-align: top;\n",
       "    }\n",
       "\n",
       "    .dataframe thead th {\n",
       "        text-align: right;\n",
       "    }\n",
       "</style>\n",
       "<table border=\"1\" class=\"dataframe\">\n",
       "  <thead>\n",
       "    <tr style=\"text-align: right;\">\n",
       "      <th></th>\n",
       "      <th>index</th>\n",
       "      <th>Product ID</th>\n",
       "      <th>Category</th>\n",
       "      <th>Sub-Category</th>\n",
       "      <th>Product Name</th>\n",
       "      <th>printer_related</th>\n",
       "    </tr>\n",
       "  </thead>\n",
       "  <tbody>\n",
       "    <tr>\n",
       "      <th>0</th>\n",
       "      <td>0</td>\n",
       "      <td>FUR-BO-10001798</td>\n",
       "      <td>Furniture</td>\n",
       "      <td>Bookcases</td>\n",
       "      <td>Bush Somerset Collection Bookcase</td>\n",
       "      <td>False</td>\n",
       "    </tr>\n",
       "    <tr>\n",
       "      <th>1</th>\n",
       "      <td>1</td>\n",
       "      <td>FUR-CH-10000454</td>\n",
       "      <td>Furniture</td>\n",
       "      <td>Chairs</td>\n",
       "      <td>Hon Deluxe Fabric Upholstered Stacking Chairs,...</td>\n",
       "      <td>False</td>\n",
       "    </tr>\n",
       "    <tr>\n",
       "      <th>2</th>\n",
       "      <td>2</td>\n",
       "      <td>OFF-LA-10000240</td>\n",
       "      <td>Office Supplies</td>\n",
       "      <td>Labels</td>\n",
       "      <td>Self-Adhesive Address Labels for Typewriters b...</td>\n",
       "      <td>False</td>\n",
       "    </tr>\n",
       "    <tr>\n",
       "      <th>3</th>\n",
       "      <td>3</td>\n",
       "      <td>FUR-TA-10000577</td>\n",
       "      <td>Furniture</td>\n",
       "      <td>Tables</td>\n",
       "      <td>Bretford CR4500 Series Slim Rectangular Table</td>\n",
       "      <td>False</td>\n",
       "    </tr>\n",
       "    <tr>\n",
       "      <th>4</th>\n",
       "      <td>4</td>\n",
       "      <td>OFF-ST-10000760</td>\n",
       "      <td>Office Supplies</td>\n",
       "      <td>Storage</td>\n",
       "      <td>Eldon Fold 'N Roll Cart System</td>\n",
       "      <td>False</td>\n",
       "    </tr>\n",
       "  </tbody>\n",
       "</table>\n",
       "</div>"
      ],
      "text/plain": [
       "   index       Product ID         Category Sub-Category  \\\n",
       "0      0  FUR-BO-10001798        Furniture    Bookcases   \n",
       "1      1  FUR-CH-10000454        Furniture       Chairs   \n",
       "2      2  OFF-LA-10000240  Office Supplies       Labels   \n",
       "3      3  FUR-TA-10000577        Furniture       Tables   \n",
       "4      4  OFF-ST-10000760  Office Supplies      Storage   \n",
       "\n",
       "                                        Product Name  printer_related  \n",
       "0                  Bush Somerset Collection Bookcase            False  \n",
       "1  Hon Deluxe Fabric Upholstered Stacking Chairs,...            False  \n",
       "2  Self-Adhesive Address Labels for Typewriters b...            False  \n",
       "3      Bretford CR4500 Series Slim Rectangular Table            False  \n",
       "4                     Eldon Fold 'N Roll Cart System            False  "
      ]
     },
     "execution_count": 90,
     "metadata": {},
     "output_type": "execute_result"
    }
   ],
   "source": [
    "df_product.head()"
   ]
  },
  {
   "cell_type": "code",
   "execution_count": 91,
   "metadata": {
    "id": "e5296919-8022-4c38-948f-a9118a8157dd"
   },
   "outputs": [],
   "source": [
    "df_product.drop('index', axis=1, inplace=True)"
   ]
  },
  {
   "cell_type": "code",
   "execution_count": 92,
   "metadata": {
    "colab": {
     "base_uri": "https://localhost:8080/",
     "height": 507
    },
    "id": "c3e61b55-cbfc-4ce8-8862-418a4032f5ba",
    "outputId": "bc14ee24-f37f-4c20-83ce-a6fea71a237e"
   },
   "outputs": [
    {
     "data": {
      "image/png": "[encoded data removed]",
      "text/plain": [
       "<Figure size 1500x500 with 1 Axes>"
      ]
     },
     "metadata": {},
     "output_type": "display_data"
    }
   ],
   "source": [
    "\n",
    "# Calculate the counts and percentages\n",
    "counts = df_product['printer_related'].value_counts()\n",
    "percentages = df_product['printer_related'].value_counts(normalize=True) * 100\n",
    "\n",
    "# Create a figure with multiple subplots\n",
    "fig = plt.figure(figsize=(15, 5))\n",
    "\n",
    "\n",
    "\n",
    "# 3. Donut Chart\n",
    "\n",
    "plt.pie(counts, labels=['Non-Printer', 'Printer'], autopct='%1.1f%%',\n",
    "        colors=colors, startangle=90, pctdistance=0.85,\n",
    "        wedgeprops=dict(width=0.5))\n",
    "plt.title('Printer Distribution (Donut)')\n",
    "\n",
    "plt.tight_layout()\n",
    "plt.show()"
   ]
  },
  {
   "cell_type": "markdown",
   "metadata": {
    "id": "gjX2w0FjqFio"
   },
   "source": [
    "### Data analysis\n",
    "* only 2% data is realated to Printer."
   ]
  },
  {
   "cell_type": "markdown",
   "metadata": {
    "id": "79bbc864-6d2e-451e-8b62-3e8af264261f"
   },
   "source": [
    "### 1.2 Customer Transaction Info ##"
   ]
  },
  {
   "cell_type": "code",
   "execution_count": 93,
   "metadata": {
    "id": "ef4446eb-678e-4a40-9a4e-6d98c8f1d9be"
   },
   "outputs": [],
   "source": [
    "df_customer_tran =  pd.read_csv(\"./data/customer_transaction_info.csv\")"
   ]
  },
  {
   "cell_type": "code",
   "execution_count": 94,
   "metadata": {
    "colab": {
     "base_uri": "https://localhost:8080/"
    },
    "id": "4c294ee4-8909-49f6-b819-02f0ab4b3239",
    "outputId": "c96ee66f-bb6a-44b9-e31a-aaf3df212f05"
   },
   "outputs": [
    {
     "data": {
      "text/plain": [
       "(9994, 10)"
      ]
     },
     "execution_count": 94,
     "metadata": {},
     "output_type": "execute_result"
    }
   ],
   "source": [
    "df_customer_tran.shape"
   ]
  },
  {
   "cell_type": "code",
   "execution_count": null,
   "metadata": {
    "id": "XTshHSlasgv5"
   },
   "outputs": [],
   "source": []
  },
  {
   "cell_type": "code",
   "execution_count": 95,
   "metadata": {
    "colab": {
     "base_uri": "https://localhost:8080/",
     "height": 359
    },
    "id": "d00fd7cf-6781-42ad-b3ed-f5e4085ac04d",
    "outputId": "21897e1b-abc9-45ab-bf44-9d1b23f64def"
   },
   "outputs": [
    {
     "data": {
      "text/html": [
       "<div>\n",
       "<style scoped>\n",
       "    .dataframe tbody tr th:only-of-type {\n",
       "        vertical-align: middle;\n",
       "    }\n",
       "\n",
       "    .dataframe tbody tr th {\n",
       "        vertical-align: top;\n",
       "    }\n",
       "\n",
       "    .dataframe thead th {\n",
       "        text-align: right;\n",
       "    }\n",
       "</style>\n",
       "<table border=\"1\" class=\"dataframe\">\n",
       "  <thead>\n",
       "    <tr style=\"text-align: right;\">\n",
       "      <th></th>\n",
       "      <th>Order ID</th>\n",
       "      <th>Order Date</th>\n",
       "      <th>Ship Date</th>\n",
       "      <th>Ship Mode</th>\n",
       "      <th>Customer ID</th>\n",
       "      <th>Product ID</th>\n",
       "      <th>Sales</th>\n",
       "      <th>Quantity</th>\n",
       "      <th>Discount</th>\n",
       "      <th>Profit</th>\n",
       "    </tr>\n",
       "  </thead>\n",
       "  <tbody>\n",
       "    <tr>\n",
       "      <th>0</th>\n",
       "      <td>CA-2016-152156</td>\n",
       "      <td>08-11-2016</td>\n",
       "      <td>11-11-2016</td>\n",
       "      <td>Second Class</td>\n",
       "      <td>CG-12520</td>\n",
       "      <td>FUR-BO-10001798</td>\n",
       "      <td>261.9600</td>\n",
       "      <td>2</td>\n",
       "      <td>0.00</td>\n",
       "      <td>41.9136</td>\n",
       "    </tr>\n",
       "    <tr>\n",
       "      <th>1</th>\n",
       "      <td>CA-2016-152156</td>\n",
       "      <td>08-11-2016</td>\n",
       "      <td>11-11-2016</td>\n",
       "      <td>Second Class</td>\n",
       "      <td>CG-12520</td>\n",
       "      <td>FUR-CH-10000454</td>\n",
       "      <td>731.9400</td>\n",
       "      <td>3</td>\n",
       "      <td>0.00</td>\n",
       "      <td>219.5820</td>\n",
       "    </tr>\n",
       "    <tr>\n",
       "      <th>2</th>\n",
       "      <td>CA-2016-138688</td>\n",
       "      <td>12-06-2016</td>\n",
       "      <td>16-06-2016</td>\n",
       "      <td>Second Class</td>\n",
       "      <td>DV-13045</td>\n",
       "      <td>OFF-LA-10000240</td>\n",
       "      <td>14.6200</td>\n",
       "      <td>2</td>\n",
       "      <td>0.00</td>\n",
       "      <td>6.8714</td>\n",
       "    </tr>\n",
       "    <tr>\n",
       "      <th>3</th>\n",
       "      <td>US-2015-108966</td>\n",
       "      <td>11-10-2015</td>\n",
       "      <td>18-10-2015</td>\n",
       "      <td>Standard Class</td>\n",
       "      <td>SO-20335</td>\n",
       "      <td>FUR-TA-10000577</td>\n",
       "      <td>957.5775</td>\n",
       "      <td>5</td>\n",
       "      <td>0.45</td>\n",
       "      <td>-383.0310</td>\n",
       "    </tr>\n",
       "    <tr>\n",
       "      <th>4</th>\n",
       "      <td>US-2015-108966</td>\n",
       "      <td>11-10-2015</td>\n",
       "      <td>18-10-2015</td>\n",
       "      <td>Standard Class</td>\n",
       "      <td>SO-20335</td>\n",
       "      <td>OFF-ST-10000760</td>\n",
       "      <td>22.3680</td>\n",
       "      <td>2</td>\n",
       "      <td>0.20</td>\n",
       "      <td>2.5164</td>\n",
       "    </tr>\n",
       "    <tr>\n",
       "      <th>5</th>\n",
       "      <td>CA-2014-115812</td>\n",
       "      <td>09-06-2014</td>\n",
       "      <td>14-06-2014</td>\n",
       "      <td>Standard Class</td>\n",
       "      <td>BH-11710</td>\n",
       "      <td>FUR-FU-10001487</td>\n",
       "      <td>48.8600</td>\n",
       "      <td>7</td>\n",
       "      <td>0.00</td>\n",
       "      <td>14.1694</td>\n",
       "    </tr>\n",
       "  </tbody>\n",
       "</table>\n",
       "</div>"
      ],
      "text/plain": [
       "         Order ID  Order Date   Ship Date       Ship Mode Customer ID  \\\n",
       "0  CA-2016-152156  08-11-2016  11-11-2016    Second Class    CG-12520   \n",
       "1  CA-2016-152156  08-11-2016  11-11-2016    Second Class    CG-12520   \n",
       "2  CA-2016-138688  12-06-2016  16-06-2016    Second Class    DV-13045   \n",
       "3  US-2015-108966  11-10-2015  18-10-2015  Standard Class    SO-20335   \n",
       "4  US-2015-108966  11-10-2015  18-10-2015  Standard Class    SO-20335   \n",
       "5  CA-2014-115812  09-06-2014  14-06-2014  Standard Class    BH-11710   \n",
       "\n",
       "        Product ID     Sales  Quantity  Discount    Profit  \n",
       "0  FUR-BO-10001798  261.9600         2      0.00   41.9136  \n",
       "1  FUR-CH-10000454  731.9400         3      0.00  219.5820  \n",
       "2  OFF-LA-10000240   14.6200         2      0.00    6.8714  \n",
       "3  FUR-TA-10000577  957.5775         5      0.45 -383.0310  \n",
       "4  OFF-ST-10000760   22.3680         2      0.20    2.5164  \n",
       "5  FUR-FU-10001487   48.8600         7      0.00   14.1694  "
      ]
     },
     "execution_count": 95,
     "metadata": {},
     "output_type": "execute_result"
    }
   ],
   "source": [
    "df_customer_tran.head(6)"
   ]
  },
  {
   "cell_type": "code",
   "execution_count": 96,
   "metadata": {
    "colab": {
     "base_uri": "https://localhost:8080/"
    },
    "id": "e26b4d12-8d12-4e08-9063-5ce45bc76f11",
    "outputId": "e529692b-f829-4d46-e3b8-5c0225425a37"
   },
   "outputs": [
    {
     "name": "stdout",
     "output_type": "stream",
     "text": [
      "<class 'pandas.core.frame.DataFrame'>\n",
      "RangeIndex: 9994 entries, 0 to 9993\n",
      "Data columns (total 10 columns):\n",
      " #   Column       Non-Null Count  Dtype  \n",
      "---  ------       --------------  -----  \n",
      " 0   Order ID     9994 non-null   object \n",
      " 1   Order Date   9994 non-null   object \n",
      " 2   Ship Date    9994 non-null   object \n",
      " 3   Ship Mode    9994 non-null   object \n",
      " 4   Customer ID  9994 non-null   object \n",
      " 5   Product ID   9994 non-null   object \n",
      " 6   Sales        9994 non-null   float64\n",
      " 7   Quantity     9994 non-null   int64  \n",
      " 8   Discount     9994 non-null   float64\n",
      " 9   Profit       9994 non-null   float64\n",
      "dtypes: float64(3), int64(1), object(6)\n",
      "memory usage: 780.9+ KB\n"
     ]
    }
   ],
   "source": [
    "df_customer_tran.info()"
   ]
  },
  {
   "cell_type": "code",
   "execution_count": 97,
   "metadata": {
    "colab": {
     "base_uri": "https://localhost:8080/",
     "height": 397
    },
    "id": "cb0f5253-1924-4531-a64c-0011b1ffe9eb",
    "outputId": "b12f66c1-114d-40e6-d4a8-2c99ae866efb"
   },
   "outputs": [
    {
     "data": {
      "text/plain": [
       "Order ID       0\n",
       "Order Date     0\n",
       "Ship Date      0\n",
       "Ship Mode      0\n",
       "Customer ID    0\n",
       "Product ID     0\n",
       "Sales          0\n",
       "Quantity       0\n",
       "Discount       0\n",
       "Profit         0\n",
       "dtype: int64"
      ]
     },
     "execution_count": 97,
     "metadata": {},
     "output_type": "execute_result"
    }
   ],
   "source": [
    "# isnull() => if value is not present then return true else false, sum() will sum up all true values\n",
    "df_customer_tran.isnull().sum()"
   ]
  },
  {
   "cell_type": "code",
   "execution_count": 98,
   "metadata": {
    "colab": {
     "base_uri": "https://localhost:8080/",
     "height": 527
    },
    "id": "0c6515d6-10bc-4156-b6d7-d479f24a25e8",
    "outputId": "e9f35ed8-43b2-4498-b1df-979ecbd25bec"
   },
   "outputs": [
    {
     "data": {
      "text/plain": [
       "<Axes: >"
      ]
     },
     "execution_count": 98,
     "metadata": {},
     "output_type": "execute_result"
    },
    {
     "data": {
      "image/png": "[encoded data removed]",
      "text/plain": [
       "<Figure size 640x480 with 2 Axes>"
      ]
     },
     "metadata": {},
     "output_type": "display_data"
    }
   ],
   "source": [
    "# sns.heatmap is a function in the Seaborn library used to visualize data in a matrix format with color-coded values\n",
    "# white color is for null value, if screen is pink mean data have not null value\n",
    "sns.heatmap(df_customer_tran.isnull())"
   ]
  },
  {
   "cell_type": "markdown",
   "metadata": {
    "id": "mE2K7VAMqmEM"
   },
   "source": [
    "### Data analysis\n",
    "* white color is for null value, if screen is pink mean data have not null value"
   ]
  },
  {
   "cell_type": "code",
   "execution_count": 99,
   "metadata": {
    "id": "961de6f3-5a0f-4013-9e79-86dcc96cbcd8"
   },
   "outputs": [],
   "source": [
    "# timestamps are not in datetime formate so we are converting it to datetime\n",
    "df_customer_tran['Order Date'] = pd.to_datetime(df_customer_tran['Order Date'] , format=\"%d-%m-%Y\")\n",
    "df_customer_tran['Ship Date'] = pd.to_datetime(df_customer_tran['Ship Date'] , format=\"%d-%m-%Y\")"
   ]
  },
  {
   "cell_type": "code",
   "execution_count": 100,
   "metadata": {
    "colab": {
     "base_uri": "https://localhost:8080/"
    },
    "id": "8da91d4a-f7ca-4362-b729-eb618eb88533",
    "outputId": "79d335b7-4c3d-434f-a6a4-3e22f65ff058"
   },
   "outputs": [
    {
     "name": "stdout",
     "output_type": "stream",
     "text": [
      "<class 'pandas.core.frame.DataFrame'>\n",
      "RangeIndex: 9994 entries, 0 to 9993\n",
      "Data columns (total 10 columns):\n",
      " #   Column       Non-Null Count  Dtype         \n",
      "---  ------       --------------  -----         \n",
      " 0   Order ID     9994 non-null   object        \n",
      " 1   Order Date   9994 non-null   datetime64[ns]\n",
      " 2   Ship Date    9994 non-null   datetime64[ns]\n",
      " 3   Ship Mode    9994 non-null   object        \n",
      " 4   Customer ID  9994 non-null   object        \n",
      " 5   Product ID   9994 non-null   object        \n",
      " 6   Sales        9994 non-null   float64       \n",
      " 7   Quantity     9994 non-null   int64         \n",
      " 8   Discount     9994 non-null   float64       \n",
      " 9   Profit       9994 non-null   float64       \n",
      "dtypes: datetime64[ns](2), float64(3), int64(1), object(4)\n",
      "memory usage: 780.9+ KB\n"
     ]
    }
   ],
   "source": [
    "df_customer_tran.info()"
   ]
  },
  {
   "cell_type": "markdown",
   "metadata": {
    "id": "9a5bbe1d-93ab-40c7-a519-0a31c6933472"
   },
   "source": [
    "## Feature Engineering ##"
   ]
  },
  {
   "cell_type": "markdown",
   "metadata": {
    "id": "7b45929b-172b-47cd-8f76-3f789ff63eb4"
   },
   "source": [
    "**1. Date Features (Order Date, Ship Date)**"
   ]
  },
  {
   "cell_type": "code",
   "execution_count": 101,
   "metadata": {
    "id": "6df5b318-6469-4c61-8868-00af71e01274"
   },
   "outputs": [],
   "source": [
    "# Extract time-related features\n",
    "df_customer_tran['Order Year'] = df_customer_tran['Order Date'].dt.year\n",
    "df_customer_tran['Order Month'] = df_customer_tran['Order Date'].dt.month\n",
    "df_customer_tran['Order Day'] = df_customer_tran['Order Date'].dt.day\n",
    "df_customer_tran['Order Day of Week'] = df_customer_tran['Order Date'].dt.dayofweek\n",
    "\n",
    "# Calculate time duration between order and shipping\n",
    "df_customer_tran['Order to Ship Duration'] = (df_customer_tran['Ship Date'] - df_customer_tran['Order Date']).dt.days"
   ]
  },
  {
   "cell_type": "code",
   "execution_count": 102,
   "metadata": {
    "colab": {
     "base_uri": "https://localhost:8080/",
     "height": 452
    },
    "id": "5bd19255-7f93-4850-b1ec-dda8c84c63e9",
    "outputId": "6d56e243-3160-45e1-f091-d30141774c47"
   },
   "outputs": [
    {
     "data": {
      "text/html": [
       "<div>\n",
       "<style scoped>\n",
       "    .dataframe tbody tr th:only-of-type {\n",
       "        vertical-align: middle;\n",
       "    }\n",
       "\n",
       "    .dataframe tbody tr th {\n",
       "        vertical-align: top;\n",
       "    }\n",
       "\n",
       "    .dataframe thead th {\n",
       "        text-align: right;\n",
       "    }\n",
       "</style>\n",
       "<table border=\"1\" class=\"dataframe\">\n",
       "  <thead>\n",
       "    <tr style=\"text-align: right;\">\n",
       "      <th></th>\n",
       "      <th>Order ID</th>\n",
       "      <th>Order Date</th>\n",
       "      <th>Ship Date</th>\n",
       "      <th>Ship Mode</th>\n",
       "      <th>Customer ID</th>\n",
       "      <th>Product ID</th>\n",
       "      <th>Sales</th>\n",
       "      <th>Quantity</th>\n",
       "      <th>Discount</th>\n",
       "      <th>Profit</th>\n",
       "      <th>Order Year</th>\n",
       "      <th>Order Month</th>\n",
       "      <th>Order Day</th>\n",
       "      <th>Order Day of Week</th>\n",
       "      <th>Order to Ship Duration</th>\n",
       "    </tr>\n",
       "  </thead>\n",
       "  <tbody>\n",
       "    <tr>\n",
       "      <th>0</th>\n",
       "      <td>CA-2016-152156</td>\n",
       "      <td>2016-11-08</td>\n",
       "      <td>2016-11-11</td>\n",
       "      <td>Second Class</td>\n",
       "      <td>CG-12520</td>\n",
       "      <td>FUR-BO-10001798</td>\n",
       "      <td>261.9600</td>\n",
       "      <td>2</td>\n",
       "      <td>0.00</td>\n",
       "      <td>41.9136</td>\n",
       "      <td>2016</td>\n",
       "      <td>11</td>\n",
       "      <td>8</td>\n",
       "      <td>1</td>\n",
       "      <td>3</td>\n",
       "    </tr>\n",
       "    <tr>\n",
       "      <th>1</th>\n",
       "      <td>CA-2016-152156</td>\n",
       "      <td>2016-11-08</td>\n",
       "      <td>2016-11-11</td>\n",
       "      <td>Second Class</td>\n",
       "      <td>CG-12520</td>\n",
       "      <td>FUR-CH-10000454</td>\n",
       "      <td>731.9400</td>\n",
       "      <td>3</td>\n",
       "      <td>0.00</td>\n",
       "      <td>219.5820</td>\n",
       "      <td>2016</td>\n",
       "      <td>11</td>\n",
       "      <td>8</td>\n",
       "      <td>1</td>\n",
       "      <td>3</td>\n",
       "    </tr>\n",
       "    <tr>\n",
       "      <th>2</th>\n",
       "      <td>CA-2016-138688</td>\n",
       "      <td>2016-06-12</td>\n",
       "      <td>2016-06-16</td>\n",
       "      <td>Second Class</td>\n",
       "      <td>DV-13045</td>\n",
       "      <td>OFF-LA-10000240</td>\n",
       "      <td>14.6200</td>\n",
       "      <td>2</td>\n",
       "      <td>0.00</td>\n",
       "      <td>6.8714</td>\n",
       "      <td>2016</td>\n",
       "      <td>6</td>\n",
       "      <td>12</td>\n",
       "      <td>6</td>\n",
       "      <td>4</td>\n",
       "    </tr>\n",
       "    <tr>\n",
       "      <th>3</th>\n",
       "      <td>US-2015-108966</td>\n",
       "      <td>2015-10-11</td>\n",
       "      <td>2015-10-18</td>\n",
       "      <td>Standard Class</td>\n",
       "      <td>SO-20335</td>\n",
       "      <td>FUR-TA-10000577</td>\n",
       "      <td>957.5775</td>\n",
       "      <td>5</td>\n",
       "      <td>0.45</td>\n",
       "      <td>-383.0310</td>\n",
       "      <td>2015</td>\n",
       "      <td>10</td>\n",
       "      <td>11</td>\n",
       "      <td>6</td>\n",
       "      <td>7</td>\n",
       "    </tr>\n",
       "    <tr>\n",
       "      <th>4</th>\n",
       "      <td>US-2015-108966</td>\n",
       "      <td>2015-10-11</td>\n",
       "      <td>2015-10-18</td>\n",
       "      <td>Standard Class</td>\n",
       "      <td>SO-20335</td>\n",
       "      <td>OFF-ST-10000760</td>\n",
       "      <td>22.3680</td>\n",
       "      <td>2</td>\n",
       "      <td>0.20</td>\n",
       "      <td>2.5164</td>\n",
       "      <td>2015</td>\n",
       "      <td>10</td>\n",
       "      <td>11</td>\n",
       "      <td>6</td>\n",
       "      <td>7</td>\n",
       "    </tr>\n",
       "  </tbody>\n",
       "</table>\n",
       "</div>"
      ],
      "text/plain": [
       "         Order ID Order Date  Ship Date       Ship Mode Customer ID  \\\n",
       "0  CA-2016-152156 2016-11-08 2016-11-11    Second Class    CG-12520   \n",
       "1  CA-2016-152156 2016-11-08 2016-11-11    Second Class    CG-12520   \n",
       "2  CA-2016-138688 2016-06-12 2016-06-16    Second Class    DV-13045   \n",
       "3  US-2015-108966 2015-10-11 2015-10-18  Standard Class    SO-20335   \n",
       "4  US-2015-108966 2015-10-11 2015-10-18  Standard Class    SO-20335   \n",
       "\n",
       "        Product ID     Sales  Quantity  Discount    Profit  Order Year  \\\n",
       "0  FUR-BO-10001798  261.9600         2      0.00   41.9136        2016   \n",
       "1  FUR-CH-10000454  731.9400         3      0.00  219.5820        2016   \n",
       "2  OFF-LA-10000240   14.6200         2      0.00    6.8714        2016   \n",
       "3  FUR-TA-10000577  957.5775         5      0.45 -383.0310        2015   \n",
       "4  OFF-ST-10000760   22.3680         2      0.20    2.5164        2015   \n",
       "\n",
       "   Order Month  Order Day  Order Day of Week  Order to Ship Duration  \n",
       "0           11          8                  1                       3  \n",
       "1           11          8                  1                       3  \n",
       "2            6         12                  6                       4  \n",
       "3           10         11                  6                       7  \n",
       "4           10         11                  6                       7  "
      ]
     },
     "execution_count": 102,
     "metadata": {},
     "output_type": "execute_result"
    }
   ],
   "source": [
    "df_customer_tran.head()"
   ]
  },
  {
   "cell_type": "markdown",
   "metadata": {
    "id": "1107c382-330b-4793-b985-61cafddd3068"
   },
   "source": [
    "**2. Sales-Related Features (Sales, Quantity, Discount, Profit)**"
   ]
  },
  {
   "cell_type": "markdown",
   "metadata": {
    "id": "f52a15c7-f30f-40c3-b953-8d9c03fe17a2"
   },
   "source": [
    "- Total Revenue"
   ]
  },
  {
   "cell_type": "code",
   "execution_count": 103,
   "metadata": {
    "id": "e8c79906-52de-493d-9b5c-ea825a553f94"
   },
   "outputs": [],
   "source": [
    "# Create new features\n",
    "df_customer_tran['Total Revenue'] = df_customer_tran['Sales'] * df_customer_tran['Quantity']\n"
   ]
  },
  {
   "cell_type": "markdown",
   "metadata": {
    "id": "819c1e9e-070e-4074-9529-4f8e2e36ce3f"
   },
   "source": [
    "- Average Profit per Unit"
   ]
  },
  {
   "cell_type": "code",
   "execution_count": 104,
   "metadata": {
    "id": "44f33a75-9b6e-4b49-9599-d2102de32b2b"
   },
   "outputs": [],
   "source": [
    "\n",
    "df_customer_tran['Average Profit per Unit'] = df_customer_tran['Profit'] / df_customer_tran['Quantity']\n"
   ]
  },
  {
   "cell_type": "markdown",
   "metadata": {
    "id": "49f2b813-c8fd-4615-8db7-8f1503c8178d"
   },
   "source": [
    "- Profit Margin"
   ]
  },
  {
   "cell_type": "code",
   "execution_count": 105,
   "metadata": {
    "id": "de5941b0-2671-4461-9332-d37006a798ee"
   },
   "outputs": [],
   "source": [
    "\n",
    "df_customer_tran['Profit Margin'] = df_customer_tran['Profit'] / df_customer_tran['Sales']\n"
   ]
  },
  {
   "cell_type": "markdown",
   "metadata": {
    "id": "0e8eacde-3652-4ae6-97cc-67bc6e99407d"
   },
   "source": [
    "- Discount Impact on Profit"
   ]
  },
  {
   "cell_type": "code",
   "execution_count": 106,
   "metadata": {
    "id": "00b98514-364a-4ca9-b0c1-a95388b5c96b"
   },
   "outputs": [],
   "source": [
    "\n",
    "df_customer_tran['Discounted Sales'] = df_customer_tran['Sales'] * (1 - df_customer_tran['Discount'])\n"
   ]
  },
  {
   "cell_type": "markdown",
   "metadata": {
    "id": "41596234-b1c9-412d-8d2f-c6885a6458a0"
   },
   "source": [
    "- High-Value Customers: based on total sales"
   ]
  },
  {
   "cell_type": "code",
   "execution_count": 107,
   "metadata": {
    "id": "365c9b7e-154d-49cf-b394-55c915508d85"
   },
   "outputs": [],
   "source": [
    "\n",
    "df_customer_tran['High Value Customer'] = df_customer_tran.groupby('Customer ID')['Sales'].transform(lambda x: x.sum() > 1000)\n"
   ]
  },
  {
   "cell_type": "code",
   "execution_count": 108,
   "metadata": {
    "colab": {
     "base_uri": "https://localhost:8080/",
     "height": 452
    },
    "id": "894d77da-9396-4712-83ed-0c85db0a6a8f",
    "outputId": "1fddf95f-9b00-4311-f038-8ff6124beb28"
   },
   "outputs": [
    {
     "data": {
      "text/html": [
       "<div>\n",
       "<style scoped>\n",
       "    .dataframe tbody tr th:only-of-type {\n",
       "        vertical-align: middle;\n",
       "    }\n",
       "\n",
       "    .dataframe tbody tr th {\n",
       "        vertical-align: top;\n",
       "    }\n",
       "\n",
       "    .dataframe thead th {\n",
       "        text-align: right;\n",
       "    }\n",
       "</style>\n",
       "<table border=\"1\" class=\"dataframe\">\n",
       "  <thead>\n",
       "    <tr style=\"text-align: right;\">\n",
       "      <th></th>\n",
       "      <th>Order ID</th>\n",
       "      <th>Order Date</th>\n",
       "      <th>Ship Date</th>\n",
       "      <th>Ship Mode</th>\n",
       "      <th>Customer ID</th>\n",
       "      <th>Product ID</th>\n",
       "      <th>Sales</th>\n",
       "      <th>Quantity</th>\n",
       "      <th>Discount</th>\n",
       "      <th>Profit</th>\n",
       "      <th>Order Year</th>\n",
       "      <th>Order Month</th>\n",
       "      <th>Order Day</th>\n",
       "      <th>Order Day of Week</th>\n",
       "      <th>Order to Ship Duration</th>\n",
       "      <th>Total Revenue</th>\n",
       "      <th>Average Profit per Unit</th>\n",
       "      <th>Profit Margin</th>\n",
       "      <th>Discounted Sales</th>\n",
       "      <th>High Value Customer</th>\n",
       "    </tr>\n",
       "  </thead>\n",
       "  <tbody>\n",
       "    <tr>\n",
       "      <th>0</th>\n",
       "      <td>CA-2016-152156</td>\n",
       "      <td>2016-11-08</td>\n",
       "      <td>2016-11-11</td>\n",
       "      <td>Second Class</td>\n",
       "      <td>CG-12520</td>\n",
       "      <td>FUR-BO-10001798</td>\n",
       "      <td>261.9600</td>\n",
       "      <td>2</td>\n",
       "      <td>0.00</td>\n",
       "      <td>41.9136</td>\n",
       "      <td>2016</td>\n",
       "      <td>11</td>\n",
       "      <td>8</td>\n",
       "      <td>1</td>\n",
       "      <td>3</td>\n",
       "      <td>523.9200</td>\n",
       "      <td>20.9568</td>\n",
       "      <td>0.1600</td>\n",
       "      <td>261.960000</td>\n",
       "      <td>True</td>\n",
       "    </tr>\n",
       "    <tr>\n",
       "      <th>1</th>\n",
       "      <td>CA-2016-152156</td>\n",
       "      <td>2016-11-08</td>\n",
       "      <td>2016-11-11</td>\n",
       "      <td>Second Class</td>\n",
       "      <td>CG-12520</td>\n",
       "      <td>FUR-CH-10000454</td>\n",
       "      <td>731.9400</td>\n",
       "      <td>3</td>\n",
       "      <td>0.00</td>\n",
       "      <td>219.5820</td>\n",
       "      <td>2016</td>\n",
       "      <td>11</td>\n",
       "      <td>8</td>\n",
       "      <td>1</td>\n",
       "      <td>3</td>\n",
       "      <td>2195.8200</td>\n",
       "      <td>73.1940</td>\n",
       "      <td>0.3000</td>\n",
       "      <td>731.940000</td>\n",
       "      <td>True</td>\n",
       "    </tr>\n",
       "    <tr>\n",
       "      <th>2</th>\n",
       "      <td>CA-2016-138688</td>\n",
       "      <td>2016-06-12</td>\n",
       "      <td>2016-06-16</td>\n",
       "      <td>Second Class</td>\n",
       "      <td>DV-13045</td>\n",
       "      <td>OFF-LA-10000240</td>\n",
       "      <td>14.6200</td>\n",
       "      <td>2</td>\n",
       "      <td>0.00</td>\n",
       "      <td>6.8714</td>\n",
       "      <td>2016</td>\n",
       "      <td>6</td>\n",
       "      <td>12</td>\n",
       "      <td>6</td>\n",
       "      <td>4</td>\n",
       "      <td>29.2400</td>\n",
       "      <td>3.4357</td>\n",
       "      <td>0.4700</td>\n",
       "      <td>14.620000</td>\n",
       "      <td>True</td>\n",
       "    </tr>\n",
       "    <tr>\n",
       "      <th>3</th>\n",
       "      <td>US-2015-108966</td>\n",
       "      <td>2015-10-11</td>\n",
       "      <td>2015-10-18</td>\n",
       "      <td>Standard Class</td>\n",
       "      <td>SO-20335</td>\n",
       "      <td>FUR-TA-10000577</td>\n",
       "      <td>957.5775</td>\n",
       "      <td>5</td>\n",
       "      <td>0.45</td>\n",
       "      <td>-383.0310</td>\n",
       "      <td>2015</td>\n",
       "      <td>10</td>\n",
       "      <td>11</td>\n",
       "      <td>6</td>\n",
       "      <td>7</td>\n",
       "      <td>4787.8875</td>\n",
       "      <td>-76.6062</td>\n",
       "      <td>-0.4000</td>\n",
       "      <td>526.667625</td>\n",
       "      <td>True</td>\n",
       "    </tr>\n",
       "    <tr>\n",
       "      <th>4</th>\n",
       "      <td>US-2015-108966</td>\n",
       "      <td>2015-10-11</td>\n",
       "      <td>2015-10-18</td>\n",
       "      <td>Standard Class</td>\n",
       "      <td>SO-20335</td>\n",
       "      <td>OFF-ST-10000760</td>\n",
       "      <td>22.3680</td>\n",
       "      <td>2</td>\n",
       "      <td>0.20</td>\n",
       "      <td>2.5164</td>\n",
       "      <td>2015</td>\n",
       "      <td>10</td>\n",
       "      <td>11</td>\n",
       "      <td>6</td>\n",
       "      <td>7</td>\n",
       "      <td>44.7360</td>\n",
       "      <td>1.2582</td>\n",
       "      <td>0.1125</td>\n",
       "      <td>17.894400</td>\n",
       "      <td>True</td>\n",
       "    </tr>\n",
       "  </tbody>\n",
       "</table>\n",
       "</div>"
      ],
      "text/plain": [
       "         Order ID Order Date  Ship Date       Ship Mode Customer ID  \\\n",
       "0  CA-2016-152156 2016-11-08 2016-11-11    Second Class    CG-12520   \n",
       "1  CA-2016-152156 2016-11-08 2016-11-11    Second Class    CG-12520   \n",
       "2  CA-2016-138688 2016-06-12 2016-06-16    Second Class    DV-13045   \n",
       "3  US-2015-108966 2015-10-11 2015-10-18  Standard Class    SO-20335   \n",
       "4  US-2015-108966 2015-10-11 2015-10-18  Standard Class    SO-20335   \n",
       "\n",
       "        Product ID     Sales  Quantity  Discount    Profit  Order Year  \\\n",
       "0  FUR-BO-10001798  261.9600         2      0.00   41.9136        2016   \n",
       "1  FUR-CH-10000454  731.9400         3      0.00  219.5820        2016   \n",
       "2  OFF-LA-10000240   14.6200         2      0.00    6.8714        2016   \n",
       "3  FUR-TA-10000577  957.5775         5      0.45 -383.0310        2015   \n",
       "4  OFF-ST-10000760   22.3680         2      0.20    2.5164        2015   \n",
       "\n",
       "   Order Month  Order Day  Order Day of Week  Order to Ship Duration  \\\n",
       "0           11          8                  1                       3   \n",
       "1           11          8                  1                       3   \n",
       "2            6         12                  6                       4   \n",
       "3           10         11                  6                       7   \n",
       "4           10         11                  6                       7   \n",
       "\n",
       "   Total Revenue  Average Profit per Unit  Profit Margin  Discounted Sales  \\\n",
       "0       523.9200                  20.9568         0.1600        261.960000   \n",
       "1      2195.8200                  73.1940         0.3000        731.940000   \n",
       "2        29.2400                   3.4357         0.4700         14.620000   \n",
       "3      4787.8875                 -76.6062        -0.4000        526.667625   \n",
       "4        44.7360                   1.2582         0.1125         17.894400   \n",
       "\n",
       "   High Value Customer  \n",
       "0                 True  \n",
       "1                 True  \n",
       "2                 True  \n",
       "3                 True  \n",
       "4                 True  "
      ]
     },
     "execution_count": 108,
     "metadata": {},
     "output_type": "execute_result"
    }
   ],
   "source": [
    "df_customer_tran.head()"
   ]
  },
  {
   "cell_type": "markdown",
   "metadata": {
    "id": "dcc95a40-31ae-4a0e-9735-a4f227a79eac"
   },
   "source": [
    "# Information Plots\n",
    "\n",
    " 1. Order Distribution Over the Year"
   ]
  },
  {
   "cell_type": "code",
   "execution_count": 109,
   "metadata": {
    "colab": {
     "base_uri": "https://localhost:8080/",
     "height": 597
    },
    "id": "4170b46a-2068-4a6a-8972-be039daae3be",
    "outputId": "c12093eb-7c5b-458b-ff49-9347295e9c83"
   },
   "outputs": [
    {
     "data": {
      "image/png": "[encoded data removed]",
      "text/plain": [
       "<Figure size 1000x500 with 1 Axes>"
      ]
     },
     "metadata": {},
     "output_type": "display_data"
    }
   ],
   "source": [
    "\n",
    "plt.figure(figsize=(10, 5))\n",
    "sns.countplot(data=df_customer_tran, x='Order Month', palette='coolwarm')\n",
    "plt.title('Orders per Month')\n",
    "plt.xlabel('Month')\n",
    "plt.ylabel('Count')\n",
    "plt.show()\n"
   ]
  },
  {
   "cell_type": "markdown",
   "metadata": {
    "id": "e86a196b-7a2e-4c7f-b154-b0afd82d81eb"
   },
   "source": [
    "📊 **Insight: This shows seasonal order trends**"
   ]
  },
  {
   "cell_type": "markdown",
   "metadata": {
    "id": "b8f4731d-5275-4414-932b-eb74a1a15f5f"
   },
   "source": [
    "### 2. Sales by Order Day"
   ]
  },
  {
   "cell_type": "code",
   "execution_count": 110,
   "metadata": {
    "colab": {
     "base_uri": "https://localhost:8080/",
     "height": 492
    },
    "id": "529d1226-25d1-4b26-b1f0-2905c427b7d5",
    "outputId": "0e379657-dd05-4853-abd9-fe6f44f02943"
   },
   "outputs": [
    {
     "data": {
      "text/plain": [
       "<Figure size 1000x600 with 0 Axes>"
      ]
     },
     "metadata": {},
     "output_type": "display_data"
    },
    {
     "data": {
      "image/png": "[encoded data removed]",
      "text/plain": [
       "<Figure size 640x480 with 1 Axes>"
      ]
     },
     "metadata": {},
     "output_type": "display_data"
    }
   ],
   "source": [
    "plt.figure(figsize=(10, 6))\n",
    "order_day_sales = df_customer_tran.groupby(['Order Day of Week', 'Ship Mode'])['Sales'].sum().unstack()\n",
    "order_day_sales.plot(kind='bar', stacked=True, colormap='viridis')\n",
    "\n",
    "plt.title('Sales by Order Day (Stacked)')\n",
    "plt.xlabel('Order Day of Week')\n",
    "plt.ylabel('Total Sales')\n",
    "plt.legend(title='Ship Mode')\n",
    "plt.xticks(rotation=45)\n",
    "plt.grid(axis='y', linestyle='--', alpha=0.7)\n",
    "\n",
    "plt.show()\n"
   ]
  },
  {
   "cell_type": "markdown",
   "metadata": {
    "id": "6385816c-b841-44a1-a6fe-5eef4ce54504"
   },
   "source": [
    "### 3. Total Revenue by Order Day (Line Plot)"
   ]
  },
  {
   "cell_type": "code",
   "execution_count": 111,
   "metadata": {
    "colab": {
     "base_uri": "https://localhost:8080/",
     "height": 564
    },
    "id": "27454f62-48a6-4258-a137-e7be7aa47c55",
    "outputId": "36a0f25d-9935-4479-aedb-d64c84a4bc86"
   },
   "outputs": [
    {
     "data": {
      "image/png": "[encoded data removed]",
      "text/plain": [
       "<Figure size 800x600 with 1 Axes>"
      ]
     },
     "metadata": {},
     "output_type": "display_data"
    }
   ],
   "source": [
    "plt.figure(figsize=(8, 6))\n",
    "sns.lineplot(data=df_customer_tran, x='Order Day', y='Sales', color='purple')\n",
    "plt.xlabel('Order Day')\n",
    "plt.ylabel('Total Revenue')\n",
    "plt.title('Total Revenue by Order Day')\n",
    "plt.grid(True)\n",
    "plt.show()\n"
   ]
  },
  {
   "cell_type": "markdown",
   "metadata": {
    "id": "0fb8c031-fe21-4781-bfbc-06cda70261ee"
   },
   "source": [
    "### 4. Sales vs. Profit Scatter Plot"
   ]
  },
  {
   "cell_type": "code",
   "execution_count": 112,
   "metadata": {
    "colab": {
     "base_uri": "https://localhost:8080/",
     "height": 564
    },
    "id": "340eaedc-5404-4760-abc4-b1d13413b9f8",
    "outputId": "4ccf295d-07fc-4ce1-c372-4d54218e3c19"
   },
   "outputs": [
    {
     "data": {
      "image/png": "[encoded data removed]",
      "text/plain": [
       "<Figure size 800x600 with 1 Axes>"
      ]
     },
     "metadata": {},
     "output_type": "display_data"
    }
   ],
   "source": [
    "plt.figure(figsize=(8, 6))\n",
    "sns.scatterplot(data=df_customer_tran, x='Sales', y='Profit', hue='Discount', palette='coolwarm')\n",
    "plt.title('Sales vs Profit (Color: Discount)')\n",
    "plt.xlabel('Sales')\n",
    "plt.ylabel('Profit')\n",
    "plt.show()"
   ]
  },
  {
   "cell_type": "markdown",
   "metadata": {
    "id": "5489bb12-583a-4526-8229-fa8a5ddcb956"
   },
   "source": [
    "**📊 Insight: Shows the relationship between sales, profit, and discounts.**"
   ]
  },
  {
   "cell_type": "markdown",
   "metadata": {
    "id": "47a036ea-b4eb-42e0-a6a2-a8480be8d3cf"
   },
   "source": [
    "### 5. Profit Margin Distribution"
   ]
  },
  {
   "cell_type": "code",
   "execution_count": 113,
   "metadata": {
    "colab": {
     "base_uri": "https://localhost:8080/",
     "height": 487
    },
    "id": "2c76182c-c702-405a-aeba-92467046de23",
    "outputId": "0462bca6-79e1-46aa-d0de-cc3c4858799b"
   },
   "outputs": [
    {
     "data": {
      "image/png": "[encoded data removed]",
      "text/plain": [
       "<Figure size 800x500 with 1 Axes>"
      ]
     },
     "metadata": {},
     "output_type": "display_data"
    }
   ],
   "source": [
    "plt.figure(figsize=(8, 5))\n",
    "sns.histplot(df_customer_tran['Profit Margin'], bins=20, kde=True, color='green')\n",
    "plt.title('Profit Margin Distribution')\n",
    "plt.xlabel('Profit Margin')\n",
    "plt.ylabel('Count')\n",
    "plt.show()"
   ]
  },
  {
   "cell_type": "markdown",
   "metadata": {
    "id": "b60d8066-ac42-4bfa-a02d-9e13f10cfa0f"
   },
   "source": [
    "**📊 Insight: Understands how profitable transactions are.**"
   ]
  },
  {
   "cell_type": "markdown",
   "metadata": {
    "id": "5f134b1d-102a-44c7-849c-e5a06d8839ae"
   },
   "source": [
    "### 6. Ship Mode Preference"
   ]
  },
  {
   "cell_type": "code",
   "execution_count": 114,
   "metadata": {
    "colab": {
     "base_uri": "https://localhost:8080/",
     "height": 520
    },
    "id": "6053f3c3-1af5-42e9-b11a-4ac1ec3a4343",
    "outputId": "0ba1f110-e782-4801-a275-98e27ac68e4b"
   },
   "outputs": [
    {
     "data": {
      "image/png": "[encoded data removed]",
      "text/plain": [
       "<Figure size 600x400 with 1 Axes>"
      ]
     },
     "metadata": {},
     "output_type": "display_data"
    }
   ],
   "source": [
    "plt.figure(figsize=(6, 4))\n",
    "sns.countplot(data=df_customer_tran, x='Ship Mode', palette='Set2')\n",
    "plt.title('Shipping Mode Distribution')\n",
    "plt.xlabel('Ship Mode')\n",
    "plt.ylabel('Count')\n",
    "plt.show()"
   ]
  },
  {
   "cell_type": "markdown",
   "metadata": {
    "id": "811b5ed6-99b6-42f2-8752-45fc2301638e"
   },
   "source": [
    "**📊 Insight: Analyzes the most preferred shipping method.**"
   ]
  },
  {
   "cell_type": "markdown",
   "metadata": {
    "id": "68cc89fc-a82f-400a-9634-288b700c4f7e"
   },
   "source": [
    "**1. Highest number of orders are placed on Monday, Tuesday and least orders on Sunday**\n",
    "\n",
    "**2. Highest revenue is generated on Monday and Wednesday**\n",
    "\n",
    "**3. Highest revenue are generated at 17th day of month followed by peaks at start, end of month**\n",
    "\n",
    "**4. In most of orders no discounts were given, followed by 0.2% discount**"
   ]
  },
  {
   "cell_type": "markdown",
   "metadata": {
    "id": "9c4c6017-1476-4855-bf02-1b175e50178c"
   },
   "source": [
    "## 1.3 Customer Info"
   ]
  },
  {
   "cell_type": "code",
   "execution_count": 115,
   "metadata": {
    "id": "50cfe476-b7fd-476e-9495-eae06adcf1a7"
   },
   "outputs": [],
   "source": [
    "df_customer_info = pd.read_csv(\"./data/customers_info.csv\")"
   ]
  },
  {
   "cell_type": "code",
   "execution_count": 116,
   "metadata": {
    "colab": {
     "base_uri": "https://localhost:8080/"
    },
    "id": "001a4788-d47a-4d8c-9685-f5a450d1b541",
    "outputId": "c02a311a-993b-4b77-b45d-fe91c38849a8"
   },
   "outputs": [
    {
     "data": {
      "text/plain": [
       "(4910, 8)"
      ]
     },
     "execution_count": 116,
     "metadata": {},
     "output_type": "execute_result"
    }
   ],
   "source": [
    "df_customer_info.shape"
   ]
  },
  {
   "cell_type": "code",
   "execution_count": 117,
   "metadata": {
    "colab": {
     "base_uri": "https://localhost:8080/",
     "height": 206
    },
    "id": "c025f113-f6de-4194-a9a7-7183a3ecff07",
    "outputId": "e2ad8f34-1927-4bb4-9d0c-fad0f3402a92"
   },
   "outputs": [
    {
     "data": {
      "text/html": [
       "<div>\n",
       "<style scoped>\n",
       "    .dataframe tbody tr th:only-of-type {\n",
       "        vertical-align: middle;\n",
       "    }\n",
       "\n",
       "    .dataframe tbody tr th {\n",
       "        vertical-align: top;\n",
       "    }\n",
       "\n",
       "    .dataframe thead th {\n",
       "        text-align: right;\n",
       "    }\n",
       "</style>\n",
       "<table border=\"1\" class=\"dataframe\">\n",
       "  <thead>\n",
       "    <tr style=\"text-align: right;\">\n",
       "      <th></th>\n",
       "      <th>Customer ID</th>\n",
       "      <th>Customer Name</th>\n",
       "      <th>Segment</th>\n",
       "      <th>Country</th>\n",
       "      <th>City</th>\n",
       "      <th>State</th>\n",
       "      <th>Postal Code</th>\n",
       "      <th>Region</th>\n",
       "    </tr>\n",
       "  </thead>\n",
       "  <tbody>\n",
       "    <tr>\n",
       "      <th>0</th>\n",
       "      <td>CG-12520</td>\n",
       "      <td>Claire Gute</td>\n",
       "      <td>Consumer</td>\n",
       "      <td>United States</td>\n",
       "      <td>Henderson</td>\n",
       "      <td>Kentucky</td>\n",
       "      <td>42420</td>\n",
       "      <td>South</td>\n",
       "    </tr>\n",
       "    <tr>\n",
       "      <th>1</th>\n",
       "      <td>DV-13045</td>\n",
       "      <td>Darrin Van Huff</td>\n",
       "      <td>Corporate</td>\n",
       "      <td>United States</td>\n",
       "      <td>Los Angeles</td>\n",
       "      <td>California</td>\n",
       "      <td>90036</td>\n",
       "      <td>West</td>\n",
       "    </tr>\n",
       "    <tr>\n",
       "      <th>2</th>\n",
       "      <td>SO-20335</td>\n",
       "      <td>Sean O'Donnell</td>\n",
       "      <td>Consumer</td>\n",
       "      <td>United States</td>\n",
       "      <td>Fort Lauderdale</td>\n",
       "      <td>Florida</td>\n",
       "      <td>33311</td>\n",
       "      <td>South</td>\n",
       "    </tr>\n",
       "    <tr>\n",
       "      <th>3</th>\n",
       "      <td>BH-11710</td>\n",
       "      <td>Brosina Hoffman</td>\n",
       "      <td>Consumer</td>\n",
       "      <td>United States</td>\n",
       "      <td>Los Angeles</td>\n",
       "      <td>California</td>\n",
       "      <td>90032</td>\n",
       "      <td>West</td>\n",
       "    </tr>\n",
       "    <tr>\n",
       "      <th>4</th>\n",
       "      <td>AA-10480</td>\n",
       "      <td>Andrew Allen</td>\n",
       "      <td>Consumer</td>\n",
       "      <td>United States</td>\n",
       "      <td>Concord</td>\n",
       "      <td>North Carolina</td>\n",
       "      <td>28027</td>\n",
       "      <td>South</td>\n",
       "    </tr>\n",
       "  </tbody>\n",
       "</table>\n",
       "</div>"
      ],
      "text/plain": [
       "  Customer ID    Customer Name    Segment        Country             City  \\\n",
       "0    CG-12520      Claire Gute   Consumer  United States        Henderson   \n",
       "1    DV-13045  Darrin Van Huff  Corporate  United States      Los Angeles   \n",
       "2    SO-20335   Sean O'Donnell   Consumer  United States  Fort Lauderdale   \n",
       "3    BH-11710  Brosina Hoffman   Consumer  United States      Los Angeles   \n",
       "4    AA-10480     Andrew Allen   Consumer  United States          Concord   \n",
       "\n",
       "            State  Postal Code Region  \n",
       "0        Kentucky        42420  South  \n",
       "1      California        90036   West  \n",
       "2         Florida        33311  South  \n",
       "3      California        90032   West  \n",
       "4  North Carolina        28027  South  "
      ]
     },
     "execution_count": 117,
     "metadata": {},
     "output_type": "execute_result"
    }
   ],
   "source": [
    "df_customer_info.head()"
   ]
  },
  {
   "cell_type": "code",
   "execution_count": 118,
   "metadata": {
    "colab": {
     "base_uri": "https://localhost:8080/"
    },
    "id": "8853b412-25d6-4ea3-aad4-b9df424bd2aa",
    "outputId": "4620b949-a81a-4a65-d770-6df7ec545019"
   },
   "outputs": [
    {
     "name": "stdout",
     "output_type": "stream",
     "text": [
      "<class 'pandas.core.frame.DataFrame'>\n",
      "RangeIndex: 4910 entries, 0 to 4909\n",
      "Data columns (total 8 columns):\n",
      " #   Column         Non-Null Count  Dtype \n",
      "---  ------         --------------  ----- \n",
      " 0   Customer ID    4910 non-null   object\n",
      " 1   Customer Name  4910 non-null   object\n",
      " 2   Segment        4910 non-null   object\n",
      " 3   Country        4910 non-null   object\n",
      " 4   City           4910 non-null   object\n",
      " 5   State          4910 non-null   object\n",
      " 6   Postal Code    4910 non-null   int64 \n",
      " 7   Region         4910 non-null   object\n",
      "dtypes: int64(1), object(7)\n",
      "memory usage: 307.0+ KB\n"
     ]
    }
   ],
   "source": [
    "df_customer_info.info()"
   ]
  },
  {
   "cell_type": "code",
   "execution_count": 119,
   "metadata": {
    "colab": {
     "base_uri": "https://localhost:8080/",
     "height": 335
    },
    "id": "5f784657-323f-44ca-a159-720fa30db87d",
    "outputId": "bf1bbc12-91f4-40c5-d717-441de0231341"
   },
   "outputs": [
    {
     "data": {
      "text/plain": [
       "Customer ID      793\n",
       "Customer Name    793\n",
       "Segment            3\n",
       "Country            1\n",
       "City             531\n",
       "State             49\n",
       "Postal Code      631\n",
       "Region             4\n",
       "dtype: int64"
      ]
     },
     "execution_count": 119,
     "metadata": {},
     "output_type": "execute_result"
    }
   ],
   "source": [
    "df_customer_info.nunique()"
   ]
  },
  {
   "cell_type": "markdown",
   "metadata": {
    "id": "80b41684-c630-4ca7-811c-5a8b6f95c74f"
   },
   "source": [
    "**imp : unique customer id is 793 and total notnull value is 4910 means their is a duplicate value**"
   ]
  },
  {
   "cell_type": "code",
   "execution_count": 120,
   "metadata": {
    "colab": {
     "base_uri": "https://localhost:8080/",
     "height": 143
    },
    "id": "51352607-796e-48f8-8204-da8cc6c8374e",
    "outputId": "e8e9f278-d3fe-4df2-a152-00e5dba1eb26"
   },
   "outputs": [
    {
     "data": {
      "text/html": [
       "<div>\n",
       "<style scoped>\n",
       "    .dataframe tbody tr th:only-of-type {\n",
       "        vertical-align: middle;\n",
       "    }\n",
       "\n",
       "    .dataframe tbody tr th {\n",
       "        vertical-align: top;\n",
       "    }\n",
       "\n",
       "    .dataframe thead th {\n",
       "        text-align: right;\n",
       "    }\n",
       "</style>\n",
       "<table border=\"1\" class=\"dataframe\">\n",
       "  <thead>\n",
       "    <tr style=\"text-align: right;\">\n",
       "      <th></th>\n",
       "      <th>Customer ID</th>\n",
       "      <th>Customer Name</th>\n",
       "      <th>Segment</th>\n",
       "      <th>Country</th>\n",
       "      <th>City</th>\n",
       "      <th>State</th>\n",
       "      <th>Postal Code</th>\n",
       "      <th>Region</th>\n",
       "    </tr>\n",
       "  </thead>\n",
       "  <tbody>\n",
       "    <tr>\n",
       "      <th>0</th>\n",
       "      <td>CG-12520</td>\n",
       "      <td>Claire Gute</td>\n",
       "      <td>Consumer</td>\n",
       "      <td>United States</td>\n",
       "      <td>Henderson</td>\n",
       "      <td>Kentucky</td>\n",
       "      <td>42420</td>\n",
       "      <td>South</td>\n",
       "    </tr>\n",
       "    <tr>\n",
       "      <th>2704</th>\n",
       "      <td>CG-12520</td>\n",
       "      <td>Claire Gute</td>\n",
       "      <td>Consumer</td>\n",
       "      <td>United States</td>\n",
       "      <td>Houston</td>\n",
       "      <td>Texas</td>\n",
       "      <td>77070</td>\n",
       "      <td>Central</td>\n",
       "    </tr>\n",
       "    <tr>\n",
       "      <th>3359</th>\n",
       "      <td>CG-12520</td>\n",
       "      <td>Claire Gute</td>\n",
       "      <td>Consumer</td>\n",
       "      <td>United States</td>\n",
       "      <td>Dallas</td>\n",
       "      <td>Texas</td>\n",
       "      <td>75217</td>\n",
       "      <td>Central</td>\n",
       "    </tr>\n",
       "  </tbody>\n",
       "</table>\n",
       "</div>"
      ],
      "text/plain": [
       "     Customer ID Customer Name   Segment        Country       City     State  \\\n",
       "0       CG-12520   Claire Gute  Consumer  United States  Henderson  Kentucky   \n",
       "2704    CG-12520   Claire Gute  Consumer  United States    Houston     Texas   \n",
       "3359    CG-12520   Claire Gute  Consumer  United States     Dallas     Texas   \n",
       "\n",
       "      Postal Code   Region  \n",
       "0           42420    South  \n",
       "2704        77070  Central  \n",
       "3359        75217  Central  "
      ]
     },
     "execution_count": 120,
     "metadata": {},
     "output_type": "execute_result"
    }
   ],
   "source": [
    "df_customer_info[df_customer_info['Customer ID'] == 'CG-12520']"
   ]
  },
  {
   "cell_type": "markdown",
   "metadata": {
    "id": "c194ca86-b648-4fd5-be27-95a6d76ae849"
   },
   "source": [
    "**imp : Columns could lead to inconsistencies**"
   ]
  },
  {
   "cell_type": "markdown",
   "metadata": {
    "id": "c178547a-eeb8-4d7e-bf9c-a0d3ec93ad82"
   },
   "source": [
    "### Dropping the features as we want unique values of customers:"
   ]
  },
  {
   "cell_type": "code",
   "execution_count": 121,
   "metadata": {
    "id": "4090ba9a-f0f9-4f8a-8c77-4b6f49791c26"
   },
   "outputs": [],
   "source": [
    "df_customer_info.drop(['City', 'State', 'Postal Code', 'Region'], axis=1, inplace=True)"
   ]
  },
  {
   "cell_type": "code",
   "execution_count": 122,
   "metadata": {
    "id": "78a3f08c-069e-4163-b4ac-a6fa0addd75b"
   },
   "outputs": [],
   "source": [
    "df_customer_info = df_customer_info.drop_duplicates(subset='Customer ID')"
   ]
  },
  {
   "cell_type": "code",
   "execution_count": 123,
   "metadata": {
    "colab": {
     "base_uri": "https://localhost:8080/"
    },
    "id": "b29d643d-0b04-48e0-b3de-ded8c57c4ca8",
    "outputId": "ab3c7d59-d972-4a01-c561-a14924b7642b"
   },
   "outputs": [
    {
     "data": {
      "text/plain": [
       "(793, 4)"
      ]
     },
     "execution_count": 123,
     "metadata": {},
     "output_type": "execute_result"
    }
   ],
   "source": [
    "df_customer_info.shape"
   ]
  },
  {
   "cell_type": "code",
   "execution_count": 124,
   "metadata": {
    "colab": {
     "base_uri": "https://localhost:8080/",
     "height": 206
    },
    "id": "5999dc20-1ad6-450c-a215-1d86a178c427",
    "outputId": "2417ada3-a159-4ad6-cfbc-7f75b718b6e1"
   },
   "outputs": [
    {
     "data": {
      "text/html": [
       "<div>\n",
       "<style scoped>\n",
       "    .dataframe tbody tr th:only-of-type {\n",
       "        vertical-align: middle;\n",
       "    }\n",
       "\n",
       "    .dataframe tbody tr th {\n",
       "        vertical-align: top;\n",
       "    }\n",
       "\n",
       "    .dataframe thead th {\n",
       "        text-align: right;\n",
       "    }\n",
       "</style>\n",
       "<table border=\"1\" class=\"dataframe\">\n",
       "  <thead>\n",
       "    <tr style=\"text-align: right;\">\n",
       "      <th></th>\n",
       "      <th>Customer ID</th>\n",
       "      <th>Customer Name</th>\n",
       "      <th>Segment</th>\n",
       "      <th>Country</th>\n",
       "    </tr>\n",
       "  </thead>\n",
       "  <tbody>\n",
       "    <tr>\n",
       "      <th>0</th>\n",
       "      <td>CG-12520</td>\n",
       "      <td>Claire Gute</td>\n",
       "      <td>Consumer</td>\n",
       "      <td>United States</td>\n",
       "    </tr>\n",
       "    <tr>\n",
       "      <th>1</th>\n",
       "      <td>DV-13045</td>\n",
       "      <td>Darrin Van Huff</td>\n",
       "      <td>Corporate</td>\n",
       "      <td>United States</td>\n",
       "    </tr>\n",
       "    <tr>\n",
       "      <th>2</th>\n",
       "      <td>SO-20335</td>\n",
       "      <td>Sean O'Donnell</td>\n",
       "      <td>Consumer</td>\n",
       "      <td>United States</td>\n",
       "    </tr>\n",
       "    <tr>\n",
       "      <th>3</th>\n",
       "      <td>BH-11710</td>\n",
       "      <td>Brosina Hoffman</td>\n",
       "      <td>Consumer</td>\n",
       "      <td>United States</td>\n",
       "    </tr>\n",
       "    <tr>\n",
       "      <th>4</th>\n",
       "      <td>AA-10480</td>\n",
       "      <td>Andrew Allen</td>\n",
       "      <td>Consumer</td>\n",
       "      <td>United States</td>\n",
       "    </tr>\n",
       "  </tbody>\n",
       "</table>\n",
       "</div>"
      ],
      "text/plain": [
       "  Customer ID    Customer Name    Segment        Country\n",
       "0    CG-12520      Claire Gute   Consumer  United States\n",
       "1    DV-13045  Darrin Van Huff  Corporate  United States\n",
       "2    SO-20335   Sean O'Donnell   Consumer  United States\n",
       "3    BH-11710  Brosina Hoffman   Consumer  United States\n",
       "4    AA-10480     Andrew Allen   Consumer  United States"
      ]
     },
     "execution_count": 124,
     "metadata": {},
     "output_type": "execute_result"
    }
   ],
   "source": [
    "df_customer_info.head()"
   ]
  },
  {
   "cell_type": "markdown",
   "metadata": {
    "id": "f136d2d7-e856-48cb-a704-86527f919e88"
   },
   "source": [
    "### 1.4 Order returned Info"
   ]
  },
  {
   "cell_type": "code",
   "execution_count": 125,
   "metadata": {
    "id": "a91a609f-f8ae-401c-bf79-8402b9f89f4e"
   },
   "outputs": [],
   "source": [
    "df_order_returned_info= pd.read_csv(\"./data/orders_returned_info.csv\")"
   ]
  },
  {
   "cell_type": "code",
   "execution_count": 126,
   "metadata": {
    "colab": {
     "base_uri": "https://localhost:8080/",
     "height": 206
    },
    "id": "79936c1d-f8a1-4ccd-b1a9-34e2d3c4b57e",
    "outputId": "b11bad00-7a68-485c-c845-baa4932d707f"
   },
   "outputs": [
    {
     "data": {
      "text/html": [
       "<div>\n",
       "<style scoped>\n",
       "    .dataframe tbody tr th:only-of-type {\n",
       "        vertical-align: middle;\n",
       "    }\n",
       "\n",
       "    .dataframe tbody tr th {\n",
       "        vertical-align: top;\n",
       "    }\n",
       "\n",
       "    .dataframe thead th {\n",
       "        text-align: right;\n",
       "    }\n",
       "</style>\n",
       "<table border=\"1\" class=\"dataframe\">\n",
       "  <thead>\n",
       "    <tr style=\"text-align: right;\">\n",
       "      <th></th>\n",
       "      <th>index</th>\n",
       "      <th>Returned</th>\n",
       "      <th>Order ID</th>\n",
       "    </tr>\n",
       "  </thead>\n",
       "  <tbody>\n",
       "    <tr>\n",
       "      <th>0</th>\n",
       "      <td>0</td>\n",
       "      <td>Yes</td>\n",
       "      <td>CA-2017-153822</td>\n",
       "    </tr>\n",
       "    <tr>\n",
       "      <th>1</th>\n",
       "      <td>1</td>\n",
       "      <td>Yes</td>\n",
       "      <td>CA-2017-129707</td>\n",
       "    </tr>\n",
       "    <tr>\n",
       "      <th>2</th>\n",
       "      <td>2</td>\n",
       "      <td>Yes</td>\n",
       "      <td>CA-2014-152345</td>\n",
       "    </tr>\n",
       "    <tr>\n",
       "      <th>3</th>\n",
       "      <td>3</td>\n",
       "      <td>Yes</td>\n",
       "      <td>CA-2015-156440</td>\n",
       "    </tr>\n",
       "    <tr>\n",
       "      <th>4</th>\n",
       "      <td>4</td>\n",
       "      <td>Yes</td>\n",
       "      <td>US-2017-155999</td>\n",
       "    </tr>\n",
       "  </tbody>\n",
       "</table>\n",
       "</div>"
      ],
      "text/plain": [
       "   index Returned        Order ID\n",
       "0      0      Yes  CA-2017-153822\n",
       "1      1      Yes  CA-2017-129707\n",
       "2      2      Yes  CA-2014-152345\n",
       "3      3      Yes  CA-2015-156440\n",
       "4      4      Yes  US-2017-155999"
      ]
     },
     "execution_count": 126,
     "metadata": {},
     "output_type": "execute_result"
    }
   ],
   "source": [
    "df_order_returned_info.head()"
   ]
  },
  {
   "cell_type": "code",
   "execution_count": 127,
   "metadata": {
    "colab": {
     "base_uri": "https://localhost:8080/"
    },
    "id": "c356fb9a-e667-4dbf-b2c4-12c6616cc407",
    "outputId": "98aba8c9-3118-47c5-9fb8-8ce00a3dd529"
   },
   "outputs": [
    {
     "name": "stdout",
     "output_type": "stream",
     "text": [
      "<class 'pandas.core.frame.DataFrame'>\n",
      "RangeIndex: 296 entries, 0 to 295\n",
      "Data columns (total 3 columns):\n",
      " #   Column    Non-Null Count  Dtype \n",
      "---  ------    --------------  ----- \n",
      " 0   index     296 non-null    int64 \n",
      " 1   Returned  296 non-null    object\n",
      " 2   Order ID  296 non-null    object\n",
      "dtypes: int64(1), object(2)\n",
      "memory usage: 7.1+ KB\n"
     ]
    }
   ],
   "source": [
    "df_order_returned_info.info()"
   ]
  },
  {
   "cell_type": "code",
   "execution_count": 128,
   "metadata": {
    "colab": {
     "base_uri": "https://localhost:8080/",
     "height": 178
    },
    "id": "82906d4e-7ca0-4879-8970-7a4c3236f38a",
    "outputId": "a1bff824-93a4-4463-8d45-cfa92f208384"
   },
   "outputs": [
    {
     "data": {
      "text/plain": [
       "index       296\n",
       "Returned      1\n",
       "Order ID    296\n",
       "dtype: int64"
      ]
     },
     "execution_count": 128,
     "metadata": {},
     "output_type": "execute_result"
    }
   ],
   "source": [
    "df_order_returned_info.nunique()"
   ]
  },
  {
   "cell_type": "markdown",
   "metadata": {
    "id": "ceeeb9a9-7157-4979-be6a-9113ba72dd1e"
   },
   "source": [
    "### 1.5 Region Seller Info"
   ]
  },
  {
   "cell_type": "code",
   "execution_count": 129,
   "metadata": {
    "id": "6e7afd0f-a04c-4793-9aad-540906f68677"
   },
   "outputs": [],
   "source": [
    "# we will not using this dataset because we dont have any join column\n",
    "df_region_seller_info = pd.read_json(\"./data/region_seller_info.json\")"
   ]
  },
  {
   "cell_type": "code",
   "execution_count": 130,
   "metadata": {
    "colab": {
     "base_uri": "https://localhost:8080/",
     "height": 174
    },
    "id": "409b8185-6a5c-4a7a-b3ef-aa634503f3bd",
    "outputId": "e068b37f-a3d5-4286-cd78-17b3903b443c"
   },
   "outputs": [
    {
     "data": {
      "text/html": [
       "<div>\n",
       "<style scoped>\n",
       "    .dataframe tbody tr th:only-of-type {\n",
       "        vertical-align: middle;\n",
       "    }\n",
       "\n",
       "    .dataframe tbody tr th {\n",
       "        vertical-align: top;\n",
       "    }\n",
       "\n",
       "    .dataframe thead th {\n",
       "        text-align: right;\n",
       "    }\n",
       "</style>\n",
       "<table border=\"1\" class=\"dataframe\">\n",
       "  <thead>\n",
       "    <tr style=\"text-align: right;\">\n",
       "      <th></th>\n",
       "      <th>0</th>\n",
       "      <th>1</th>\n",
       "      <th>2</th>\n",
       "      <th>3</th>\n",
       "    </tr>\n",
       "  </thead>\n",
       "  <tbody>\n",
       "    <tr>\n",
       "      <th>0</th>\n",
       "      <td>Anna Andreadi</td>\n",
       "      <td>West</td>\n",
       "      <td>Femail</td>\n",
       "      <td>45</td>\n",
       "    </tr>\n",
       "    <tr>\n",
       "      <th>1</th>\n",
       "      <td>Chuck Magee</td>\n",
       "      <td>East</td>\n",
       "      <td>G</td>\n",
       "      <td>43</td>\n",
       "    </tr>\n",
       "    <tr>\n",
       "      <th>2</th>\n",
       "      <td>Kelly Williams</td>\n",
       "      <td>Central</td>\n",
       "      <td>None</td>\n",
       "      <td>35</td>\n",
       "    </tr>\n",
       "    <tr>\n",
       "      <th>3</th>\n",
       "      <td>Cassandra Brandow</td>\n",
       "      <td>South</td>\n",
       "      <td>F</td>\n",
       "      <td>9849</td>\n",
       "    </tr>\n",
       "  </tbody>\n",
       "</table>\n",
       "</div>"
      ],
      "text/plain": [
       "                   0        1       2     3\n",
       "0      Anna Andreadi     West  Femail    45\n",
       "1        Chuck Magee     East       G    43\n",
       "2     Kelly Williams  Central    None    35\n",
       "3  Cassandra Brandow    South       F  9849"
      ]
     },
     "execution_count": 130,
     "metadata": {},
     "output_type": "execute_result"
    }
   ],
   "source": [
    "df_region_seller_info.head()"
   ]
  },
  {
   "cell_type": "markdown",
   "metadata": {
    "id": "d0d90ee0-696d-4291-8e76-cff3b7dc80e8"
   },
   "source": [
    "### Data Integration"
   ]
  },
  {
   "cell_type": "code",
   "execution_count": 131,
   "metadata": {
    "id": "43b9cbd7-183e-4bb9-9265-9352820ae098"
   },
   "outputs": [],
   "source": [
    "# Step 1: Merge df_customer_tran with df_product\n",
    "merged_step_1 = pd.merge(df_customer_tran, df_product, on=\"Product ID\", how=\"left\")\n",
    "\n",
    "# Step 2: Merge the result with df_customer_info\n",
    "merged_dataframe = pd.merge(merged_step_1, df_customer_info, on=\"Customer ID\", how=\"left\")"
   ]
  },
  {
   "cell_type": "code",
   "execution_count": 132,
   "metadata": {
    "colab": {
     "base_uri": "https://localhost:8080/",
     "height": 590
    },
    "id": "deb5c4ce-ab64-4f90-8ff3-056723707060",
    "outputId": "ed3dd4bf-78ca-4ff1-f502-62bb8b042243"
   },
   "outputs": [
    {
     "data": {
      "text/html": [
       "<div>\n",
       "<style scoped>\n",
       "    .dataframe tbody tr th:only-of-type {\n",
       "        vertical-align: middle;\n",
       "    }\n",
       "\n",
       "    .dataframe tbody tr th {\n",
       "        vertical-align: top;\n",
       "    }\n",
       "\n",
       "    .dataframe thead th {\n",
       "        text-align: right;\n",
       "    }\n",
       "</style>\n",
       "<table border=\"1\" class=\"dataframe\">\n",
       "  <thead>\n",
       "    <tr style=\"text-align: right;\">\n",
       "      <th></th>\n",
       "      <th>Order ID</th>\n",
       "      <th>Order Date</th>\n",
       "      <th>Ship Date</th>\n",
       "      <th>Ship Mode</th>\n",
       "      <th>Customer ID</th>\n",
       "      <th>Product ID</th>\n",
       "      <th>Sales</th>\n",
       "      <th>Quantity</th>\n",
       "      <th>Discount</th>\n",
       "      <th>Profit</th>\n",
       "      <th>Order Year</th>\n",
       "      <th>Order Month</th>\n",
       "      <th>Order Day</th>\n",
       "      <th>Order Day of Week</th>\n",
       "      <th>Order to Ship Duration</th>\n",
       "      <th>Total Revenue</th>\n",
       "      <th>Average Profit per Unit</th>\n",
       "      <th>Profit Margin</th>\n",
       "      <th>Discounted Sales</th>\n",
       "      <th>High Value Customer</th>\n",
       "      <th>Category</th>\n",
       "      <th>Sub-Category</th>\n",
       "      <th>Product Name</th>\n",
       "      <th>printer_related</th>\n",
       "      <th>Customer Name</th>\n",
       "      <th>Segment</th>\n",
       "      <th>Country</th>\n",
       "    </tr>\n",
       "  </thead>\n",
       "  <tbody>\n",
       "    <tr>\n",
       "      <th>0</th>\n",
       "      <td>CA-2016-152156</td>\n",
       "      <td>2016-11-08</td>\n",
       "      <td>2016-11-11</td>\n",
       "      <td>Second Class</td>\n",
       "      <td>CG-12520</td>\n",
       "      <td>FUR-BO-10001798</td>\n",
       "      <td>261.9600</td>\n",
       "      <td>2</td>\n",
       "      <td>0.00</td>\n",
       "      <td>41.9136</td>\n",
       "      <td>2016</td>\n",
       "      <td>11</td>\n",
       "      <td>8</td>\n",
       "      <td>1</td>\n",
       "      <td>3</td>\n",
       "      <td>523.9200</td>\n",
       "      <td>20.9568</td>\n",
       "      <td>0.1600</td>\n",
       "      <td>261.960000</td>\n",
       "      <td>True</td>\n",
       "      <td>Furniture</td>\n",
       "      <td>Bookcases</td>\n",
       "      <td>Bush Somerset Collection Bookcase</td>\n",
       "      <td>False</td>\n",
       "      <td>Claire Gute</td>\n",
       "      <td>Consumer</td>\n",
       "      <td>United States</td>\n",
       "    </tr>\n",
       "    <tr>\n",
       "      <th>1</th>\n",
       "      <td>CA-2016-152156</td>\n",
       "      <td>2016-11-08</td>\n",
       "      <td>2016-11-11</td>\n",
       "      <td>Second Class</td>\n",
       "      <td>CG-12520</td>\n",
       "      <td>FUR-CH-10000454</td>\n",
       "      <td>731.9400</td>\n",
       "      <td>3</td>\n",
       "      <td>0.00</td>\n",
       "      <td>219.5820</td>\n",
       "      <td>2016</td>\n",
       "      <td>11</td>\n",
       "      <td>8</td>\n",
       "      <td>1</td>\n",
       "      <td>3</td>\n",
       "      <td>2195.8200</td>\n",
       "      <td>73.1940</td>\n",
       "      <td>0.3000</td>\n",
       "      <td>731.940000</td>\n",
       "      <td>True</td>\n",
       "      <td>Furniture</td>\n",
       "      <td>Chairs</td>\n",
       "      <td>Hon Deluxe Fabric Upholstered Stacking Chairs,...</td>\n",
       "      <td>False</td>\n",
       "      <td>Claire Gute</td>\n",
       "      <td>Consumer</td>\n",
       "      <td>United States</td>\n",
       "    </tr>\n",
       "    <tr>\n",
       "      <th>2</th>\n",
       "      <td>CA-2016-138688</td>\n",
       "      <td>2016-06-12</td>\n",
       "      <td>2016-06-16</td>\n",
       "      <td>Second Class</td>\n",
       "      <td>DV-13045</td>\n",
       "      <td>OFF-LA-10000240</td>\n",
       "      <td>14.6200</td>\n",
       "      <td>2</td>\n",
       "      <td>0.00</td>\n",
       "      <td>6.8714</td>\n",
       "      <td>2016</td>\n",
       "      <td>6</td>\n",
       "      <td>12</td>\n",
       "      <td>6</td>\n",
       "      <td>4</td>\n",
       "      <td>29.2400</td>\n",
       "      <td>3.4357</td>\n",
       "      <td>0.4700</td>\n",
       "      <td>14.620000</td>\n",
       "      <td>True</td>\n",
       "      <td>Office Supplies</td>\n",
       "      <td>Labels</td>\n",
       "      <td>Self-Adhesive Address Labels for Typewriters b...</td>\n",
       "      <td>False</td>\n",
       "      <td>Darrin Van Huff</td>\n",
       "      <td>Corporate</td>\n",
       "      <td>United States</td>\n",
       "    </tr>\n",
       "    <tr>\n",
       "      <th>3</th>\n",
       "      <td>US-2015-108966</td>\n",
       "      <td>2015-10-11</td>\n",
       "      <td>2015-10-18</td>\n",
       "      <td>Standard Class</td>\n",
       "      <td>SO-20335</td>\n",
       "      <td>FUR-TA-10000577</td>\n",
       "      <td>957.5775</td>\n",
       "      <td>5</td>\n",
       "      <td>0.45</td>\n",
       "      <td>-383.0310</td>\n",
       "      <td>2015</td>\n",
       "      <td>10</td>\n",
       "      <td>11</td>\n",
       "      <td>6</td>\n",
       "      <td>7</td>\n",
       "      <td>4787.8875</td>\n",
       "      <td>-76.6062</td>\n",
       "      <td>-0.4000</td>\n",
       "      <td>526.667625</td>\n",
       "      <td>True</td>\n",
       "      <td>Furniture</td>\n",
       "      <td>Tables</td>\n",
       "      <td>Bretford CR4500 Series Slim Rectangular Table</td>\n",
       "      <td>False</td>\n",
       "      <td>Sean O'Donnell</td>\n",
       "      <td>Consumer</td>\n",
       "      <td>United States</td>\n",
       "    </tr>\n",
       "    <tr>\n",
       "      <th>4</th>\n",
       "      <td>US-2015-108966</td>\n",
       "      <td>2015-10-11</td>\n",
       "      <td>2015-10-18</td>\n",
       "      <td>Standard Class</td>\n",
       "      <td>SO-20335</td>\n",
       "      <td>OFF-ST-10000760</td>\n",
       "      <td>22.3680</td>\n",
       "      <td>2</td>\n",
       "      <td>0.20</td>\n",
       "      <td>2.5164</td>\n",
       "      <td>2015</td>\n",
       "      <td>10</td>\n",
       "      <td>11</td>\n",
       "      <td>6</td>\n",
       "      <td>7</td>\n",
       "      <td>44.7360</td>\n",
       "      <td>1.2582</td>\n",
       "      <td>0.1125</td>\n",
       "      <td>17.894400</td>\n",
       "      <td>True</td>\n",
       "      <td>Office Supplies</td>\n",
       "      <td>Storage</td>\n",
       "      <td>Eldon Fold 'N Roll Cart System</td>\n",
       "      <td>False</td>\n",
       "      <td>Sean O'Donnell</td>\n",
       "      <td>Consumer</td>\n",
       "      <td>United States</td>\n",
       "    </tr>\n",
       "  </tbody>\n",
       "</table>\n",
       "</div>"
      ],
      "text/plain": [
       "         Order ID Order Date  Ship Date       Ship Mode Customer ID  \\\n",
       "0  CA-2016-152156 2016-11-08 2016-11-11    Second Class    CG-12520   \n",
       "1  CA-2016-152156 2016-11-08 2016-11-11    Second Class    CG-12520   \n",
       "2  CA-2016-138688 2016-06-12 2016-06-16    Second Class    DV-13045   \n",
       "3  US-2015-108966 2015-10-11 2015-10-18  Standard Class    SO-20335   \n",
       "4  US-2015-108966 2015-10-11 2015-10-18  Standard Class    SO-20335   \n",
       "\n",
       "        Product ID     Sales  Quantity  Discount    Profit  Order Year  \\\n",
       "0  FUR-BO-10001798  261.9600         2      0.00   41.9136        2016   \n",
       "1  FUR-CH-10000454  731.9400         3      0.00  219.5820        2016   \n",
       "2  OFF-LA-10000240   14.6200         2      0.00    6.8714        2016   \n",
       "3  FUR-TA-10000577  957.5775         5      0.45 -383.0310        2015   \n",
       "4  OFF-ST-10000760   22.3680         2      0.20    2.5164        2015   \n",
       "\n",
       "   Order Month  Order Day  Order Day of Week  Order to Ship Duration  \\\n",
       "0           11          8                  1                       3   \n",
       "1           11          8                  1                       3   \n",
       "2            6         12                  6                       4   \n",
       "3           10         11                  6                       7   \n",
       "4           10         11                  6                       7   \n",
       "\n",
       "   Total Revenue  Average Profit per Unit  Profit Margin  Discounted Sales  \\\n",
       "0       523.9200                  20.9568         0.1600        261.960000   \n",
       "1      2195.8200                  73.1940         0.3000        731.940000   \n",
       "2        29.2400                   3.4357         0.4700         14.620000   \n",
       "3      4787.8875                 -76.6062        -0.4000        526.667625   \n",
       "4        44.7360                   1.2582         0.1125         17.894400   \n",
       "\n",
       "   High Value Customer         Category Sub-Category  \\\n",
       "0                 True        Furniture    Bookcases   \n",
       "1                 True        Furniture       Chairs   \n",
       "2                 True  Office Supplies       Labels   \n",
       "3                 True        Furniture       Tables   \n",
       "4                 True  Office Supplies      Storage   \n",
       "\n",
       "                                        Product Name  printer_related  \\\n",
       "0                  Bush Somerset Collection Bookcase            False   \n",
       "1  Hon Deluxe Fabric Upholstered Stacking Chairs,...            False   \n",
       "2  Self-Adhesive Address Labels for Typewriters b...            False   \n",
       "3      Bretford CR4500 Series Slim Rectangular Table            False   \n",
       "4                     Eldon Fold 'N Roll Cart System            False   \n",
       "\n",
       "     Customer Name    Segment        Country  \n",
       "0      Claire Gute   Consumer  United States  \n",
       "1      Claire Gute   Consumer  United States  \n",
       "2  Darrin Van Huff  Corporate  United States  \n",
       "3   Sean O'Donnell   Consumer  United States  \n",
       "4   Sean O'Donnell   Consumer  United States  "
      ]
     },
     "execution_count": 132,
     "metadata": {},
     "output_type": "execute_result"
    }
   ],
   "source": [
    "merged_dataframe.head()"
   ]
  },
  {
   "cell_type": "code",
   "execution_count": 133,
   "metadata": {
    "colab": {
     "base_uri": "https://localhost:8080/"
    },
    "id": "b12d8361-2541-465d-a36d-5a403ce85e97",
    "outputId": "f64fe77e-c4d6-4a0a-c5f1-c490ce0780f0"
   },
   "outputs": [
    {
     "data": {
      "text/plain": [
       "(10331, 27)"
      ]
     },
     "execution_count": 133,
     "metadata": {},
     "output_type": "execute_result"
    }
   ],
   "source": [
    "merged_dataframe.shape"
   ]
  },
  {
   "cell_type": "code",
   "execution_count": 134,
   "metadata": {
    "colab": {
     "base_uri": "https://localhost:8080/"
    },
    "id": "8851950b-55c7-4ba7-b5ff-1e668186c95b",
    "outputId": "7651af0d-850e-461a-b2c9-8b4803de1463"
   },
   "outputs": [
    {
     "name": "stdout",
     "output_type": "stream",
     "text": [
      "<class 'pandas.core.frame.DataFrame'>\n",
      "Int64Index: 10331 entries, 0 to 10330\n",
      "Data columns (total 27 columns):\n",
      " #   Column                   Non-Null Count  Dtype         \n",
      "---  ------                   --------------  -----         \n",
      " 0   Order ID                 10331 non-null  object        \n",
      " 1   Order Date               10331 non-null  datetime64[ns]\n",
      " 2   Ship Date                10331 non-null  datetime64[ns]\n",
      " 3   Ship Mode                10331 non-null  object        \n",
      " 4   Customer ID              10331 non-null  object        \n",
      " 5   Product ID               10331 non-null  object        \n",
      " 6   Sales                    10331 non-null  float64       \n",
      " 7   Quantity                 10331 non-null  int64         \n",
      " 8   Discount                 10331 non-null  float64       \n",
      " 9   Profit                   10331 non-null  float64       \n",
      " 10  Order Year               10331 non-null  int64         \n",
      " 11  Order Month              10331 non-null  int64         \n",
      " 12  Order Day                10331 non-null  int64         \n",
      " 13  Order Day of Week        10331 non-null  int64         \n",
      " 14  Order to Ship Duration   10331 non-null  int64         \n",
      " 15  Total Revenue            10331 non-null  float64       \n",
      " 16  Average Profit per Unit  10331 non-null  float64       \n",
      " 17  Profit Margin            10331 non-null  float64       \n",
      " 18  Discounted Sales         10331 non-null  float64       \n",
      " 19  High Value Customer      10331 non-null  bool          \n",
      " 20  Category                 10331 non-null  object        \n",
      " 21  Sub-Category             10331 non-null  object        \n",
      " 22  Product Name             10331 non-null  object        \n",
      " 23  printer_related          10331 non-null  bool          \n",
      " 24  Customer Name            10331 non-null  object        \n",
      " 25  Segment                  10331 non-null  object        \n",
      " 26  Country                  10331 non-null  object        \n",
      "dtypes: bool(2), datetime64[ns](2), float64(7), int64(6), object(10)\n",
      "memory usage: 2.1+ MB\n"
     ]
    }
   ],
   "source": [
    "merged_dataframe.info()"
   ]
  },
  {
   "cell_type": "code",
   "execution_count": 135,
   "metadata": {
    "id": "bbdf7dc8-406b-4e9f-83ed-e9cf3247a341"
   },
   "outputs": [],
   "source": [
    "# Convert 'Returned' column in df_orders_returned_info to boolean\n",
    "df_order_returned_info['Returned'] = df_order_returned_info['Returned'] == 'Yes'\n",
    "\n",
    "# Remove the returned orders from the main DataFrame\n",
    "merged_dataframe = merged_dataframe.merge(df_order_returned_info, how='left', on='Order ID', indicator=True)\n",
    "merged_dataframe = merged_dataframe[merged_dataframe['_merge'] == 'left_only']\n",
    "\n",
    "# Drop the 'Returned' and '_merge' columns, if needed\n",
    "merged_dataframe.drop(['Returned', '_merge'], axis=1, inplace=True)"
   ]
  },
  {
   "cell_type": "code",
   "execution_count": 136,
   "metadata": {
    "colab": {
     "base_uri": "https://localhost:8080/"
    },
    "id": "7641ddcb-ffff-427b-8e92-1f58d5f74f9f",
    "outputId": "3eed8b1b-628c-4757-c8cf-280a2922b3fe"
   },
   "outputs": [
    {
     "data": {
      "text/plain": [
       "(9500, 28)"
      ]
     },
     "execution_count": 136,
     "metadata": {},
     "output_type": "execute_result"
    }
   ],
   "source": [
    "merged_dataframe.shape"
   ]
  },
  {
   "cell_type": "code",
   "execution_count": 137,
   "metadata": {
    "colab": {
     "base_uri": "https://localhost:8080/"
    },
    "id": "ab9db2fd-67fd-469b-8e6a-4a9b4e0476c5",
    "outputId": "d04e9b15-f901-4183-d9a5-ff78e55ae49b"
   },
   "outputs": [
    {
     "name": "stdout",
     "output_type": "stream",
     "text": [
      "<class 'pandas.core.frame.DataFrame'>\n",
      "Int64Index: 9500 entries, 0 to 10330\n",
      "Data columns (total 28 columns):\n",
      " #   Column                   Non-Null Count  Dtype         \n",
      "---  ------                   --------------  -----         \n",
      " 0   Order ID                 9500 non-null   object        \n",
      " 1   Order Date               9500 non-null   datetime64[ns]\n",
      " 2   Ship Date                9500 non-null   datetime64[ns]\n",
      " 3   Ship Mode                9500 non-null   object        \n",
      " 4   Customer ID              9500 non-null   object        \n",
      " 5   Product ID               9500 non-null   object        \n",
      " 6   Sales                    9500 non-null   float64       \n",
      " 7   Quantity                 9500 non-null   int64         \n",
      " 8   Discount                 9500 non-null   float64       \n",
      " 9   Profit                   9500 non-null   float64       \n",
      " 10  Order Year               9500 non-null   int64         \n",
      " 11  Order Month              9500 non-null   int64         \n",
      " 12  Order Day                9500 non-null   int64         \n",
      " 13  Order Day of Week        9500 non-null   int64         \n",
      " 14  Order to Ship Duration   9500 non-null   int64         \n",
      " 15  Total Revenue            9500 non-null   float64       \n",
      " 16  Average Profit per Unit  9500 non-null   float64       \n",
      " 17  Profit Margin            9500 non-null   float64       \n",
      " 18  Discounted Sales         9500 non-null   float64       \n",
      " 19  High Value Customer      9500 non-null   bool          \n",
      " 20  Category                 9500 non-null   object        \n",
      " 21  Sub-Category             9500 non-null   object        \n",
      " 22  Product Name             9500 non-null   object        \n",
      " 23  printer_related          9500 non-null   bool          \n",
      " 24  Customer Name            9500 non-null   object        \n",
      " 25  Segment                  9500 non-null   object        \n",
      " 26  Country                  9500 non-null   object        \n",
      " 27  index                    0 non-null      float64       \n",
      "dtypes: bool(2), datetime64[ns](2), float64(8), int64(6), object(10)\n",
      "memory usage: 2.0+ MB\n"
     ]
    }
   ],
   "source": [
    "merged_dataframe.info()"
   ]
  },
  {
   "cell_type": "code",
   "execution_count": 138,
   "metadata": {
    "colab": {
     "base_uri": "https://localhost:8080/"
    },
    "id": "90b1a4a0-cd31-406b-89ea-65becc4c1388",
    "outputId": "22d1368a-c60f-4085-ab92-2a905cf37540"
   },
   "outputs": [
    {
     "data": {
      "text/plain": [
       "Index(['Order ID', 'Order Date', 'Ship Date', 'Ship Mode', 'Customer ID',\n",
       "       'Product ID', 'Sales', 'Quantity', 'Discount', 'Profit', 'Order Year',\n",
       "       'Order Month', 'Order Day', 'Order Day of Week',\n",
       "       'Order to Ship Duration', 'Total Revenue', 'Average Profit per Unit',\n",
       "       'Profit Margin', 'Discounted Sales', 'High Value Customer', 'Category',\n",
       "       'Sub-Category', 'Product Name', 'printer_related', 'Customer Name',\n",
       "       'Segment', 'Country', 'index'],\n",
       "      dtype='object')"
      ]
     },
     "execution_count": 138,
     "metadata": {},
     "output_type": "execute_result"
    }
   ],
   "source": [
    "merged_dataframe.columns"
   ]
  },
  {
   "cell_type": "code",
   "execution_count": 139,
   "metadata": {
    "id": "RMkLqmCxyUKD"
   },
   "outputs": [],
   "source": [
    "# Imports :\n",
    "import matplotlib\n",
    "from matplotlib import pyplot as plt\n",
    "import seaborn as sns\n",
    "import numpy as np\n",
    "import pandas as pd\n",
    "from tqdm import tqdm#_notebook as tqdm\n",
    "import yaml\n",
    "\n",
    "from sklearn.model_selection import train_test_split\n",
    "from sklearn.preprocessing import LabelEncoder, OneHotEncoder\n",
    "from sklearn.ensemble import RandomForestClassifier\n",
    "from sklearn.metrics import accuracy_score, classification_report, confusion_matrix, roc_curve, roc_auc_score, recall_score\n",
    "import pickle\n",
    "\n",
    "from imblearn.over_sampling import RandomOverSampler, SMOTE\n",
    "from sklearn.model_selection import GridSearchCV, RandomizedSearchCV\n",
    "\n",
    "import os, sys, json\n",
    "\n",
    "# suppress warnings :\n",
    "import warnings\n",
    "\n",
    "if not sys.warnoptions:\n",
    "    warnings.simplefilter(\"ignore\")"
   ]
  },
  {
   "cell_type": "code",
   "execution_count": 140,
   "metadata": {
    "id": "j1f-9IEbyXYi"
   },
   "outputs": [],
   "source": [
    "# Display 50 columns in the joined DataFrame\n",
    "pd.set_option('display.max_columns', 50)"
   ]
  },
  {
   "cell_type": "markdown",
   "metadata": {
    "id": "wLw-uu3I5aff"
   },
   "source": [
    "### **Model**"
   ]
  },
  {
   "cell_type": "code",
   "execution_count": 141,
   "metadata": {
    "colab": {
     "base_uri": "https://localhost:8080/"
    },
    "id": "yY7WZ8B7-_Qw",
    "outputId": "0bfba9e4-03b5-4c3f-dc45-91180f988ec2"
   },
   "outputs": [
    {
     "name": "stdout",
     "output_type": "stream",
     "text": [
      "CPU times: total: 0 ns\n",
      "Wall time: 2 ms\n"
     ]
    }
   ],
   "source": [
    "%%time\n",
    "# Drop unnecessary columns\n",
    "merged_dataframe.drop(['Order ID', 'Order Date', 'Ship Date', 'Ship Mode',\n",
    "       'Product ID', 'Quantity', 'Profit', 'Order Year',\n",
    "       'Order Month', 'Order Day', 'Order Day of Week',\n",
    "       'Order to Ship Duration',  'Average Profit per Unit',\n",
    "       'Profit Margin', 'Discounted Sales', 'High Value Customer',\n",
    "       'Product Name', 'Customer Name',\n",
    "       'Segment', 'Country', 'index'], axis=1, inplace=True)"
   ]
  },
  {
   "cell_type": "code",
   "execution_count": 142,
   "metadata": {
    "colab": {
     "base_uri": "https://localhost:8080/"
    },
    "id": "sQvJSLPPy757",
    "outputId": "4ecd1171-d40c-417a-df94-03eeb02526b7"
   },
   "outputs": [
    {
     "name": "stdout",
     "output_type": "stream",
     "text": [
      "Customer ID         object\n",
      "Sales              float64\n",
      "Discount           float64\n",
      "Total Revenue      float64\n",
      "Category            object\n",
      "Sub-Category        object\n",
      "printer_related       bool\n",
      "dtype: object\n"
     ]
    }
   ],
   "source": [
    "print(merged_dataframe.dtypes)  # Check if numeric columns are mistakenly 'object'"
   ]
  },
  {
   "cell_type": "code",
   "execution_count": 143,
   "metadata": {
    "colab": {
     "base_uri": "https://localhost:8080/"
    },
    "id": "Zfm1DzWMy757",
    "outputId": "0313b5e3-c679-4739-fd4c-b71799c15854"
   },
   "outputs": [
    {
     "name": "stdout",
     "output_type": "stream",
     "text": [
      "Customer ID               HA-14920\n",
      "Sales                       671.93\n",
      "Discount                       0.0\n",
      "Total Revenue              4703.51\n",
      "Category           Office Supplies\n",
      "Sub-Category               Storage\n",
      "printer_related              False\n",
      "Name: 152, dtype: object\n"
     ]
    }
   ],
   "source": [
    "valueX = merged_dataframe.iloc[131]\n",
    "print(valueX)"
   ]
  },
  {
   "cell_type": "code",
   "execution_count": 144,
   "metadata": {
    "colab": {
     "base_uri": "https://localhost:8080/"
    },
    "id": "7yzwJyJqy757",
    "outputId": "e0114ead-916b-40b3-c944-f3aac62eb2e5"
   },
   "outputs": [
    {
     "name": "stdout",
     "output_type": "stream",
     "text": [
      "     Customer ID    Sales  Discount  Total Revenue         Category  \\\n",
      "1419    SZ-20035  145.900       0.0        729.500        Furniture   \n",
      "1464    SZ-20035   23.680       0.2         47.360  Office Supplies   \n",
      "3549    SZ-20035   32.896       0.2        131.584  Office Supplies   \n",
      "3550    SZ-20035  215.148       0.4        430.296        Furniture   \n",
      "3551    SZ-20035   30.960       0.2        185.760  Office Supplies   \n",
      "3989    SZ-20035  501.810       0.0       1505.430  Office Supplies   \n",
      "5167    SZ-20035   52.064       0.2        208.256  Office Supplies   \n",
      "5440    SZ-20035  196.776       0.2        590.328       Technology   \n",
      "5441    SZ-20035    2.920       0.8          5.840  Office Supplies   \n",
      "5442    SZ-20035  200.795       0.3        200.795        Furniture   \n",
      "5443    SZ-20035   46.688       0.2        186.752       Technology   \n",
      "5444    SZ-20035   21.864       0.2         65.592  Office Supplies   \n",
      "5615    SZ-20035   46.530       0.0        139.590  Office Supplies   \n",
      "8450    SZ-20035  128.340       0.0        770.040  Office Supplies   \n",
      "8562    SZ-20035  600.530       0.3       1201.060       Technology   \n",
      "8563    SZ-20035   59.904       0.2        119.808  Office Supplies   \n",
      "8564    SZ-20035  637.440       0.2       5099.520       Technology   \n",
      "8565    SZ-20035   51.756       0.6        155.268        Furniture   \n",
      "8648    SZ-20035  604.768       0.2       2419.072       Technology   \n",
      "9377    SZ-20035   24.560       0.0         49.120  Office Supplies   \n",
      "\n",
      "     Sub-Category  printer_related  \n",
      "1419  Furnishings            False  \n",
      "1464       Labels            False  \n",
      "3549        Paper            False  \n",
      "3550       Tables            False  \n",
      "3551        Paper            False  \n",
      "3989      Storage            False  \n",
      "5167      Binders            False  \n",
      "5440       Phones            False  \n",
      "5441      Binders            False  \n",
      "5442       Tables            False  \n",
      "5443  Accessories            False  \n",
      "5444          Art            False  \n",
      "5615      Storage            False  \n",
      "8450      Storage            False  \n",
      "8562     Machines             True  \n",
      "8563          Art            False  \n",
      "8564  Accessories            False  \n",
      "8565  Furnishings            False  \n",
      "8648       Phones            False  \n",
      "9377      Storage            False  \n"
     ]
    }
   ],
   "source": [
    "original_row = merged_dataframe[merged_dataframe[\"Customer ID\"] == \"SZ-20035\"]\n",
    "\n",
    "# Print the row\n",
    "print(original_row)"
   ]
  },
  {
   "cell_type": "code",
   "execution_count": 145,
   "metadata": {
    "colab": {
     "base_uri": "https://localhost:8080/"
    },
    "id": "TWTkJv5Cy757",
    "outputId": "91473c76-d007-4a74-de96-5750b82cc1ea"
   },
   "outputs": [
    {
     "data": {
      "text/plain": [
       "Index(['Customer ID', 'Sales', 'Discount', 'Total Revenue', 'Category',\n",
       "       'Sub-Category', 'printer_related'],\n",
       "      dtype='object')"
      ]
     },
     "execution_count": 145,
     "metadata": {},
     "output_type": "execute_result"
    }
   ],
   "source": [
    "merged_dataframe.columns\n"
   ]
  },
  {
   "cell_type": "markdown",
   "metadata": {
    "id": "AK-R4R-ssg5l"
   },
   "source": [
    "# **Step 3: Data Splitting, Model Selection and Training**"
   ]
  },
  {
   "cell_type": "code",
   "execution_count": 146,
   "metadata": {
    "id": "7sRX6xtbs5n0"
   },
   "outputs": [],
   "source": [
    "# Model evaluation"
   ]
  },
  {
   "cell_type": "markdown",
   "metadata": {
    "id": "ZrMTPTZDsx-I"
   },
   "source": [
    "# **Step 4:  Model Evaluation**"
   ]
  },
  {
   "cell_type": "code",
   "execution_count": 147,
   "metadata": {
    "colab": {
     "base_uri": "https://localhost:8080/"
    },
    "id": "AFNjS8vFShMT",
    "outputId": "fc6afee1-2702-4a50-f9ec-9388171f250e"
   },
   "outputs": [
    {
     "name": "stdout",
     "output_type": "stream",
     "text": [
      "✅ Encoders saved successfully!\n",
      "Loaded encoders: dict_keys(['Customer ID', 'Category', 'Sub-Category'])\n"
     ]
    }
   ],
   "source": [
    "# Encode categorical columns\n",
    "# encoder = LabelEncoder()\n",
    "# for col in merged_dataframe.select_dtypes(include='object'):\n",
    "#     merged_dataframe[col] = encoder.fit_transform(merged_dataframe[col])\n",
    "\n",
    "import pickle\n",
    "from sklearn.preprocessing import LabelEncoder\n",
    "\n",
    "# Dictionary to store a LabelEncoder per column\n",
    "encoders = {}\n",
    "\n",
    "# Apply encoding per column and store encoders\n",
    "categorical_cols = merged_dataframe.select_dtypes(include='object').columns\n",
    "\n",
    "for col in categorical_cols:\n",
    "    le = LabelEncoder()\n",
    "    merged_dataframe[col] = le.fit_transform(merged_dataframe[col])  # Fit & transform column\n",
    "    encoders[col] = le  # Store encoder for this column\n",
    "\n",
    "# Save the encoders as a dictionary\n",
    "with open(\"encoder.pkl\", \"wb\") as f:\n",
    "    pickle.dump(encoders, f)\n",
    "\n",
    "print(\"✅ Encoders saved successfully!\")\n",
    "\n",
    "print(\"Loaded encoders:\", encoders.keys())\n"
   ]
  },
  {
   "cell_type": "code",
   "execution_count": 148,
   "metadata": {
    "colab": {
     "base_uri": "https://localhost:8080/",
     "height": 206
    },
    "id": "VvjrPf4hy758",
    "outputId": "46e62bf2-88b5-47df-fffc-a1b6ecdb492c"
   },
   "outputs": [
    {
     "data": {
      "text/html": [
       "<div>\n",
       "<style scoped>\n",
       "    .dataframe tbody tr th:only-of-type {\n",
       "        vertical-align: middle;\n",
       "    }\n",
       "\n",
       "    .dataframe tbody tr th {\n",
       "        vertical-align: top;\n",
       "    }\n",
       "\n",
       "    .dataframe thead th {\n",
       "        text-align: right;\n",
       "    }\n",
       "</style>\n",
       "<table border=\"1\" class=\"dataframe\">\n",
       "  <thead>\n",
       "    <tr style=\"text-align: right;\">\n",
       "      <th></th>\n",
       "      <th>Customer ID</th>\n",
       "      <th>Sales</th>\n",
       "      <th>Discount</th>\n",
       "      <th>Total Revenue</th>\n",
       "      <th>Category</th>\n",
       "      <th>Sub-Category</th>\n",
       "      <th>printer_related</th>\n",
       "    </tr>\n",
       "  </thead>\n",
       "  <tbody>\n",
       "    <tr>\n",
       "      <th>0</th>\n",
       "      <td>143</td>\n",
       "      <td>261.9600</td>\n",
       "      <td>0.00</td>\n",
       "      <td>523.9200</td>\n",
       "      <td>0</td>\n",
       "      <td>4</td>\n",
       "      <td>False</td>\n",
       "    </tr>\n",
       "    <tr>\n",
       "      <th>1</th>\n",
       "      <td>143</td>\n",
       "      <td>731.9400</td>\n",
       "      <td>0.00</td>\n",
       "      <td>2195.8200</td>\n",
       "      <td>0</td>\n",
       "      <td>5</td>\n",
       "      <td>False</td>\n",
       "    </tr>\n",
       "    <tr>\n",
       "      <th>2</th>\n",
       "      <td>237</td>\n",
       "      <td>14.6200</td>\n",
       "      <td>0.00</td>\n",
       "      <td>29.2400</td>\n",
       "      <td>1</td>\n",
       "      <td>10</td>\n",
       "      <td>False</td>\n",
       "    </tr>\n",
       "    <tr>\n",
       "      <th>3</th>\n",
       "      <td>703</td>\n",
       "      <td>957.5775</td>\n",
       "      <td>0.45</td>\n",
       "      <td>4787.8875</td>\n",
       "      <td>0</td>\n",
       "      <td>16</td>\n",
       "      <td>False</td>\n",
       "    </tr>\n",
       "    <tr>\n",
       "      <th>4</th>\n",
       "      <td>703</td>\n",
       "      <td>22.3680</td>\n",
       "      <td>0.20</td>\n",
       "      <td>44.7360</td>\n",
       "      <td>1</td>\n",
       "      <td>14</td>\n",
       "      <td>False</td>\n",
       "    </tr>\n",
       "  </tbody>\n",
       "</table>\n",
       "</div>"
      ],
      "text/plain": [
       "   Customer ID     Sales  Discount  Total Revenue  Category  Sub-Category  \\\n",
       "0          143  261.9600      0.00       523.9200         0             4   \n",
       "1          143  731.9400      0.00      2195.8200         0             5   \n",
       "2          237   14.6200      0.00        29.2400         1            10   \n",
       "3          703  957.5775      0.45      4787.8875         0            16   \n",
       "4          703   22.3680      0.20        44.7360         1            14   \n",
       "\n",
       "   printer_related  \n",
       "0            False  \n",
       "1            False  \n",
       "2            False  \n",
       "3            False  \n",
       "4            False  "
      ]
     },
     "execution_count": 148,
     "metadata": {},
     "output_type": "execute_result"
    }
   ],
   "source": [
    "merged_dataframe.head()"
   ]
  },
  {
   "cell_type": "code",
   "execution_count": 149,
   "metadata": {
    "id": "XquDncShSrap"
   },
   "outputs": [],
   "source": [
    "# Separate features (X) and target (y)\n",
    "X = merged_dataframe.drop('printer_related', axis=1)\n",
    "y = merged_dataframe['printer_related']\n",
    "\n",
    "# Split the data into train and test sets\n",
    "X_train, X_test, y_train, y_test = train_test_split(X, y, test_size=0.3, random_state=42)"
   ]
  },
  {
   "cell_type": "code",
   "execution_count": 150,
   "metadata": {
    "colab": {
     "base_uri": "https://localhost:8080/",
     "height": 206
    },
    "id": "3pwOxW5Uy758",
    "outputId": "f893ed04-68bc-44af-c77d-ce7cd08c9679"
   },
   "outputs": [
    {
     "data": {
      "text/html": [
       "<div>\n",
       "<style scoped>\n",
       "    .dataframe tbody tr th:only-of-type {\n",
       "        vertical-align: middle;\n",
       "    }\n",
       "\n",
       "    .dataframe tbody tr th {\n",
       "        vertical-align: top;\n",
       "    }\n",
       "\n",
       "    .dataframe thead th {\n",
       "        text-align: right;\n",
       "    }\n",
       "</style>\n",
       "<table border=\"1\" class=\"dataframe\">\n",
       "  <thead>\n",
       "    <tr style=\"text-align: right;\">\n",
       "      <th></th>\n",
       "      <th>Customer ID</th>\n",
       "      <th>Sales</th>\n",
       "      <th>Discount</th>\n",
       "      <th>Total Revenue</th>\n",
       "      <th>Category</th>\n",
       "      <th>Sub-Category</th>\n",
       "    </tr>\n",
       "  </thead>\n",
       "  <tbody>\n",
       "    <tr>\n",
       "      <th>2379</th>\n",
       "      <td>774</td>\n",
       "      <td>42.950</td>\n",
       "      <td>0.0</td>\n",
       "      <td>42.950</td>\n",
       "      <td>2</td>\n",
       "      <td>13</td>\n",
       "    </tr>\n",
       "    <tr>\n",
       "      <th>7227</th>\n",
       "      <td>339</td>\n",
       "      <td>175.872</td>\n",
       "      <td>0.2</td>\n",
       "      <td>703.488</td>\n",
       "      <td>1</td>\n",
       "      <td>12</td>\n",
       "    </tr>\n",
       "    <tr>\n",
       "      <th>6746</th>\n",
       "      <td>128</td>\n",
       "      <td>59.994</td>\n",
       "      <td>0.4</td>\n",
       "      <td>59.994</td>\n",
       "      <td>2</td>\n",
       "      <td>13</td>\n",
       "    </tr>\n",
       "    <tr>\n",
       "      <th>2830</th>\n",
       "      <td>284</td>\n",
       "      <td>799.960</td>\n",
       "      <td>0.0</td>\n",
       "      <td>3199.840</td>\n",
       "      <td>2</td>\n",
       "      <td>0</td>\n",
       "    </tr>\n",
       "    <tr>\n",
       "      <th>1814</th>\n",
       "      <td>529</td>\n",
       "      <td>206.962</td>\n",
       "      <td>0.3</td>\n",
       "      <td>413.924</td>\n",
       "      <td>0</td>\n",
       "      <td>16</td>\n",
       "    </tr>\n",
       "  </tbody>\n",
       "</table>\n",
       "</div>"
      ],
      "text/plain": [
       "      Customer ID    Sales  Discount  Total Revenue  Category  Sub-Category\n",
       "2379          774   42.950       0.0         42.950         2            13\n",
       "7227          339  175.872       0.2        703.488         1            12\n",
       "6746          128   59.994       0.4         59.994         2            13\n",
       "2830          284  799.960       0.0       3199.840         2             0\n",
       "1814          529  206.962       0.3        413.924         0            16"
      ]
     },
     "execution_count": 150,
     "metadata": {},
     "output_type": "execute_result"
    }
   ],
   "source": [
    "X_train.head()"
   ]
  },
  {
   "cell_type": "code",
   "execution_count": 151,
   "metadata": {
    "colab": {
     "base_uri": "https://localhost:8080/"
    },
    "id": "8c5WuFUzcjhG",
    "outputId": "96741832-3306-417e-e57c-0ba965aca0c0"
   },
   "outputs": [
    {
     "name": "stdout",
     "output_type": "stream",
     "text": [
      "<class 'pandas.core.series.Series'>\n",
      "Int64Index: 9500 entries, 0 to 10330\n",
      "Series name: printer_related\n",
      "Non-Null Count  Dtype\n",
      "--------------  -----\n",
      "9500 non-null   bool \n",
      "dtypes: bool(1)\n",
      "memory usage: 83.5 KB\n",
      "None\n"
     ]
    }
   ],
   "source": [
    "print(y.info())"
   ]
  },
  {
   "cell_type": "code",
   "execution_count": 152,
   "metadata": {
    "id": "dh-wn4tdSvZ7"
   },
   "outputs": [],
   "source": [
    "# Step 1: Resample the data using SMOTE\n",
    "smote = SMOTE(random_state=42)\n",
    "X_resampled, y_resampled = smote.fit_resample(X_train, y_train)"
   ]
  },
  {
   "cell_type": "code",
   "execution_count": 153,
   "metadata": {
    "colab": {
     "base_uri": "https://localhost:8080/",
     "height": 272
    },
    "id": "DTlsrEtuy759",
    "outputId": "673a78a1-fe5f-4621-c87d-6c56d98a891e"
   },
   "outputs": [
    {
     "data": {
      "text/plain": [
       "Customer ID       727.00\n",
       "Sales             600.53\n",
       "Discount            0.30\n",
       "Total Revenue    1201.06\n",
       "Category            2.00\n",
       "Sub-Category       11.00\n",
       "Name: 8562, dtype: float64"
      ]
     },
     "execution_count": 153,
     "metadata": {},
     "output_type": "execute_result"
    }
   ],
   "source": [
    "X_train.iloc[131]"
   ]
  },
  {
   "cell_type": "code",
   "execution_count": 154,
   "metadata": {
    "colab": {
     "base_uri": "https://localhost:8080/",
     "height": 303
    },
    "id": "w0JF1Ei9y759",
    "outputId": "4759e71c-31eb-4fab-aeb4-0d535d7b18c3"
   },
   "outputs": [
    {
     "data": {
      "text/plain": [
       "Customer ID            317\n",
       "Sales               671.93\n",
       "Discount               0.0\n",
       "Total Revenue      4703.51\n",
       "Category                 1\n",
       "Sub-Category            14\n",
       "printer_related      False\n",
       "Name: 152, dtype: object"
      ]
     },
     "execution_count": 154,
     "metadata": {},
     "output_type": "execute_result"
    }
   ],
   "source": [
    "merged_dataframe.iloc[131]"
   ]
  },
  {
   "cell_type": "code",
   "execution_count": 155,
   "metadata": {
    "colab": {
     "base_uri": "https://localhost:8080/",
     "height": 115
    },
    "id": "6F0TvhQ9y759",
    "outputId": "f7ab6121-029a-4cb3-d5d8-4e63db6a9254"
   },
   "outputs": [
    {
     "data": {
      "text/plain": [
       "2379    False\n",
       "Name: printer_related, dtype: bool"
      ]
     },
     "execution_count": 155,
     "metadata": {},
     "output_type": "execute_result"
    }
   ],
   "source": [
    "y_train.head(1)"
   ]
  },
  {
   "cell_type": "code",
   "execution_count": 156,
   "metadata": {
    "colab": {
     "base_uri": "https://localhost:8080/"
    },
    "id": "kuWBOjROy759",
    "outputId": "87c7f583-4ff3-464c-d6f5-60b89c585dc3"
   },
   "outputs": [
    {
     "name": "stdout",
     "output_type": "stream",
     "text": [
      "Fitting 5 folds for each of 12 candidates, totalling 60 fits\n"
     ]
    },
    {
     "name": "stdout",
     "output_type": "stream",
     "text": [
      "Logistic Regression model retrained and saved successfully!\n",
      "Best Hyperparameters: {'C': 1, 'max_iter': 300, 'penalty': 'l2', 'solver': 'lbfgs'}\n",
      "Accuracy: 0.8978947368421053\n",
      "Recall: 0.9545454545454546\n",
      "Classification Report:\n",
      "              precision    recall  f1-score   support\n",
      "\n",
      "       False       1.00      0.90      0.95      2828\n",
      "        True       0.07      0.95      0.13        22\n",
      "\n",
      "    accuracy                           0.90      2850\n",
      "   macro avg       0.53      0.93      0.54      2850\n",
      "weighted avg       0.99      0.90      0.94      2850\n",
      "\n",
      "Confusion Matrix:\n",
      "[[2538  290]\n",
      " [   1   21]]\n"
     ]
    }
   ],
   "source": [
    "import pickle\n",
    "from sklearn.linear_model import LogisticRegression\n",
    "from sklearn.model_selection import RandomizedSearchCV\n",
    "from sklearn.metrics import accuracy_score, recall_score, classification_report, confusion_matrix\n",
    "\n",
    "# Define hyperparameter grid for Logistic Regression\n",
    "param_grid = {\n",
    "    'penalty': ['l1', 'l2', 'elasticnet', None],\n",
    "    'C': [1],\n",
    "    'solver': ['liblinear', 'lbfgs', 'saga'],\n",
    "    'max_iter': [300]\n",
    "}\n",
    "\n",
    "# Initialize Logistic Regression model\n",
    "logreg = LogisticRegression(random_state=42)\n",
    "\n",
    "# Perform hyperparameter tuning\n",
    "grid_search = GridSearchCV(logreg, param_grid, scoring='recall', cv=5, verbose=1, n_jobs=-1)\n",
    "grid_search.fit(X_resampled, y_resampled)\n",
    "\n",
    "# Get best parameters from grid search\n",
    "best_params = grid_search.best_params_\n",
    "\n",
    "# Train model with best hyperparameters\n",
    "best_logreg_model = LogisticRegression(random_state=42, **best_params)\n",
    "best_logreg_model.fit(X_resampled, y_resampled)\n",
    "\n",
    "# Save trained Logistic Regression model\n",
    "with open(\"logreg_model.pkl\", \"wb\") as f:\n",
    "    pickle.dump(best_logreg_model, f)\n",
    "\n",
    "print(\"Logistic Regression model retrained and saved successfully!\")\n",
    "\n",
    "# Make predictions on the test set\n",
    "y_pred = best_logreg_model.predict(X_test).astype(bool)\n",
    "\n",
    "# Calculate accuracy and recall\n",
    "accuracy = accuracy_score(y_test, y_pred)\n",
    "recall = recall_score(y_test, y_pred)\n",
    "\n",
    "print(\"Best Hyperparameters:\", best_params)\n",
    "print(\"Accuracy:\", accuracy)\n",
    "print(\"Recall:\", recall)\n",
    "\n",
    "# Classification Report and Confusion Matrix\n",
    "print(\"Classification Report:\")\n",
    "print(classification_report(y_test, y_pred))\n",
    "print(\"Confusion Matrix:\")\n",
    "print(confusion_matrix(y_test, y_pred))\n"
   ]
  },
  {
   "cell_type": "code",
   "execution_count": 157,
   "metadata": {
    "colab": {
     "base_uri": "https://localhost:8080/"
    },
    "id": "Ea-tp9b6y759",
    "outputId": "51d27ec3-853e-458e-c03d-0c081eaa91ba"
   },
   "outputs": [
    {
     "name": "stdout",
     "output_type": "stream",
     "text": [
      "Fitting 5 folds for each of 1 candidates, totalling 5 fits\n",
      "Gradient Boosting model retrained and saved successfully!\n",
      "Best Hyperparameters: {'learning_rate': 0.01, 'max_depth': 2, 'min_samples_leaf': 2, 'min_samples_split': 5, 'n_estimators': 10, 'subsample': 0.9}\n",
      "Accuracy: 0.9101754385964912\n",
      "Recall: 1.0\n",
      "Classification Report:\n",
      "              precision    recall  f1-score   support\n",
      "\n",
      "       False       1.00      0.91      0.95      2828\n",
      "        True       0.08      1.00      0.15        22\n",
      "\n",
      "    accuracy                           0.91      2850\n",
      "   macro avg       0.54      0.95      0.55      2850\n",
      "weighted avg       0.99      0.91      0.95      2850\n",
      "\n",
      "Confusion Matrix:\n",
      "[[2572  256]\n",
      " [   0   22]]\n"
     ]
    }
   ],
   "source": [
    "import pickle\n",
    "from sklearn.ensemble import GradientBoostingClassifier\n",
    "from sklearn.model_selection import RandomizedSearchCV\n",
    "from sklearn.metrics import accuracy_score, recall_score, classification_report, confusion_matrix\n",
    "\n",
    "# Define hyperparameter grid for Gradient Boosting Machine\n",
    "param_grid = {\n",
    "    'n_estimators': [10],  # Reduce trees even further\n",
    "    'max_depth': [2], \n",
    "    'learning_rate': [0.01],\n",
    "    'min_samples_split': [5],\n",
    "    'min_samples_leaf': [2],\n",
    "    'subsample': [0.9]\n",
    "}\n",
    "\n",
    "# Initialize Gradient Boosting model\n",
    "gbm = GradientBoostingClassifier(random_state=42)\n",
    "\n",
    "# Perform hyperparameter tuning\n",
    "grid_search = GridSearchCV(gbm, param_grid, scoring='recall', cv=5, verbose=1, n_jobs=-1)\n",
    "grid_search.fit(X_resampled, y_resampled)\n",
    "\n",
    "# Get best parameters from grid search\n",
    "best_params = grid_search.best_params_\n",
    "\n",
    "# Train model with best hyperparameters\n",
    "best_gbm_model = GradientBoostingClassifier(random_state=10, **best_params)\n",
    "best_gbm_model.fit(X_resampled, y_resampled)\n",
    "\n",
    "# Save trained Gradient Boosting model\n",
    "with open(\"gbm.pkl\", \"wb\") as f:\n",
    "    pickle.dump(best_gbm_model, f)\n",
    "\n",
    "print(\"Gradient Boosting model retrained and saved successfully!\")\n",
    "\n",
    "# Make predictions on the test set\n",
    "y_pred = best_gbm_model.predict(X_test).astype(bool)\n",
    "\n",
    "# Calculate accuracy and recall\n",
    "accuracy = accuracy_score(y_test, y_pred)\n",
    "recall = recall_score(y_test, y_pred)\n",
    "\n",
    "print(\"Best Hyperparameters:\", best_params)\n",
    "print(\"Accuracy:\", accuracy)\n",
    "print(\"Recall:\", recall)\n",
    "\n",
    "# Classification Report and Confusion Matrix\n",
    "print(\"Classification Report:\")\n",
    "print(classification_report(y_test, y_pred))\n",
    "print(\"Confusion Matrix:\")\n",
    "print(confusion_matrix(y_test, y_pred))\n"
   ]
  },
  {
   "cell_type": "code",
   "execution_count": 158,
   "metadata": {},
   "outputs": [
    {
     "name": "stdout",
     "output_type": "stream",
     "text": [
      "Fitting 5 folds for each of 1 candidates, totalling 5 fits\n",
      "XGBoost model retrained and saved successfully!\n",
      "Best Hyperparameters: {'colsample_bytree': 0.3, 'gamma': 0.4, 'learning_rate': 0.05, 'max_depth': 4, 'n_estimators': 60, 'subsample': 0.4}\n",
      "Accuracy: 0.9480701754385965\n",
      "Recall: 0.8636363636363636\n",
      "Precision: 0.11585365853658537\n",
      "Classification Report:\n",
      "              precision    recall  f1-score   support\n",
      "\n",
      "       False       1.00      0.95      0.97      2828\n",
      "        True       0.12      0.86      0.20        22\n",
      "\n",
      "    accuracy                           0.95      2850\n",
      "   macro avg       0.56      0.91      0.59      2850\n",
      "weighted avg       0.99      0.95      0.97      2850\n",
      "\n",
      "Confusion Matrix:\n",
      "[[2683  145]\n",
      " [   3   19]]\n",
      "Cross-validation recall: 0.9692799087474417\n"
     ]
    }
   ],
   "source": [
    "import xgboost as xgb\n",
    "import pickle\n",
    "from sklearn.model_selection import GridSearchCV\n",
    "from sklearn.metrics import accuracy_score, recall_score,precision_score, classification_report, confusion_matrix\n",
    "import numpy as np\n",
    "\n",
    "# Define hyperparameter grid for XGBoost\n",
    "param_grid = {\n",
    "    'n_estimators': [60],  # Reduce trees even further\n",
    "    'max_depth': [4],  # Shallower trees for better generalization\n",
    "    'learning_rate': [0.05],  # Smoother updates to avoid overfitting\n",
    "    'subsample': [0.4],  # Use even less data per tree\n",
    "    'colsample_bytree': [0.3],  # Reduce feature usage further\n",
    "    'gamma': [0.4],  # Increase gamma for stronger regularization\n",
    "}\n",
    "\n",
    "# Initialize XGBoost classifier\n",
    "xgb_model = xgb.XGBClassifier(objective='binary:logistic', random_state=42)\n",
    "\n",
    "# Perform hyperparameter tuning using GridSearchCV\n",
    "grid_search = GridSearchCV(xgb_model, param_grid, scoring='recall', cv=5, verbose=1, n_jobs=-1)\n",
    "grid_search.fit(X_resampled, y_resampled)\n",
    "\n",
    "# Get best parameters from grid search\n",
    "best_params = grid_search.best_params_\n",
    "\n",
    "# Train model with best hyperparameters\n",
    "final_model = xgb.XGBClassifier(objective='binary:logistic', random_state=42,  **best_params)\n",
    "final_model.fit(X_resampled, y_resampled)\n",
    "\n",
    "# Save trained XGBoost model\n",
    "with open(\"xgb_model.pkl\", \"wb\") as f:\n",
    "    pickle.dump(final_model, f)\n",
    "\n",
    "print(\"XGBoost model retrained and saved successfully!\")\n",
    "\n",
    "# Make predictions on the test set\n",
    "y_pred = final_model.predict(X_test).astype(bool)\n",
    "\n",
    "# Calculate accuracy and recall\n",
    "accuracy = accuracy_score(y_test, y_pred)\n",
    "recall = recall_score(y_test, y_pred)\n",
    "precision = precision_score(y_test, y_pred)\n",
    "\n",
    "print(\"Best Hyperparameters:\", best_params)\n",
    "print(\"Accuracy:\", accuracy)\n",
    "print(\"Recall:\", recall)\n",
    "print(\"Precision:\", precision)\n",
    "# Classification Report and Confusion Matrix\n",
    "print(\"Classification Report:\")\n",
    "print(classification_report(y_test, y_pred))\n",
    "print(\"Confusion Matrix:\")\n",
    "print(confusion_matrix(y_test, y_pred))\n",
    "\n",
    "# Cross-validation recall\n",
    "from sklearn.model_selection import cross_val_score\n",
    "cv_scores = cross_val_score(final_model, X_resampled, y_resampled, cv=5, scoring='recall')\n",
    "print(\"Cross-validation recall:\", np.mean(cv_scores))\n"
   ]
  },
  {
   "cell_type": "code",
   "execution_count": 159,
   "metadata": {
    "colab": {
     "base_uri": "https://localhost:8080/"
    },
    "id": "gchaywxny75-",
    "outputId": "afe90502-793e-4d65-b4cc-8c5ceb51bc7b"
   },
   "outputs": [
    {
     "name": "stdout",
     "output_type": "stream",
     "text": [
      "Fitting 5 folds for each of 2 candidates, totalling 10 fits\n",
      "Random Forest model retrained and saved successfully!\n",
      "Best Hyperparameters: {'bootstrap': True, 'max_depth': 2, 'min_samples_leaf': 2, 'min_samples_split': 5, 'n_estimators': 40}\n",
      "Accuracy: 0.9150877192982456\n",
      "Recall: 0.9545454545454546\n",
      "Classification Report:\n",
      "              precision    recall  f1-score   support\n",
      "\n",
      "       False       1.00      0.91      0.96      2828\n",
      "        True       0.08      0.95      0.15        22\n",
      "\n",
      "    accuracy                           0.92      2850\n",
      "   macro avg       0.54      0.93      0.55      2850\n",
      "weighted avg       0.99      0.92      0.95      2850\n",
      "\n",
      "Confusion Matrix:\n",
      "[[2587  241]\n",
      " [   1   21]]\n"
     ]
    }
   ],
   "source": [
    "from sklearn.ensemble import RandomForestClassifier\n",
    "from sklearn.model_selection import RandomizedSearchCV\n",
    "import pickle\n",
    "\n",
    "# Define the RandomForest model\n",
    "rf_model = RandomForestClassifier(random_state=42)\n",
    "\n",
    "# Define hyperparameter grid for tuning\n",
    "param_grid = {\n",
    "    'n_estimators': [40],  # Reduce trees even further\n",
    "    'max_depth': [2], \n",
    "    'min_samples_split': [5],\n",
    "    'min_samples_leaf': [2],\n",
    "    'bootstrap': [True, False]\n",
    "}\n",
    "\n",
    "# Perform RandomizedSearchCV\n",
    "grid_search = GridSearchCV(rf_model, param_grid, scoring='recall', cv=5, verbose=1, n_jobs=-1)\n",
    "grid_search.fit(X_resampled, y_resampled)\n",
    "\n",
    "# Get best hyperparameters\n",
    "best_params = grid_search.best_params_\n",
    "\n",
    "# Train the model with best hyperparameters\n",
    "best_rfc_model = RandomForestClassifier(random_state=42, **best_params)\n",
    "best_rfc_model.fit(X_resampled, y_resampled)\n",
    "\n",
    "# Save the trained RandomForest model\n",
    "with open(\"random_forest_model.pkl\", \"wb\") as f:\n",
    "    pickle.dump(best_rfc_model, f)\n",
    "\n",
    "print(\"Random Forest model retrained and saved successfully!\")\n",
    "y_pred = best_rfc_model.predict(X_test).astype(bool)\n",
    "\n",
    "# Calculate accuracy and recall\n",
    "accuracy = accuracy_score(y_test, y_pred)\n",
    "recall = recall_score(y_test, y_pred)\n",
    "\n",
    "print(\"Best Hyperparameters:\", best_params)\n",
    "print(\"Accuracy:\", accuracy)\n",
    "print(\"Recall:\", recall)\n",
    "\n",
    "# Classification Report and Confusion Matrix\n",
    "print(\"Classification Report:\")\n",
    "print(classification_report(y_test, y_pred))\n",
    "print(\"Confusion Matrix:\")\n",
    "print(confusion_matrix(y_test, y_pred))"
   ]
  },
  {
   "cell_type": "code",
   "execution_count": 160,
   "metadata": {
    "colab": {
     "base_uri": "https://localhost:8080/"
    },
    "id": "ZuHvvKvuy75-",
    "outputId": "82f550ae-bc65-4f8e-8833-ae25df05c24e"
   },
   "outputs": [
    {
     "name": "stdout",
     "output_type": "stream",
     "text": [
      "Fitting 5 folds for each of 1 candidates, totalling 5 fits\n",
      "Decision Tree model retrained and saved successfully!\n",
      "Best Hyperparameters: {'min_samples_split': 5, 'min_samples_leaf': 2, 'max_depth': 2, 'criterion': 'entropy'}\n",
      "Accuracy: 0.9101754385964912\n",
      "Recall: 1.0\n",
      "Classification Report:\n",
      "              precision    recall  f1-score   support\n",
      "\n",
      "       False       1.00      0.91      0.95      2828\n",
      "        True       0.08      1.00      0.15        22\n",
      "\n",
      "    accuracy                           0.91      2850\n",
      "   macro avg       0.54      0.95      0.55      2850\n",
      "weighted avg       0.99      0.91      0.95      2850\n",
      "\n",
      "Confusion Matrix:\n",
      "[[2572  256]\n",
      " [   0   22]]\n",
      "Cross-validation recall: 1.0\n"
     ]
    }
   ],
   "source": [
    "import pickle\n",
    "import numpy as np\n",
    "from sklearn.tree import DecisionTreeClassifier\n",
    "from sklearn.model_selection import RandomizedSearchCV, cross_val_score\n",
    "from sklearn.metrics import accuracy_score, recall_score, classification_report, confusion_matrix\n",
    "\n",
    "# Define hyperparameter grid for Decision Tree\n",
    "param_grid = {\n",
    "    'criterion': ['entropy'],\n",
    "    'max_depth': [2], \n",
    "    'min_samples_split': [5],\n",
    "    'min_samples_leaf': [2],\n",
    "}\n",
    "\n",
    "# Initialize Decision Tree classifier\n",
    "dt_model = DecisionTreeClassifier(random_state=42)\n",
    "\n",
    "# Perform hyperparameter tuning\n",
    "grid_search = RandomizedSearchCV(dt_model, param_grid, scoring='recall', cv=5, n_iter=20, verbose=1, n_jobs=-1)\n",
    "grid_search.fit(X_resampled, y_resampled)\n",
    "\n",
    "# Get best parameters from grid search\n",
    "best_params = grid_search.best_params_\n",
    "\n",
    "# Train model with best hyperparameters\n",
    "best_dt_model = DecisionTreeClassifier(random_state=42, **best_params)\n",
    "best_dt_model.fit(X_resampled, y_resampled)\n",
    "\n",
    "# Save trained Decision Tree model\n",
    "with open(\"decision_tree_model.pkl\", \"wb\") as f:\n",
    "    pickle.dump(best_dt_model, f)\n",
    "\n",
    "print(\"Decision Tree model retrained and saved successfully!\")\n",
    "\n",
    "# Make predictions on the test set\n",
    "y_pred = best_dt_model.predict(X_test).astype(bool)\n",
    "\n",
    "# Calculate accuracy and recall\n",
    "accuracy = accuracy_score(y_test, y_pred)\n",
    "recall = recall_score(y_test, y_pred)\n",
    "\n",
    "print(\"Best Hyperparameters:\", best_params)\n",
    "print(\"Accuracy:\", accuracy)\n",
    "print(\"Recall:\", recall)\n",
    "\n",
    "# Classification Report and Confusion Matrix\n",
    "print(\"Classification Report:\")\n",
    "print(classification_report(y_test, y_pred))\n",
    "print(\"Confusion Matrix:\")\n",
    "print(confusion_matrix(y_test, y_pred))\n",
    "\n",
    "# Cross-validation scores\n",
    "cv_scores = cross_val_score(best_dt_model, X_resampled, y_resampled, cv=5, scoring='recall')\n",
    "print(\"Cross-validation recall:\", np.mean(cv_scores))"
   ]
  },
  {
   "cell_type": "markdown",
   "metadata": {
    "id": "H6F8tJfH7gTw"
   },
   "source": [
    "# STEP 5: Model Evaluation for final model"
   ]
  },
  {
   "cell_type": "code",
   "execution_count": 161,
   "metadata": {
    "colab": {
     "base_uri": "https://localhost:8080/",
     "height": 571
    },
    "id": "09wzx9mE7gTw",
    "outputId": "db8e0758-aef7-438a-dcde-1508e85f29f2"
   },
   "outputs": [],
   "source": [
    "# # Calculate the confusion matrix\n",
    "# cm = confusion_matrix(y_test, y_pred)\n",
    "\n",
    "# # Define labels for the binary confusion matrix\n",
    "# labels = ['Negative Class', 'Positive Class']\n",
    "\n",
    "# # Create a DataFrame from the confusion matrix and labels\n",
    "# cm_df = pd.DataFrame(cm, index=labels, columns=labels)\n",
    "\n",
    "# # Plot the confusion matrix using seaborn heatmap with 'YlGnBu' color map\n",
    "# plt.figure(figsize=(8, 6))\n",
    "# sns.heatmap(cm_df, annot=True, fmt='d', cmap='Greens', cbar=False, annot_kws={'size': 12})\n",
    "# plt.xlabel('Predicted Labels', fontsize=14)\n",
    "# plt.ylabel('True Labels', fontsize=14)\n",
    "# plt.title('Confusion Matrix', fontsize=16)\n",
    "# plt.show()"
   ]
  },
  {
   "cell_type": "code",
   "execution_count": 162,
   "metadata": {
    "colab": {
     "base_uri": "https://localhost:8080/",
     "height": 564
    },
    "id": "HYBTWSwm7gTw",
    "outputId": "5eb1de68-8117-4626-8b41-653bb18844ef"
   },
   "outputs": [],
   "source": [
    "# # Get the predicted probabilities for the positive class\n",
    "# y_prob = final_model.predict_proba(X_test)[:, 1]\n",
    "\n",
    "# # Compute the ROC curve\n",
    "# fpr, tpr, thresholds = roc_curve(y_test, y_prob)\n",
    "\n",
    "# # Plot the ROC curve\n",
    "# plt.figure(figsize=(8, 6))\n",
    "# plt.plot(fpr, tpr, color='blue', lw=2, label='ROC Curve (AUC = {:.2f})'.format(roc_auc_score(y_test, y_prob)))\n",
    "# plt.plot([0, 1], [0, 1], color='gray', linestyle='--')\n",
    "# plt.xlabel('False Positive Rate')\n",
    "# plt.ylabel('True Positive Rate')\n",
    "# plt.title('Receiver Operating Characteristic (ROC) Curve')\n",
    "# plt.legend(loc='lower right')\n",
    "# plt.grid(True)\n",
    "# plt.show()"
   ]
  },
  {
   "cell_type": "code",
   "execution_count": 163,
   "metadata": {
    "colab": {
     "base_uri": "https://localhost:8080/",
     "height": 674
    },
    "id": "rjpB0mL-7gTx",
    "outputId": "2c37dc94-0e5c-44c0-ee3e-6275c93c7869"
   },
   "outputs": [],
   "source": [
    "# # Get feature importances from the trained model\n",
    "# importances = final_model.feature_importances_\n",
    "\n",
    "# # Create a DataFrame to store feature importances\n",
    "# feature_importances_df = pd.DataFrame({'Feature': X.columns, 'Importance': importances})\n",
    "\n",
    "# # Sort the features by importance in descending order\n",
    "# feature_importances_df = feature_importances_df.sort_values(by='Importance', ascending=False)\n",
    "\n",
    "# # Plot feature importances\n",
    "# plt.figure(figsize=(10, 6))\n",
    "# sns.barplot(x='Importance', y='Feature', data=feature_importances_df, palette='viridis')\n",
    "# plt.xlabel('Feature Importance')\n",
    "# plt.ylabel('Features')\n",
    "# plt.title('Feature Importances Plot')\n",
    "# plt.show()"
   ]
  },
  {
   "cell_type": "markdown",
   "metadata": {
    "id": "4SEAgwjV7gTx"
   },
   "source": [
    "# STEP 6: DEPLOYMENT"
   ]
  },
  {
   "cell_type": "markdown",
   "metadata": {
    "id": "lK8hMSZA7gTx"
   },
   "source": [
    "## Save the trained model for future inference"
   ]
  },
  {
   "cell_type": "code",
   "execution_count": 164,
   "metadata": {
    "colab": {
     "base_uri": "https://localhost:8080/"
    },
    "id": "G3ia2fFGy75_",
    "outputId": "559ea22d-a94a-4e8f-ff7c-2e3c08c420e6"
   },
   "outputs": [],
   "source": [
    "# value = y_train.iloc[131]\n",
    "# valueX = X_train.iloc[131]\n",
    "# print(value)\n",
    "# print(valueX)"
   ]
  },
  {
   "cell_type": "code",
   "execution_count": 165,
   "metadata": {
    "colab": {
     "base_uri": "https://localhost:8080/"
    },
    "id": "W73Zzpu0Yb26",
    "outputId": "345ae2e4-7ff5-4a29-fdcb-75863e363b1b"
   },
   "outputs": [],
   "source": [
    "# import pickle\n",
    "# import pandas as pd\n",
    "# from sklearn.preprocessing import LabelEncoder\n",
    "# from sklearn.utils.validation import check_is_fitted\n",
    "\n",
    "# # Load the saved LabelEncoder\n",
    "# with open(\"encoder.pkl\", \"rb\") as f:\n",
    "#     loaded_encoders = pickle.load(f)\n",
    "\n",
    "# print(type(loaded_encoders))\n",
    "# # Load the trained model\n",
    "# with open(\"model.pkl\", \"rb\") as f:\n",
    "#     loaded_model = pickle.load(f)\n",
    "\n",
    "# try:\n",
    "#   check_is_fitted(loaded_model)\n",
    "#   print(\"Model is fitted. Ready for predictions.\")\n",
    "# except Exception as e:\n",
    "#   print(\"Model is NOT fitted:\", e)\n",
    "\n",
    "# # Define new input data (must match training format)\n",
    "# X_new = pd.DataFrame([{\n",
    "#     \"Customer ID\": \"SZ-20035\",\n",
    "#     \"Sales\": 600.53,\n",
    "#     \"Discount\": 0.3,\n",
    "#     \"Total Revenue\": 1201.06,\n",
    "#     \"Category\": \"Technology\",\n",
    "#     \"Sub-Category\": \"Machines\",\n",
    "# }\n",
    "# ])\n",
    "\n",
    "# print(\"Available encoders in encoder.pkl:\", loaded_encoders.keys())\n",
    "# print(\"Columns in X_new:\", X_new.columns.tolist())\n",
    "\n",
    "# for col in X_new.select_dtypes(include='object'):\n",
    "#     if col in loaded_encoders:  # Check if an encoder exists for this column\n",
    "#         encoder = loaded_encoders[col]  # Get the correct LabelEncoder\n",
    "#         X_new[col] = X_new[col].apply(lambda x: encoder.transform([x])[0]\n",
    "#                                       if x in encoder.classes_ else -1)  # Assign -1 for unseen categories\n",
    "#     else:\n",
    "#         print(f\"⚠️ Warning: No encoder found for column '{col}'\")\n",
    "#         X_new[col] = -1  # If column was not encoded before, assign -1\n",
    "\n",
    "# print(X_new)\n",
    "# # Make prediction\n",
    "# prediction = loaded_model.predict(X_new).astype(bool)\n",
    "\n",
    "# print(\"Predicted class:\", prediction)\n"
   ]
  },
  {
   "cell_type": "code",
   "execution_count": 166,
   "metadata": {
    "colab": {
     "base_uri": "https://localhost:8080/"
    },
    "id": "3ZwFBnuVy76A",
    "outputId": "f7edfd17-628a-419c-e170-2c7b4bf64f36"
   },
   "outputs": [],
   "source": [
    "# encoded_row = X_train.iloc[131].copy()  # Get a copy of the encoded row\n",
    "\n",
    "# # Decode categorical columns\n",
    "# for col in loaded_encoders:\n",
    "#     if col in encoded_row:  # Ensure column exists\n",
    "#         encoder = loaded_encoders[col]\n",
    "#         encoded_value = encoded_row[col]  # Get encoded value\n",
    "#         decoded_value = encoder.inverse_transform([int(encoded_value)])[0]  # Decode\n",
    "#         encoded_row[col] = decoded_value  # Replace with original value\n",
    "\n",
    "# # Print decoded row\n",
    "# print(\"✅ Decoded Row:\\n\", encoded_row)"
   ]
  },
  {
   "cell_type": "code",
   "execution_count": 167,
   "metadata": {
    "colab": {
     "base_uri": "https://localhost:8080/"
    },
    "id": "ggyteEbomhu-",
    "outputId": "63bb7d4e-4f46-4c22-a5e6-b274ec3fa1c6"
   },
   "outputs": [],
   "source": [
    "# specific_indexes = [172, 462]\n",
    "# sample_X_train = X_train.iloc[specific_indexes]\n",
    "# sample_y_train = y_train.iloc[specific_indexes]\n",
    "# prediction = loaded_model.predict(sample_X_train).astype(bool)\n",
    "\n",
    "# print(\"Predicted class:\", prediction)\n",
    "# print(\"Actual Labels:\", sample_y_train.values)\n"
   ]
  }
 ],
 "metadata": {
  "colab": {
   "provenance": []
  },
  "kernelspec": {
   "display_name": "Python 3 (ipykernel)",
   "language": "python",
   "name": "python3"
  },
  "language_info": {
   "codemirror_mode": {
    "name": "ipython",
    "version": 3
   },
   "file_extension": ".py",
   "mimetype": "text/x-python",
   "name": "python",
   "nbconvert_exporter": "python",
   "pygments_lexer": "ipython3",
   "version": "3.12.6"
  }
 },
 "nbformat": 4,
 "nbformat_minor": 4
}
