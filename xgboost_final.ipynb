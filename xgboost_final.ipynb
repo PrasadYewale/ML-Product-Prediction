{
 "cells": [
  {
   "cell_type": "markdown",
   "id": "ea10bd76-e201-4bf3-9cf4-dc138848b612",
   "metadata": {
    "id": "ea10bd76-e201-4bf3-9cf4-dc138848b612"
   },
   "source": [
    "# **Data Scientist Take-Home Exercise**\n",
    "## Data Dictionary\n",
    "1. customer_info  \n",
    "2. product_info  \n",
    "3. customer_transaction_info  \n",
    "4. orders_returned_info  \n",
    "5. region_seller_info"
   ]
  },
  {
   "cell_type": "markdown",
   "id": "IIAbrJBqfYWc",
   "metadata": {
    "id": "IIAbrJBqfYWc"
   },
   "source": [
    "## **Steps**\n",
    "## **Step 1: Data Preprocessing & Cleaning**\n",
    "## **Step 2: Visualizations & Statistics**"
   ]
  },
  {
   "cell_type": "code",
   "execution_count": 304,
   "id": "bf28c08b-0a55-4ec7-ab2b-3017fef8d8c2",
   "metadata": {
    "id": "bf28c08b-0a55-4ec7-ab2b-3017fef8d8c2"
   },
   "outputs": [],
   "source": [
    "import numpy as np  # Version: 1.26.4\n",
    "import pandas as pd # Version: 2.2.2\n",
    "import matplotlib.pyplot as plt # Version: 3.9.2\n",
    "import seaborn as sns # Version: 0.13.2\n"
   ]
  },
  {
   "cell_type": "markdown",
   "id": "51320b79-65e3-40a4-880b-9b429303ccaf",
   "metadata": {
    "id": "51320b79-65e3-40a4-880b-9b429303ccaf"
   },
   "source": [
    "### 1.1 Product Info ##"
   ]
  },
  {
   "cell_type": "code",
   "execution_count": 305,
   "id": "90adfa1f-47b6-4f9a-b28d-42bbfe52ffe7",
   "metadata": {
    "id": "90adfa1f-47b6-4f9a-b28d-42bbfe52ffe7"
   },
   "outputs": [],
   "source": [
    "# load dataset\n",
    "df_product = pd.read_csv(\"./data/product_info.csv\")"
   ]
  },
  {
   "cell_type": "code",
   "execution_count": 306,
   "id": "c718dda3-5d3f-4be6-916d-3e39a390e528",
   "metadata": {
    "colab": {
     "base_uri": "https://localhost:8080/"
    },
    "id": "c718dda3-5d3f-4be6-916d-3e39a390e528",
    "outputId": "90f4d9fb-37ef-4654-b52d-dd7c32b6e8e7"
   },
   "outputs": [
    {
     "data": {
      "text/plain": [
       "(1894, 5)"
      ]
     },
     "execution_count": 306,
     "metadata": {},
     "output_type": "execute_result"
    }
   ],
   "source": [
    "df_product.shape"
   ]
  },
  {
   "cell_type": "code",
   "execution_count": 307,
   "id": "5ed9e587-2e1c-4859-9bd7-d6bbfe2c37b4",
   "metadata": {
    "colab": {
     "base_uri": "https://localhost:8080/",
     "height": 206
    },
    "id": "5ed9e587-2e1c-4859-9bd7-d6bbfe2c37b4",
    "outputId": "497f1e9c-64e7-4495-8155-9c9bdd8e534e"
   },
   "outputs": [
    {
     "data": {
      "text/html": [
       "<div>\n",
       "<style scoped>\n",
       "    .dataframe tbody tr th:only-of-type {\n",
       "        vertical-align: middle;\n",
       "    }\n",
       "\n",
       "    .dataframe tbody tr th {\n",
       "        vertical-align: top;\n",
       "    }\n",
       "\n",
       "    .dataframe thead th {\n",
       "        text-align: right;\n",
       "    }\n",
       "</style>\n",
       "<table border=\"1\" class=\"dataframe\">\n",
       "  <thead>\n",
       "    <tr style=\"text-align: right;\">\n",
       "      <th></th>\n",
       "      <th>index</th>\n",
       "      <th>Product ID</th>\n",
       "      <th>Category</th>\n",
       "      <th>Sub-Category</th>\n",
       "      <th>Product Name</th>\n",
       "    </tr>\n",
       "  </thead>\n",
       "  <tbody>\n",
       "    <tr>\n",
       "      <th>0</th>\n",
       "      <td>0</td>\n",
       "      <td>FUR-BO-10001798</td>\n",
       "      <td>Furniture</td>\n",
       "      <td>Bookcases</td>\n",
       "      <td>Bush Somerset Collection Bookcase</td>\n",
       "    </tr>\n",
       "    <tr>\n",
       "      <th>1</th>\n",
       "      <td>1</td>\n",
       "      <td>FUR-CH-10000454</td>\n",
       "      <td>Furniture</td>\n",
       "      <td>Chairs</td>\n",
       "      <td>Hon Deluxe Fabric Upholstered Stacking Chairs,...</td>\n",
       "    </tr>\n",
       "    <tr>\n",
       "      <th>2</th>\n",
       "      <td>2</td>\n",
       "      <td>OFF-LA-10000240</td>\n",
       "      <td>Office Supplies</td>\n",
       "      <td>Labels</td>\n",
       "      <td>Self-Adhesive Address Labels for Typewriters b...</td>\n",
       "    </tr>\n",
       "    <tr>\n",
       "      <th>3</th>\n",
       "      <td>3</td>\n",
       "      <td>FUR-TA-10000577</td>\n",
       "      <td>Furniture</td>\n",
       "      <td>Tables</td>\n",
       "      <td>Bretford CR4500 Series Slim Rectangular Table</td>\n",
       "    </tr>\n",
       "    <tr>\n",
       "      <th>4</th>\n",
       "      <td>4</td>\n",
       "      <td>OFF-ST-10000760</td>\n",
       "      <td>Office Supplies</td>\n",
       "      <td>Storage</td>\n",
       "      <td>Eldon Fold 'N Roll Cart System</td>\n",
       "    </tr>\n",
       "  </tbody>\n",
       "</table>\n",
       "</div>"
      ],
      "text/plain": [
       "   index       Product ID         Category Sub-Category  \\\n",
       "0      0  FUR-BO-10001798        Furniture    Bookcases   \n",
       "1      1  FUR-CH-10000454        Furniture       Chairs   \n",
       "2      2  OFF-LA-10000240  Office Supplies       Labels   \n",
       "3      3  FUR-TA-10000577        Furniture       Tables   \n",
       "4      4  OFF-ST-10000760  Office Supplies      Storage   \n",
       "\n",
       "                                        Product Name  \n",
       "0                  Bush Somerset Collection Bookcase  \n",
       "1  Hon Deluxe Fabric Upholstered Stacking Chairs,...  \n",
       "2  Self-Adhesive Address Labels for Typewriters b...  \n",
       "3      Bretford CR4500 Series Slim Rectangular Table  \n",
       "4                     Eldon Fold 'N Roll Cart System  "
      ]
     },
     "execution_count": 307,
     "metadata": {},
     "output_type": "execute_result"
    }
   ],
   "source": [
    "df_product.head()"
   ]
  },
  {
   "cell_type": "code",
   "execution_count": 308,
   "id": "5ec97580-01ec-4f3f-a1b5-1b01d18a5e66",
   "metadata": {
    "colab": {
     "base_uri": "https://localhost:8080/"
    },
    "id": "5ec97580-01ec-4f3f-a1b5-1b01d18a5e66",
    "outputId": "8c09f93b-8a91-4f8c-eac3-3a641abb506c"
   },
   "outputs": [
    {
     "name": "stdout",
     "output_type": "stream",
     "text": [
      "<class 'pandas.core.frame.DataFrame'>\n",
      "RangeIndex: 1894 entries, 0 to 1893\n",
      "Data columns (total 5 columns):\n",
      " #   Column        Non-Null Count  Dtype \n",
      "---  ------        --------------  ----- \n",
      " 0   index         1894 non-null   int64 \n",
      " 1   Product ID    1894 non-null   object\n",
      " 2   Category      1894 non-null   object\n",
      " 3   Sub-Category  1894 non-null   object\n",
      " 4   Product Name  1894 non-null   object\n",
      "dtypes: int64(1), object(4)\n",
      "memory usage: 74.1+ KB\n"
     ]
    }
   ],
   "source": [
    "df_product.info()"
   ]
  },
  {
   "cell_type": "code",
   "execution_count": 309,
   "id": "827b8987-aa6e-4e6f-8837-5baeb64928af",
   "metadata": {
    "colab": {
     "base_uri": "https://localhost:8080/",
     "height": 240
    },
    "id": "827b8987-aa6e-4e6f-8837-5baeb64928af",
    "outputId": "1cacead8-cb18-4848-9e4d-2d5743dd7f2b"
   },
   "outputs": [
    {
     "data": {
      "text/plain": [
       "index           0\n",
       "Product ID      0\n",
       "Category        0\n",
       "Sub-Category    0\n",
       "Product Name    0\n",
       "dtype: int64"
      ]
     },
     "execution_count": 309,
     "metadata": {},
     "output_type": "execute_result"
    }
   ],
   "source": [
    "# isnull() => if value is not present then return true else false, sum() will sum up all true values\n",
    "df_product.isnull().sum()"
   ]
  },
  {
   "cell_type": "code",
   "execution_count": 310,
   "id": "9b7d3e98-3b6f-49d2-a1d1-4411889b1d37",
   "metadata": {
    "colab": {
     "base_uri": "https://localhost:8080/",
     "height": 539
    },
    "id": "9b7d3e98-3b6f-49d2-a1d1-4411889b1d37",
    "outputId": "5e5b52c2-3463-43ee-f20a-64eb7d145f28"
   },
   "outputs": [
    {
     "data": {
      "text/plain": [
       "<Axes: >"
      ]
     },
     "execution_count": 310,
     "metadata": {},
     "output_type": "execute_result"
    },
    {
     "data": {
      "image/png": "[encoded data removed]",
      "text/plain": [
       "<Figure size 640x480 with 2 Axes>"
      ]
     },
     "metadata": {},
     "output_type": "display_data"
    }
   ],
   "source": [
    "# sns.heatmap is a function in the Seaborn library used to visualize data in a matrix format with color-coded values\n",
    "\n",
    "sns.heatmap(df_product.isnull())"
   ]
  },
  {
   "cell_type": "markdown",
   "id": "uBi7aK8JdFYt",
   "metadata": {
    "id": "uBi7aK8JdFYt"
   },
   "source": [
    "### Data analysis\n",
    "* white color is for null value, if screen is pink mean data have not null value"
   ]
  },
  {
   "cell_type": "code",
   "execution_count": 311,
   "id": "be652e71-bdb4-4c7a-838f-ddf8f5830f4a",
   "metadata": {
    "colab": {
     "base_uri": "https://localhost:8080/",
     "height": 240
    },
    "id": "be652e71-bdb4-4c7a-838f-ddf8f5830f4a",
    "outputId": "1b57d0dd-f29f-409a-848c-bffb1a6621d2"
   },
   "outputs": [
    {
     "data": {
      "text/plain": [
       "index           1894\n",
       "Product ID      1862\n",
       "Category           3\n",
       "Sub-Category      17\n",
       "Product Name    1850\n",
       "dtype: int64"
      ]
     },
     "execution_count": 311,
     "metadata": {},
     "output_type": "execute_result"
    }
   ],
   "source": [
    "# returns the number of unique values in each column\n",
    "df_product.nunique()"
   ]
  },
  {
   "cell_type": "code",
   "execution_count": 312,
   "id": "21373790-0642-41c6-9825-1c9a1acf492d",
   "metadata": {
    "colab": {
     "base_uri": "https://localhost:8080/",
     "height": 1000
    },
    "id": "21373790-0642-41c6-9825-1c9a1acf492d",
    "outputId": "80637339-c546-42a5-e6b5-d9818bb77fe4"
   },
   "outputs": [
    {
     "data": {
      "image/png": "[encoded data removed]",
      "text/plain": [
       "<Figure size 1500x600 with 2 Axes>"
      ]
     },
     "metadata": {},
     "output_type": "display_data"
    },
    {
     "data": {
      "image/png": "[encoded data removed]",
      "text/plain": [
       "<Figure size 1000x800 with 1 Axes>"
      ]
     },
     "metadata": {},
     "output_type": "display_data"
    }
   ],
   "source": [
    "\n",
    "# Creating a figure with two subplots side by side\n",
    "fig, (ax1, ax2) = plt.subplots(1, 2, figsize=(15, 6))\n",
    "\n",
    "# Plot 1: Horizontal bar chart for Categories\n",
    "category_counts = df_product['Category'].value_counts()\n",
    "colors = sns.color_palette('husl', n_colors=len(category_counts))\n",
    "\n",
    "category_counts.plot(kind='barh', ax=ax1, color=colors)\n",
    "ax1.set_title('Product Categories Distribution')\n",
    "ax1.set_xlabel('Number of Products')\n",
    "ax1.set_ylabel('Category')\n",
    "\n",
    "# Plot 2: Pie chart for Categories\n",
    "plt.pie(category_counts, labels=category_counts.index, autopct='%1.1f%%',\n",
    "        colors=colors, startangle=90)\n",
    "ax2.set_title('Category Distribution (%)')\n",
    "\n",
    "plt.tight_layout()\n",
    "plt.show()\n",
    "\n",
    "# Creating a figure for Sub-Categories (using horizontal bars due to more categories)\n",
    "plt.figure(figsize=(10, 8))\n",
    "subcategory_counts = df_product['Sub-Category'].value_counts()\n",
    "colors_sub = sns.color_palette('husl', n_colors=len(subcategory_counts))\n",
    "\n",
    "# Plot horizontal bars for Sub-Categories\n",
    "subcategory_counts.plot(kind='barh', color=colors_sub)\n",
    "plt.title('Product Sub-Categories Distribution')\n",
    "plt.xlabel('Number of Products')\n",
    "plt.ylabel('Sub-Category')\n",
    "\n",
    "plt.tight_layout()\n",
    "plt.show()"
   ]
  },
  {
   "cell_type": "markdown",
   "id": "b555d6a8-c9f7-4d68-be23-d4f3834c8d89",
   "metadata": {
    "id": "b555d6a8-c9f7-4d68-be23-d4f3834c8d89"
   },
   "source": [
    "### Data analysis\n",
    "* Office Supplies is the highest category\n",
    "* Paper is the highest sub-category"
   ]
  },
  {
   "cell_type": "code",
   "execution_count": 313,
   "id": "4aa38282-a366-4cfe-87e2-0bc6858b13d3",
   "metadata": {
    "id": "4aa38282-a366-4cfe-87e2-0bc6858b13d3"
   },
   "outputs": [],
   "source": [
    "# Create a new column 'printer_related'\n",
    "# It is True if 'Product Name' contains \"printer\"\n",
    "# AND 'Sub-Category' is \"Machines\", otherwise False"
   ]
  },
  {
   "cell_type": "code",
   "execution_count": 314,
   "id": "1e5099a3-0891-47ae-879d-08d6a0543c7a",
   "metadata": {
    "id": "1e5099a3-0891-47ae-879d-08d6a0543c7a"
   },
   "outputs": [],
   "source": [
    "df_product['printer_related'] = np.where(\n",
    "    df_product['Product Name'].str.contains(\"printer\", case=False) &\n",
    "    (df_product['Sub-Category'] == \"Machines\"),\n",
    "    True, False\n",
    ")"
   ]
  },
  {
   "cell_type": "code",
   "execution_count": 315,
   "id": "82948b9a-ddf0-4cbf-9ef6-10725c310b55",
   "metadata": {
    "colab": {
     "base_uri": "https://localhost:8080/",
     "height": 206
    },
    "id": "82948b9a-ddf0-4cbf-9ef6-10725c310b55",
    "outputId": "a5b7d7f5-a4db-4d67-e7a1-feebf84f9986"
   },
   "outputs": [
    {
     "data": {
      "text/html": [
       "<div>\n",
       "<style scoped>\n",
       "    .dataframe tbody tr th:only-of-type {\n",
       "        vertical-align: middle;\n",
       "    }\n",
       "\n",
       "    .dataframe tbody tr th {\n",
       "        vertical-align: top;\n",
       "    }\n",
       "\n",
       "    .dataframe thead th {\n",
       "        text-align: right;\n",
       "    }\n",
       "</style>\n",
       "<table border=\"1\" class=\"dataframe\">\n",
       "  <thead>\n",
       "    <tr style=\"text-align: right;\">\n",
       "      <th></th>\n",
       "      <th>index</th>\n",
       "      <th>Product ID</th>\n",
       "      <th>Category</th>\n",
       "      <th>Sub-Category</th>\n",
       "      <th>Product Name</th>\n",
       "      <th>printer_related</th>\n",
       "    </tr>\n",
       "  </thead>\n",
       "  <tbody>\n",
       "    <tr>\n",
       "      <th>0</th>\n",
       "      <td>0</td>\n",
       "      <td>FUR-BO-10001798</td>\n",
       "      <td>Furniture</td>\n",
       "      <td>Bookcases</td>\n",
       "      <td>Bush Somerset Collection Bookcase</td>\n",
       "      <td>False</td>\n",
       "    </tr>\n",
       "    <tr>\n",
       "      <th>1</th>\n",
       "      <td>1</td>\n",
       "      <td>FUR-CH-10000454</td>\n",
       "      <td>Furniture</td>\n",
       "      <td>Chairs</td>\n",
       "      <td>Hon Deluxe Fabric Upholstered Stacking Chairs,...</td>\n",
       "      <td>False</td>\n",
       "    </tr>\n",
       "    <tr>\n",
       "      <th>2</th>\n",
       "      <td>2</td>\n",
       "      <td>OFF-LA-10000240</td>\n",
       "      <td>Office Supplies</td>\n",
       "      <td>Labels</td>\n",
       "      <td>Self-Adhesive Address Labels for Typewriters b...</td>\n",
       "      <td>False</td>\n",
       "    </tr>\n",
       "    <tr>\n",
       "      <th>3</th>\n",
       "      <td>3</td>\n",
       "      <td>FUR-TA-10000577</td>\n",
       "      <td>Furniture</td>\n",
       "      <td>Tables</td>\n",
       "      <td>Bretford CR4500 Series Slim Rectangular Table</td>\n",
       "      <td>False</td>\n",
       "    </tr>\n",
       "    <tr>\n",
       "      <th>4</th>\n",
       "      <td>4</td>\n",
       "      <td>OFF-ST-10000760</td>\n",
       "      <td>Office Supplies</td>\n",
       "      <td>Storage</td>\n",
       "      <td>Eldon Fold 'N Roll Cart System</td>\n",
       "      <td>False</td>\n",
       "    </tr>\n",
       "  </tbody>\n",
       "</table>\n",
       "</div>"
      ],
      "text/plain": [
       "   index       Product ID         Category Sub-Category  \\\n",
       "0      0  FUR-BO-10001798        Furniture    Bookcases   \n",
       "1      1  FUR-CH-10000454        Furniture       Chairs   \n",
       "2      2  OFF-LA-10000240  Office Supplies       Labels   \n",
       "3      3  FUR-TA-10000577        Furniture       Tables   \n",
       "4      4  OFF-ST-10000760  Office Supplies      Storage   \n",
       "\n",
       "                                        Product Name  printer_related  \n",
       "0                  Bush Somerset Collection Bookcase            False  \n",
       "1  Hon Deluxe Fabric Upholstered Stacking Chairs,...            False  \n",
       "2  Self-Adhesive Address Labels for Typewriters b...            False  \n",
       "3      Bretford CR4500 Series Slim Rectangular Table            False  \n",
       "4                     Eldon Fold 'N Roll Cart System            False  "
      ]
     },
     "execution_count": 315,
     "metadata": {},
     "output_type": "execute_result"
    }
   ],
   "source": [
    "df_product.head()"
   ]
  },
  {
   "cell_type": "code",
   "execution_count": 316,
   "id": "e5296919-8022-4c38-948f-a9118a8157dd",
   "metadata": {
    "id": "e5296919-8022-4c38-948f-a9118a8157dd"
   },
   "outputs": [],
   "source": [
    "df_product.drop('index', axis=1, inplace=True)"
   ]
  },
  {
   "cell_type": "code",
   "execution_count": 317,
   "id": "c3e61b55-cbfc-4ce8-8862-418a4032f5ba",
   "metadata": {
    "colab": {
     "base_uri": "https://localhost:8080/",
     "height": 507
    },
    "id": "c3e61b55-cbfc-4ce8-8862-418a4032f5ba",
    "outputId": "6b17ef4f-b026-42be-e18d-6b3cde7ccea3"
   },
   "outputs": [
    {
     "data": {
      "image/png": "[encoded data removed]",
      "text/plain": [
       "<Figure size 1500x500 with 1 Axes>"
      ]
     },
     "metadata": {},
     "output_type": "display_data"
    }
   ],
   "source": [
    "\n",
    "# Calculate the counts and percentages\n",
    "counts = df_product['printer_related'].value_counts()\n",
    "percentages = df_product['printer_related'].value_counts(normalize=True) * 100\n",
    "\n",
    "# Create a figure with multiple subplots\n",
    "fig = plt.figure(figsize=(15, 5))\n",
    "\n",
    "\n",
    "\n",
    "# 3. Donut Chart\n",
    "\n",
    "plt.pie(counts, labels=['Non-Printer', 'Printer'], autopct='%1.1f%%',\n",
    "        colors=colors, startangle=90, pctdistance=0.85,\n",
    "        wedgeprops=dict(width=0.5))\n",
    "plt.title('Printer Distribution (Donut)')\n",
    "\n",
    "plt.tight_layout()\n",
    "plt.show()"
   ]
  },
  {
   "cell_type": "markdown",
   "id": "Ex0z1WEOdbNQ",
   "metadata": {
    "id": "Ex0z1WEOdbNQ"
   },
   "source": [
    "### Data analysis\n",
    "* only 2% data is realated to Printer."
   ]
  },
  {
   "cell_type": "markdown",
   "id": "79bbc864-6d2e-451e-8b62-3e8af264261f",
   "metadata": {
    "id": "79bbc864-6d2e-451e-8b62-3e8af264261f"
   },
   "source": [
    "### 1.2 Customer Transaction Info ##"
   ]
  },
  {
   "cell_type": "code",
   "execution_count": 318,
   "id": "ef4446eb-678e-4a40-9a4e-6d98c8f1d9be",
   "metadata": {
    "id": "ef4446eb-678e-4a40-9a4e-6d98c8f1d9be"
   },
   "outputs": [],
   "source": [
    "df_customer_tran =  pd.read_csv(\"./data/customer_transaction_info.csv\")"
   ]
  },
  {
   "cell_type": "code",
   "execution_count": 319,
   "id": "4c294ee4-8909-49f6-b819-02f0ab4b3239",
   "metadata": {
    "colab": {
     "base_uri": "https://localhost:8080/"
    },
    "id": "4c294ee4-8909-49f6-b819-02f0ab4b3239",
    "outputId": "cbe8c206-013c-4b1f-d36c-7b594e6f0dfe"
   },
   "outputs": [
    {
     "data": {
      "text/plain": [
       "(9994, 10)"
      ]
     },
     "execution_count": 319,
     "metadata": {},
     "output_type": "execute_result"
    }
   ],
   "source": [
    "df_customer_tran.shape"
   ]
  },
  {
   "cell_type": "code",
   "execution_count": 320,
   "id": "d00fd7cf-6781-42ad-b3ed-f5e4085ac04d",
   "metadata": {
    "colab": {
     "base_uri": "https://localhost:8080/",
     "height": 359
    },
    "id": "d00fd7cf-6781-42ad-b3ed-f5e4085ac04d",
    "outputId": "2bb6e2a3-1c9b-48fc-b38f-6fbd39432395"
   },
   "outputs": [
    {
     "data": {
      "text/html": [
       "<div>\n",
       "<style scoped>\n",
       "    .dataframe tbody tr th:only-of-type {\n",
       "        vertical-align: middle;\n",
       "    }\n",
       "\n",
       "    .dataframe tbody tr th {\n",
       "        vertical-align: top;\n",
       "    }\n",
       "\n",
       "    .dataframe thead th {\n",
       "        text-align: right;\n",
       "    }\n",
       "</style>\n",
       "<table border=\"1\" class=\"dataframe\">\n",
       "  <thead>\n",
       "    <tr style=\"text-align: right;\">\n",
       "      <th></th>\n",
       "      <th>Order ID</th>\n",
       "      <th>Order Date</th>\n",
       "      <th>Ship Date</th>\n",
       "      <th>Ship Mode</th>\n",
       "      <th>Customer ID</th>\n",
       "      <th>Product ID</th>\n",
       "      <th>Sales</th>\n",
       "      <th>Quantity</th>\n",
       "      <th>Discount</th>\n",
       "      <th>Profit</th>\n",
       "    </tr>\n",
       "  </thead>\n",
       "  <tbody>\n",
       "    <tr>\n",
       "      <th>0</th>\n",
       "      <td>CA-2016-152156</td>\n",
       "      <td>08-11-2016</td>\n",
       "      <td>11-11-2016</td>\n",
       "      <td>Second Class</td>\n",
       "      <td>CG-12520</td>\n",
       "      <td>FUR-BO-10001798</td>\n",
       "      <td>261.9600</td>\n",
       "      <td>2</td>\n",
       "      <td>0.00</td>\n",
       "      <td>41.9136</td>\n",
       "    </tr>\n",
       "    <tr>\n",
       "      <th>1</th>\n",
       "      <td>CA-2016-152156</td>\n",
       "      <td>08-11-2016</td>\n",
       "      <td>11-11-2016</td>\n",
       "      <td>Second Class</td>\n",
       "      <td>CG-12520</td>\n",
       "      <td>FUR-CH-10000454</td>\n",
       "      <td>731.9400</td>\n",
       "      <td>3</td>\n",
       "      <td>0.00</td>\n",
       "      <td>219.5820</td>\n",
       "    </tr>\n",
       "    <tr>\n",
       "      <th>2</th>\n",
       "      <td>CA-2016-138688</td>\n",
       "      <td>12-06-2016</td>\n",
       "      <td>16-06-2016</td>\n",
       "      <td>Second Class</td>\n",
       "      <td>DV-13045</td>\n",
       "      <td>OFF-LA-10000240</td>\n",
       "      <td>14.6200</td>\n",
       "      <td>2</td>\n",
       "      <td>0.00</td>\n",
       "      <td>6.8714</td>\n",
       "    </tr>\n",
       "    <tr>\n",
       "      <th>3</th>\n",
       "      <td>US-2015-108966</td>\n",
       "      <td>11-10-2015</td>\n",
       "      <td>18-10-2015</td>\n",
       "      <td>Standard Class</td>\n",
       "      <td>SO-20335</td>\n",
       "      <td>FUR-TA-10000577</td>\n",
       "      <td>957.5775</td>\n",
       "      <td>5</td>\n",
       "      <td>0.45</td>\n",
       "      <td>-383.0310</td>\n",
       "    </tr>\n",
       "    <tr>\n",
       "      <th>4</th>\n",
       "      <td>US-2015-108966</td>\n",
       "      <td>11-10-2015</td>\n",
       "      <td>18-10-2015</td>\n",
       "      <td>Standard Class</td>\n",
       "      <td>SO-20335</td>\n",
       "      <td>OFF-ST-10000760</td>\n",
       "      <td>22.3680</td>\n",
       "      <td>2</td>\n",
       "      <td>0.20</td>\n",
       "      <td>2.5164</td>\n",
       "    </tr>\n",
       "    <tr>\n",
       "      <th>5</th>\n",
       "      <td>CA-2014-115812</td>\n",
       "      <td>09-06-2014</td>\n",
       "      <td>14-06-2014</td>\n",
       "      <td>Standard Class</td>\n",
       "      <td>BH-11710</td>\n",
       "      <td>FUR-FU-10001487</td>\n",
       "      <td>48.8600</td>\n",
       "      <td>7</td>\n",
       "      <td>0.00</td>\n",
       "      <td>14.1694</td>\n",
       "    </tr>\n",
       "  </tbody>\n",
       "</table>\n",
       "</div>"
      ],
      "text/plain": [
       "         Order ID  Order Date   Ship Date       Ship Mode Customer ID  \\\n",
       "0  CA-2016-152156  08-11-2016  11-11-2016    Second Class    CG-12520   \n",
       "1  CA-2016-152156  08-11-2016  11-11-2016    Second Class    CG-12520   \n",
       "2  CA-2016-138688  12-06-2016  16-06-2016    Second Class    DV-13045   \n",
       "3  US-2015-108966  11-10-2015  18-10-2015  Standard Class    SO-20335   \n",
       "4  US-2015-108966  11-10-2015  18-10-2015  Standard Class    SO-20335   \n",
       "5  CA-2014-115812  09-06-2014  14-06-2014  Standard Class    BH-11710   \n",
       "\n",
       "        Product ID     Sales  Quantity  Discount    Profit  \n",
       "0  FUR-BO-10001798  261.9600         2      0.00   41.9136  \n",
       "1  FUR-CH-10000454  731.9400         3      0.00  219.5820  \n",
       "2  OFF-LA-10000240   14.6200         2      0.00    6.8714  \n",
       "3  FUR-TA-10000577  957.5775         5      0.45 -383.0310  \n",
       "4  OFF-ST-10000760   22.3680         2      0.20    2.5164  \n",
       "5  FUR-FU-10001487   48.8600         7      0.00   14.1694  "
      ]
     },
     "execution_count": 320,
     "metadata": {},
     "output_type": "execute_result"
    }
   ],
   "source": [
    "df_customer_tran.head(6)"
   ]
  },
  {
   "cell_type": "code",
   "execution_count": 321,
   "id": "e26b4d12-8d12-4e08-9063-5ce45bc76f11",
   "metadata": {
    "colab": {
     "base_uri": "https://localhost:8080/"
    },
    "id": "e26b4d12-8d12-4e08-9063-5ce45bc76f11",
    "outputId": "6324e7f3-937b-44b5-c82d-8188ba3c3e1a"
   },
   "outputs": [
    {
     "name": "stdout",
     "output_type": "stream",
     "text": [
      "<class 'pandas.core.frame.DataFrame'>\n",
      "RangeIndex: 9994 entries, 0 to 9993\n",
      "Data columns (total 10 columns):\n",
      " #   Column       Non-Null Count  Dtype  \n",
      "---  ------       --------------  -----  \n",
      " 0   Order ID     9994 non-null   object \n",
      " 1   Order Date   9994 non-null   object \n",
      " 2   Ship Date    9994 non-null   object \n",
      " 3   Ship Mode    9994 non-null   object \n",
      " 4   Customer ID  9994 non-null   object \n",
      " 5   Product ID   9994 non-null   object \n",
      " 6   Sales        9994 non-null   float64\n",
      " 7   Quantity     9994 non-null   int64  \n",
      " 8   Discount     9994 non-null   float64\n",
      " 9   Profit       9994 non-null   float64\n",
      "dtypes: float64(3), int64(1), object(6)\n",
      "memory usage: 780.9+ KB\n"
     ]
    }
   ],
   "source": [
    "df_customer_tran.info()"
   ]
  },
  {
   "cell_type": "code",
   "execution_count": 322,
   "id": "cb0f5253-1924-4531-a64c-0011b1ffe9eb",
   "metadata": {
    "colab": {
     "base_uri": "https://localhost:8080/",
     "height": 397
    },
    "id": "cb0f5253-1924-4531-a64c-0011b1ffe9eb",
    "outputId": "5c11d8e4-2f06-4f25-d6b1-8639983b093a"
   },
   "outputs": [
    {
     "data": {
      "text/plain": [
       "Order ID       0\n",
       "Order Date     0\n",
       "Ship Date      0\n",
       "Ship Mode      0\n",
       "Customer ID    0\n",
       "Product ID     0\n",
       "Sales          0\n",
       "Quantity       0\n",
       "Discount       0\n",
       "Profit         0\n",
       "dtype: int64"
      ]
     },
     "execution_count": 322,
     "metadata": {},
     "output_type": "execute_result"
    }
   ],
   "source": [
    "# isnull() => if value is not present then return true else false, sum() will sum up all true values\n",
    "df_customer_tran.isnull().sum()"
   ]
  },
  {
   "cell_type": "code",
   "execution_count": 323,
   "id": "0c6515d6-10bc-4156-b6d7-d479f24a25e8",
   "metadata": {
    "colab": {
     "base_uri": "https://localhost:8080/",
     "height": 527
    },
    "id": "0c6515d6-10bc-4156-b6d7-d479f24a25e8",
    "outputId": "6cdec9a7-70be-4d20-ed87-cb5fb697420b"
   },
   "outputs": [
    {
     "data": {
      "text/plain": [
       "<Axes: >"
      ]
     },
     "execution_count": 323,
     "metadata": {},
     "output_type": "execute_result"
    },
    {
     "data": {
      "image/png": "[encoded data removed]",
      "text/plain": [
       "<Figure size 640x480 with 2 Axes>"
      ]
     },
     "metadata": {},
     "output_type": "display_data"
    }
   ],
   "source": [
    "# sns.heatmap is a function in the Seaborn library used to visualize data in a matrix format with color-coded values\n",
    "# white color is for null value, if screen is pink mean data have not null value\n",
    "sns.heatmap(df_customer_tran.isnull())"
   ]
  },
  {
   "cell_type": "markdown",
   "id": "pDiXEbyhdqr1",
   "metadata": {
    "id": "pDiXEbyhdqr1"
   },
   "source": [
    "### Data analysis\n",
    "* white color is for null value, if screen is pink mean data have not null value"
   ]
  },
  {
   "cell_type": "code",
   "execution_count": 324,
   "id": "961de6f3-5a0f-4013-9e79-86dcc96cbcd8",
   "metadata": {
    "id": "961de6f3-5a0f-4013-9e79-86dcc96cbcd8"
   },
   "outputs": [],
   "source": [
    "# timestamps are not in datetime formate so we are converting it to datetime\n",
    "df_customer_tran['Order Date'] = pd.to_datetime(df_customer_tran['Order Date'] , format=\"%d-%m-%Y\")\n",
    "df_customer_tran['Ship Date'] = pd.to_datetime(df_customer_tran['Ship Date'] , format=\"%d-%m-%Y\")"
   ]
  },
  {
   "cell_type": "code",
   "execution_count": 325,
   "id": "8da91d4a-f7ca-4362-b729-eb618eb88533",
   "metadata": {
    "colab": {
     "base_uri": "https://localhost:8080/"
    },
    "id": "8da91d4a-f7ca-4362-b729-eb618eb88533",
    "outputId": "9eb94ddf-68e4-4b9f-c841-4e796cc7862a"
   },
   "outputs": [
    {
     "name": "stdout",
     "output_type": "stream",
     "text": [
      "<class 'pandas.core.frame.DataFrame'>\n",
      "RangeIndex: 9994 entries, 0 to 9993\n",
      "Data columns (total 10 columns):\n",
      " #   Column       Non-Null Count  Dtype         \n",
      "---  ------       --------------  -----         \n",
      " 0   Order ID     9994 non-null   object        \n",
      " 1   Order Date   9994 non-null   datetime64[ns]\n",
      " 2   Ship Date    9994 non-null   datetime64[ns]\n",
      " 3   Ship Mode    9994 non-null   object        \n",
      " 4   Customer ID  9994 non-null   object        \n",
      " 5   Product ID   9994 non-null   object        \n",
      " 6   Sales        9994 non-null   float64       \n",
      " 7   Quantity     9994 non-null   int64         \n",
      " 8   Discount     9994 non-null   float64       \n",
      " 9   Profit       9994 non-null   float64       \n",
      "dtypes: datetime64[ns](2), float64(3), int64(1), object(4)\n",
      "memory usage: 780.9+ KB\n"
     ]
    }
   ],
   "source": [
    "df_customer_tran.info()"
   ]
  },
  {
   "cell_type": "markdown",
   "id": "9a5bbe1d-93ab-40c7-a519-0a31c6933472",
   "metadata": {
    "id": "9a5bbe1d-93ab-40c7-a519-0a31c6933472"
   },
   "source": [
    "## Feature Engineering ##"
   ]
  },
  {
   "cell_type": "markdown",
   "id": "7b45929b-172b-47cd-8f76-3f789ff63eb4",
   "metadata": {
    "id": "7b45929b-172b-47cd-8f76-3f789ff63eb4"
   },
   "source": [
    "**1. Date Features (Order Date, Ship Date)**"
   ]
  },
  {
   "cell_type": "code",
   "execution_count": 326,
   "id": "6df5b318-6469-4c61-8868-00af71e01274",
   "metadata": {
    "id": "6df5b318-6469-4c61-8868-00af71e01274"
   },
   "outputs": [],
   "source": [
    "# Extract time-related features\n",
    "df_customer_tran['Order Year'] = df_customer_tran['Order Date'].dt.year\n",
    "df_customer_tran['Order Month'] = df_customer_tran['Order Date'].dt.month\n",
    "df_customer_tran['Order Day'] = df_customer_tran['Order Date'].dt.day\n",
    "df_customer_tran['Order Day of Week'] = df_customer_tran['Order Date'].dt.dayofweek\n",
    "\n",
    "# Calculate time duration between order and shipping\n",
    "df_customer_tran['Order to Ship Duration'] = (df_customer_tran['Ship Date'] - df_customer_tran['Order Date']).dt.days"
   ]
  },
  {
   "cell_type": "code",
   "execution_count": 327,
   "id": "5bd19255-7f93-4850-b1ec-dda8c84c63e9",
   "metadata": {
    "colab": {
     "base_uri": "https://localhost:8080/",
     "height": 452
    },
    "id": "5bd19255-7f93-4850-b1ec-dda8c84c63e9",
    "outputId": "cbcad76c-54fe-408e-d200-53f00cd2b413"
   },
   "outputs": [
    {
     "data": {
      "text/html": [
       "<div>\n",
       "<style scoped>\n",
       "    .dataframe tbody tr th:only-of-type {\n",
       "        vertical-align: middle;\n",
       "    }\n",
       "\n",
       "    .dataframe tbody tr th {\n",
       "        vertical-align: top;\n",
       "    }\n",
       "\n",
       "    .dataframe thead th {\n",
       "        text-align: right;\n",
       "    }\n",
       "</style>\n",
       "<table border=\"1\" class=\"dataframe\">\n",
       "  <thead>\n",
       "    <tr style=\"text-align: right;\">\n",
       "      <th></th>\n",
       "      <th>Order ID</th>\n",
       "      <th>Order Date</th>\n",
       "      <th>Ship Date</th>\n",
       "      <th>Ship Mode</th>\n",
       "      <th>Customer ID</th>\n",
       "      <th>Product ID</th>\n",
       "      <th>Sales</th>\n",
       "      <th>Quantity</th>\n",
       "      <th>Discount</th>\n",
       "      <th>Profit</th>\n",
       "      <th>Order Year</th>\n",
       "      <th>Order Month</th>\n",
       "      <th>Order Day</th>\n",
       "      <th>Order Day of Week</th>\n",
       "      <th>Order to Ship Duration</th>\n",
       "    </tr>\n",
       "  </thead>\n",
       "  <tbody>\n",
       "    <tr>\n",
       "      <th>0</th>\n",
       "      <td>CA-2016-152156</td>\n",
       "      <td>2016-11-08</td>\n",
       "      <td>2016-11-11</td>\n",
       "      <td>Second Class</td>\n",
       "      <td>CG-12520</td>\n",
       "      <td>FUR-BO-10001798</td>\n",
       "      <td>261.9600</td>\n",
       "      <td>2</td>\n",
       "      <td>0.00</td>\n",
       "      <td>41.9136</td>\n",
       "      <td>2016</td>\n",
       "      <td>11</td>\n",
       "      <td>8</td>\n",
       "      <td>1</td>\n",
       "      <td>3</td>\n",
       "    </tr>\n",
       "    <tr>\n",
       "      <th>1</th>\n",
       "      <td>CA-2016-152156</td>\n",
       "      <td>2016-11-08</td>\n",
       "      <td>2016-11-11</td>\n",
       "      <td>Second Class</td>\n",
       "      <td>CG-12520</td>\n",
       "      <td>FUR-CH-10000454</td>\n",
       "      <td>731.9400</td>\n",
       "      <td>3</td>\n",
       "      <td>0.00</td>\n",
       "      <td>219.5820</td>\n",
       "      <td>2016</td>\n",
       "      <td>11</td>\n",
       "      <td>8</td>\n",
       "      <td>1</td>\n",
       "      <td>3</td>\n",
       "    </tr>\n",
       "    <tr>\n",
       "      <th>2</th>\n",
       "      <td>CA-2016-138688</td>\n",
       "      <td>2016-06-12</td>\n",
       "      <td>2016-06-16</td>\n",
       "      <td>Second Class</td>\n",
       "      <td>DV-13045</td>\n",
       "      <td>OFF-LA-10000240</td>\n",
       "      <td>14.6200</td>\n",
       "      <td>2</td>\n",
       "      <td>0.00</td>\n",
       "      <td>6.8714</td>\n",
       "      <td>2016</td>\n",
       "      <td>6</td>\n",
       "      <td>12</td>\n",
       "      <td>6</td>\n",
       "      <td>4</td>\n",
       "    </tr>\n",
       "    <tr>\n",
       "      <th>3</th>\n",
       "      <td>US-2015-108966</td>\n",
       "      <td>2015-10-11</td>\n",
       "      <td>2015-10-18</td>\n",
       "      <td>Standard Class</td>\n",
       "      <td>SO-20335</td>\n",
       "      <td>FUR-TA-10000577</td>\n",
       "      <td>957.5775</td>\n",
       "      <td>5</td>\n",
       "      <td>0.45</td>\n",
       "      <td>-383.0310</td>\n",
       "      <td>2015</td>\n",
       "      <td>10</td>\n",
       "      <td>11</td>\n",
       "      <td>6</td>\n",
       "      <td>7</td>\n",
       "    </tr>\n",
       "    <tr>\n",
       "      <th>4</th>\n",
       "      <td>US-2015-108966</td>\n",
       "      <td>2015-10-11</td>\n",
       "      <td>2015-10-18</td>\n",
       "      <td>Standard Class</td>\n",
       "      <td>SO-20335</td>\n",
       "      <td>OFF-ST-10000760</td>\n",
       "      <td>22.3680</td>\n",
       "      <td>2</td>\n",
       "      <td>0.20</td>\n",
       "      <td>2.5164</td>\n",
       "      <td>2015</td>\n",
       "      <td>10</td>\n",
       "      <td>11</td>\n",
       "      <td>6</td>\n",
       "      <td>7</td>\n",
       "    </tr>\n",
       "  </tbody>\n",
       "</table>\n",
       "</div>"
      ],
      "text/plain": [
       "         Order ID Order Date  Ship Date       Ship Mode Customer ID  \\\n",
       "0  CA-2016-152156 2016-11-08 2016-11-11    Second Class    CG-12520   \n",
       "1  CA-2016-152156 2016-11-08 2016-11-11    Second Class    CG-12520   \n",
       "2  CA-2016-138688 2016-06-12 2016-06-16    Second Class    DV-13045   \n",
       "3  US-2015-108966 2015-10-11 2015-10-18  Standard Class    SO-20335   \n",
       "4  US-2015-108966 2015-10-11 2015-10-18  Standard Class    SO-20335   \n",
       "\n",
       "        Product ID     Sales  Quantity  Discount    Profit  Order Year  \\\n",
       "0  FUR-BO-10001798  261.9600         2      0.00   41.9136        2016   \n",
       "1  FUR-CH-10000454  731.9400         3      0.00  219.5820        2016   \n",
       "2  OFF-LA-10000240   14.6200         2      0.00    6.8714        2016   \n",
       "3  FUR-TA-10000577  957.5775         5      0.45 -383.0310        2015   \n",
       "4  OFF-ST-10000760   22.3680         2      0.20    2.5164        2015   \n",
       "\n",
       "   Order Month  Order Day  Order Day of Week  Order to Ship Duration  \n",
       "0           11          8                  1                       3  \n",
       "1           11          8                  1                       3  \n",
       "2            6         12                  6                       4  \n",
       "3           10         11                  6                       7  \n",
       "4           10         11                  6                       7  "
      ]
     },
     "execution_count": 327,
     "metadata": {},
     "output_type": "execute_result"
    }
   ],
   "source": [
    "df_customer_tran.head()"
   ]
  },
  {
   "cell_type": "markdown",
   "id": "1107c382-330b-4793-b985-61cafddd3068",
   "metadata": {
    "id": "1107c382-330b-4793-b985-61cafddd3068"
   },
   "source": [
    "**2. Sales-Related Features (Sales, Quantity, Discount, Profit)**"
   ]
  },
  {
   "cell_type": "markdown",
   "id": "f52a15c7-f30f-40c3-b953-8d9c03fe17a2",
   "metadata": {
    "id": "f52a15c7-f30f-40c3-b953-8d9c03fe17a2"
   },
   "source": [
    "- Total Revenue"
   ]
  },
  {
   "cell_type": "code",
   "execution_count": 328,
   "id": "e8c79906-52de-493d-9b5c-ea825a553f94",
   "metadata": {
    "id": "e8c79906-52de-493d-9b5c-ea825a553f94"
   },
   "outputs": [],
   "source": [
    "# Create new features\n",
    "df_customer_tran['Total Revenue'] = df_customer_tran['Sales'] * df_customer_tran['Quantity']\n"
   ]
  },
  {
   "cell_type": "markdown",
   "id": "819c1e9e-070e-4074-9529-4f8e2e36ce3f",
   "metadata": {
    "id": "819c1e9e-070e-4074-9529-4f8e2e36ce3f"
   },
   "source": [
    "- Average Profit per Unit"
   ]
  },
  {
   "cell_type": "code",
   "execution_count": 329,
   "id": "44f33a75-9b6e-4b49-9599-d2102de32b2b",
   "metadata": {
    "id": "44f33a75-9b6e-4b49-9599-d2102de32b2b"
   },
   "outputs": [],
   "source": [
    "\n",
    "df_customer_tran['Average Profit per Unit'] = df_customer_tran['Profit'] / df_customer_tran['Quantity']\n"
   ]
  },
  {
   "cell_type": "markdown",
   "id": "49f2b813-c8fd-4615-8db7-8f1503c8178d",
   "metadata": {
    "id": "49f2b813-c8fd-4615-8db7-8f1503c8178d"
   },
   "source": [
    "- Profit Margin"
   ]
  },
  {
   "cell_type": "code",
   "execution_count": 330,
   "id": "de5941b0-2671-4461-9332-d37006a798ee",
   "metadata": {
    "id": "de5941b0-2671-4461-9332-d37006a798ee"
   },
   "outputs": [],
   "source": [
    "\n",
    "df_customer_tran['Profit Margin'] = df_customer_tran['Profit'] / df_customer_tran['Sales']\n"
   ]
  },
  {
   "cell_type": "markdown",
   "id": "0e8eacde-3652-4ae6-97cc-67bc6e99407d",
   "metadata": {
    "id": "0e8eacde-3652-4ae6-97cc-67bc6e99407d"
   },
   "source": [
    "- Discount Impact on Profit"
   ]
  },
  {
   "cell_type": "code",
   "execution_count": 331,
   "id": "00b98514-364a-4ca9-b0c1-a95388b5c96b",
   "metadata": {
    "id": "00b98514-364a-4ca9-b0c1-a95388b5c96b"
   },
   "outputs": [],
   "source": [
    "\n",
    "df_customer_tran['Discounted Sales'] = df_customer_tran['Sales'] * (1 - df_customer_tran['Discount'])\n"
   ]
  },
  {
   "cell_type": "markdown",
   "id": "41596234-b1c9-412d-8d2f-c6885a6458a0",
   "metadata": {
    "id": "41596234-b1c9-412d-8d2f-c6885a6458a0"
   },
   "source": [
    "- High-Value Customers: based on total sales"
   ]
  },
  {
   "cell_type": "code",
   "execution_count": 332,
   "id": "365c9b7e-154d-49cf-b394-55c915508d85",
   "metadata": {
    "id": "365c9b7e-154d-49cf-b394-55c915508d85"
   },
   "outputs": [],
   "source": [
    "\n",
    "df_customer_tran['High Value Customer'] = df_customer_tran.groupby('Customer ID')['Sales'].transform(lambda x: x.sum() > 1000)\n"
   ]
  },
  {
   "cell_type": "code",
   "execution_count": 333,
   "id": "894d77da-9396-4712-83ed-0c85db0a6a8f",
   "metadata": {
    "colab": {
     "base_uri": "https://localhost:8080/",
     "height": 452
    },
    "id": "894d77da-9396-4712-83ed-0c85db0a6a8f",
    "outputId": "24fc62fc-5317-4282-d8d1-aeba1f5bbe71"
   },
   "outputs": [
    {
     "data": {
      "text/html": [
       "<div>\n",
       "<style scoped>\n",
       "    .dataframe tbody tr th:only-of-type {\n",
       "        vertical-align: middle;\n",
       "    }\n",
       "\n",
       "    .dataframe tbody tr th {\n",
       "        vertical-align: top;\n",
       "    }\n",
       "\n",
       "    .dataframe thead th {\n",
       "        text-align: right;\n",
       "    }\n",
       "</style>\n",
       "<table border=\"1\" class=\"dataframe\">\n",
       "  <thead>\n",
       "    <tr style=\"text-align: right;\">\n",
       "      <th></th>\n",
       "      <th>Order ID</th>\n",
       "      <th>Order Date</th>\n",
       "      <th>Ship Date</th>\n",
       "      <th>Ship Mode</th>\n",
       "      <th>Customer ID</th>\n",
       "      <th>Product ID</th>\n",
       "      <th>Sales</th>\n",
       "      <th>Quantity</th>\n",
       "      <th>Discount</th>\n",
       "      <th>Profit</th>\n",
       "      <th>Order Year</th>\n",
       "      <th>Order Month</th>\n",
       "      <th>Order Day</th>\n",
       "      <th>Order Day of Week</th>\n",
       "      <th>Order to Ship Duration</th>\n",
       "      <th>Total Revenue</th>\n",
       "      <th>Average Profit per Unit</th>\n",
       "      <th>Profit Margin</th>\n",
       "      <th>Discounted Sales</th>\n",
       "      <th>High Value Customer</th>\n",
       "    </tr>\n",
       "  </thead>\n",
       "  <tbody>\n",
       "    <tr>\n",
       "      <th>0</th>\n",
       "      <td>CA-2016-152156</td>\n",
       "      <td>2016-11-08</td>\n",
       "      <td>2016-11-11</td>\n",
       "      <td>Second Class</td>\n",
       "      <td>CG-12520</td>\n",
       "      <td>FUR-BO-10001798</td>\n",
       "      <td>261.9600</td>\n",
       "      <td>2</td>\n",
       "      <td>0.00</td>\n",
       "      <td>41.9136</td>\n",
       "      <td>2016</td>\n",
       "      <td>11</td>\n",
       "      <td>8</td>\n",
       "      <td>1</td>\n",
       "      <td>3</td>\n",
       "      <td>523.9200</td>\n",
       "      <td>20.9568</td>\n",
       "      <td>0.1600</td>\n",
       "      <td>261.960000</td>\n",
       "      <td>True</td>\n",
       "    </tr>\n",
       "    <tr>\n",
       "      <th>1</th>\n",
       "      <td>CA-2016-152156</td>\n",
       "      <td>2016-11-08</td>\n",
       "      <td>2016-11-11</td>\n",
       "      <td>Second Class</td>\n",
       "      <td>CG-12520</td>\n",
       "      <td>FUR-CH-10000454</td>\n",
       "      <td>731.9400</td>\n",
       "      <td>3</td>\n",
       "      <td>0.00</td>\n",
       "      <td>219.5820</td>\n",
       "      <td>2016</td>\n",
       "      <td>11</td>\n",
       "      <td>8</td>\n",
       "      <td>1</td>\n",
       "      <td>3</td>\n",
       "      <td>2195.8200</td>\n",
       "      <td>73.1940</td>\n",
       "      <td>0.3000</td>\n",
       "      <td>731.940000</td>\n",
       "      <td>True</td>\n",
       "    </tr>\n",
       "    <tr>\n",
       "      <th>2</th>\n",
       "      <td>CA-2016-138688</td>\n",
       "      <td>2016-06-12</td>\n",
       "      <td>2016-06-16</td>\n",
       "      <td>Second Class</td>\n",
       "      <td>DV-13045</td>\n",
       "      <td>OFF-LA-10000240</td>\n",
       "      <td>14.6200</td>\n",
       "      <td>2</td>\n",
       "      <td>0.00</td>\n",
       "      <td>6.8714</td>\n",
       "      <td>2016</td>\n",
       "      <td>6</td>\n",
       "      <td>12</td>\n",
       "      <td>6</td>\n",
       "      <td>4</td>\n",
       "      <td>29.2400</td>\n",
       "      <td>3.4357</td>\n",
       "      <td>0.4700</td>\n",
       "      <td>14.620000</td>\n",
       "      <td>True</td>\n",
       "    </tr>\n",
       "    <tr>\n",
       "      <th>3</th>\n",
       "      <td>US-2015-108966</td>\n",
       "      <td>2015-10-11</td>\n",
       "      <td>2015-10-18</td>\n",
       "      <td>Standard Class</td>\n",
       "      <td>SO-20335</td>\n",
       "      <td>FUR-TA-10000577</td>\n",
       "      <td>957.5775</td>\n",
       "      <td>5</td>\n",
       "      <td>0.45</td>\n",
       "      <td>-383.0310</td>\n",
       "      <td>2015</td>\n",
       "      <td>10</td>\n",
       "      <td>11</td>\n",
       "      <td>6</td>\n",
       "      <td>7</td>\n",
       "      <td>4787.8875</td>\n",
       "      <td>-76.6062</td>\n",
       "      <td>-0.4000</td>\n",
       "      <td>526.667625</td>\n",
       "      <td>True</td>\n",
       "    </tr>\n",
       "    <tr>\n",
       "      <th>4</th>\n",
       "      <td>US-2015-108966</td>\n",
       "      <td>2015-10-11</td>\n",
       "      <td>2015-10-18</td>\n",
       "      <td>Standard Class</td>\n",
       "      <td>SO-20335</td>\n",
       "      <td>OFF-ST-10000760</td>\n",
       "      <td>22.3680</td>\n",
       "      <td>2</td>\n",
       "      <td>0.20</td>\n",
       "      <td>2.5164</td>\n",
       "      <td>2015</td>\n",
       "      <td>10</td>\n",
       "      <td>11</td>\n",
       "      <td>6</td>\n",
       "      <td>7</td>\n",
       "      <td>44.7360</td>\n",
       "      <td>1.2582</td>\n",
       "      <td>0.1125</td>\n",
       "      <td>17.894400</td>\n",
       "      <td>True</td>\n",
       "    </tr>\n",
       "  </tbody>\n",
       "</table>\n",
       "</div>"
      ],
      "text/plain": [
       "         Order ID Order Date  Ship Date       Ship Mode Customer ID  \\\n",
       "0  CA-2016-152156 2016-11-08 2016-11-11    Second Class    CG-12520   \n",
       "1  CA-2016-152156 2016-11-08 2016-11-11    Second Class    CG-12520   \n",
       "2  CA-2016-138688 2016-06-12 2016-06-16    Second Class    DV-13045   \n",
       "3  US-2015-108966 2015-10-11 2015-10-18  Standard Class    SO-20335   \n",
       "4  US-2015-108966 2015-10-11 2015-10-18  Standard Class    SO-20335   \n",
       "\n",
       "        Product ID     Sales  Quantity  Discount    Profit  Order Year  \\\n",
       "0  FUR-BO-10001798  261.9600         2      0.00   41.9136        2016   \n",
       "1  FUR-CH-10000454  731.9400         3      0.00  219.5820        2016   \n",
       "2  OFF-LA-10000240   14.6200         2      0.00    6.8714        2016   \n",
       "3  FUR-TA-10000577  957.5775         5      0.45 -383.0310        2015   \n",
       "4  OFF-ST-10000760   22.3680         2      0.20    2.5164        2015   \n",
       "\n",
       "   Order Month  Order Day  Order Day of Week  Order to Ship Duration  \\\n",
       "0           11          8                  1                       3   \n",
       "1           11          8                  1                       3   \n",
       "2            6         12                  6                       4   \n",
       "3           10         11                  6                       7   \n",
       "4           10         11                  6                       7   \n",
       "\n",
       "   Total Revenue  Average Profit per Unit  Profit Margin  Discounted Sales  \\\n",
       "0       523.9200                  20.9568         0.1600        261.960000   \n",
       "1      2195.8200                  73.1940         0.3000        731.940000   \n",
       "2        29.2400                   3.4357         0.4700         14.620000   \n",
       "3      4787.8875                 -76.6062        -0.4000        526.667625   \n",
       "4        44.7360                   1.2582         0.1125         17.894400   \n",
       "\n",
       "   High Value Customer  \n",
       "0                 True  \n",
       "1                 True  \n",
       "2                 True  \n",
       "3                 True  \n",
       "4                 True  "
      ]
     },
     "execution_count": 333,
     "metadata": {},
     "output_type": "execute_result"
    }
   ],
   "source": [
    "df_customer_tran.head()"
   ]
  },
  {
   "cell_type": "markdown",
   "id": "dcc95a40-31ae-4a0e-9735-a4f227a79eac",
   "metadata": {
    "id": "dcc95a40-31ae-4a0e-9735-a4f227a79eac"
   },
   "source": [
    "# Information Plots\n",
    "\n",
    " 1. Order Distribution Over the Year"
   ]
  },
  {
   "cell_type": "code",
   "execution_count": 334,
   "id": "4170b46a-2068-4a6a-8972-be039daae3be",
   "metadata": {
    "colab": {
     "base_uri": "https://localhost:8080/",
     "height": 597
    },
    "id": "4170b46a-2068-4a6a-8972-be039daae3be",
    "outputId": "9bc2ec55-72ac-4741-89c6-56db63d1bd9c"
   },
   "outputs": [
    {
     "data": {
      "image/png": "[encoded data removed]",
      "text/plain": [
       "<Figure size 1000x500 with 1 Axes>"
      ]
     },
     "metadata": {},
     "output_type": "display_data"
    }
   ],
   "source": [
    "\n",
    "plt.figure(figsize=(10, 5))\n",
    "sns.countplot(data=df_customer_tran, x='Order Month', palette='coolwarm')\n",
    "plt.title('Orders per Month')\n",
    "plt.xlabel('Month')\n",
    "plt.ylabel('Count')\n",
    "plt.show()\n"
   ]
  },
  {
   "cell_type": "markdown",
   "id": "e86a196b-7a2e-4c7f-b154-b0afd82d81eb",
   "metadata": {
    "id": "e86a196b-7a2e-4c7f-b154-b0afd82d81eb"
   },
   "source": [
    "📊 **Insight: This shows seasonal order trends**"
   ]
  },
  {
   "cell_type": "markdown",
   "id": "b8f4731d-5275-4414-932b-eb74a1a15f5f",
   "metadata": {
    "id": "b8f4731d-5275-4414-932b-eb74a1a15f5f"
   },
   "source": [
    "### 2. Sales by Order Day"
   ]
  },
  {
   "cell_type": "code",
   "execution_count": 335,
   "id": "529d1226-25d1-4b26-b1f0-2905c427b7d5",
   "metadata": {
    "colab": {
     "base_uri": "https://localhost:8080/",
     "height": 492
    },
    "id": "529d1226-25d1-4b26-b1f0-2905c427b7d5",
    "outputId": "020d94f8-4c4b-4836-c79c-8ee37d18ac13"
   },
   "outputs": [
    {
     "data": {
      "text/plain": [
       "<Figure size 1000x600 with 0 Axes>"
      ]
     },
     "metadata": {},
     "output_type": "display_data"
    },
    {
     "data": {
      "image/png": "[encoded data removed]",
      "text/plain": [
       "<Figure size 640x480 with 1 Axes>"
      ]
     },
     "metadata": {},
     "output_type": "display_data"
    }
   ],
   "source": [
    "plt.figure(figsize=(10, 6))\n",
    "order_day_sales = df_customer_tran.groupby(['Order Day of Week', 'Ship Mode'])['Sales'].sum().unstack()\n",
    "order_day_sales.plot(kind='bar', stacked=True, colormap='viridis')\n",
    "\n",
    "plt.title('Sales by Order Day (Stacked)')\n",
    "plt.xlabel('Order Day of Week')\n",
    "plt.ylabel('Total Sales')\n",
    "plt.legend(title='Ship Mode')\n",
    "plt.xticks(rotation=45)\n",
    "plt.grid(axis='y', linestyle='--', alpha=0.7)\n",
    "\n",
    "plt.show()\n"
   ]
  },
  {
   "cell_type": "markdown",
   "id": "6385816c-b841-44a1-a6fe-5eef4ce54504",
   "metadata": {
    "id": "6385816c-b841-44a1-a6fe-5eef4ce54504"
   },
   "source": [
    "### 3. Total Revenue by Order Day (Line Plot)"
   ]
  },
  {
   "cell_type": "code",
   "execution_count": 336,
   "id": "27454f62-48a6-4258-a137-e7be7aa47c55",
   "metadata": {
    "colab": {
     "base_uri": "https://localhost:8080/",
     "height": 564
    },
    "id": "27454f62-48a6-4258-a137-e7be7aa47c55",
    "outputId": "ffeee7df-da21-4389-fc45-dbbbe4ba5634"
   },
   "outputs": [
    {
     "data": {
      "image/png": "[encoded data removed]",
      "text/plain": [
       "<Figure size 800x600 with 1 Axes>"
      ]
     },
     "metadata": {},
     "output_type": "display_data"
    }
   ],
   "source": [
    "plt.figure(figsize=(8, 6))\n",
    "sns.lineplot(data=df_customer_tran, x='Order Day', y='Sales', color='purple')\n",
    "plt.xlabel('Order Day')\n",
    "plt.ylabel('Total Revenue')\n",
    "plt.title('Total Revenue by Order Day')\n",
    "plt.grid(True)\n",
    "plt.show()\n"
   ]
  },
  {
   "cell_type": "markdown",
   "id": "0fb8c031-fe21-4781-bfbc-06cda70261ee",
   "metadata": {
    "id": "0fb8c031-fe21-4781-bfbc-06cda70261ee"
   },
   "source": [
    "### 4. Sales vs. Profit Scatter Plot"
   ]
  },
  {
   "cell_type": "code",
   "execution_count": 337,
   "id": "340eaedc-5404-4760-abc4-b1d13413b9f8",
   "metadata": {
    "colab": {
     "base_uri": "https://localhost:8080/",
     "height": 564
    },
    "id": "340eaedc-5404-4760-abc4-b1d13413b9f8",
    "outputId": "2460d777-5f18-4da0-f7f4-309fc248d7aa"
   },
   "outputs": [
    {
     "data": {
      "image/png": "[encoded data removed]",
      "text/plain": [
       "<Figure size 800x600 with 1 Axes>"
      ]
     },
     "metadata": {},
     "output_type": "display_data"
    }
   ],
   "source": [
    "plt.figure(figsize=(8, 6))\n",
    "sns.scatterplot(data=df_customer_tran, x='Sales', y='Profit', hue='Discount', palette='coolwarm')\n",
    "plt.title('Sales vs Profit (Color: Discount)')\n",
    "plt.xlabel('Sales')\n",
    "plt.ylabel('Profit')\n",
    "plt.show()"
   ]
  },
  {
   "cell_type": "markdown",
   "id": "5489bb12-583a-4526-8229-fa8a5ddcb956",
   "metadata": {
    "id": "5489bb12-583a-4526-8229-fa8a5ddcb956"
   },
   "source": [
    "**📊 Insight: Shows the relationship between sales, profit, and discounts.**"
   ]
  },
  {
   "cell_type": "markdown",
   "id": "47a036ea-b4eb-42e0-a6a2-a8480be8d3cf",
   "metadata": {
    "id": "47a036ea-b4eb-42e0-a6a2-a8480be8d3cf"
   },
   "source": [
    "### 5. Profit Margin Distribution"
   ]
  },
  {
   "cell_type": "code",
   "execution_count": 338,
   "id": "2c76182c-c702-405a-aeba-92467046de23",
   "metadata": {
    "colab": {
     "base_uri": "https://localhost:8080/",
     "height": 487
    },
    "id": "2c76182c-c702-405a-aeba-92467046de23",
    "outputId": "e552457a-745c-4718-ce2f-ed6bc8e7650b"
   },
   "outputs": [
    {
     "data": {
      "image/png": "[encoded data removed]",
      "text/plain": [
       "<Figure size 800x500 with 1 Axes>"
      ]
     },
     "metadata": {},
     "output_type": "display_data"
    }
   ],
   "source": [
    "plt.figure(figsize=(8, 5))\n",
    "sns.histplot(df_customer_tran['Profit Margin'], bins=20, kde=True, color='green')\n",
    "plt.title('Profit Margin Distribution')\n",
    "plt.xlabel('Profit Margin')\n",
    "plt.ylabel('Count')\n",
    "plt.show()"
   ]
  },
  {
   "cell_type": "markdown",
   "id": "b60d8066-ac42-4bfa-a02d-9e13f10cfa0f",
   "metadata": {
    "id": "b60d8066-ac42-4bfa-a02d-9e13f10cfa0f"
   },
   "source": [
    "**📊 Insight: Understands how profitable transactions are.**"
   ]
  },
  {
   "cell_type": "markdown",
   "id": "5f134b1d-102a-44c7-849c-e5a06d8839ae",
   "metadata": {
    "id": "5f134b1d-102a-44c7-849c-e5a06d8839ae"
   },
   "source": [
    "### 6. Ship Mode Preference"
   ]
  },
  {
   "cell_type": "code",
   "execution_count": 339,
   "id": "6053f3c3-1af5-42e9-b11a-4ac1ec3a4343",
   "metadata": {
    "colab": {
     "base_uri": "https://localhost:8080/",
     "height": 520
    },
    "id": "6053f3c3-1af5-42e9-b11a-4ac1ec3a4343",
    "outputId": "b7a5e382-9092-4a21-d834-9e2b231e729f"
   },
   "outputs": [
    {
     "data": {
      "image/png": "[encoded data removed]",
      "text/plain": [
       "<Figure size 600x400 with 1 Axes>"
      ]
     },
     "metadata": {},
     "output_type": "display_data"
    }
   ],
   "source": [
    "plt.figure(figsize=(6, 4))\n",
    "sns.countplot(data=df_customer_tran, x='Ship Mode', palette='Set2')\n",
    "plt.title('Shipping Mode Distribution')\n",
    "plt.xlabel('Ship Mode')\n",
    "plt.ylabel('Count')\n",
    "plt.show()"
   ]
  },
  {
   "cell_type": "markdown",
   "id": "811b5ed6-99b6-42f2-8752-45fc2301638e",
   "metadata": {
    "id": "811b5ed6-99b6-42f2-8752-45fc2301638e"
   },
   "source": [
    "**📊 Insight: Analyzes the most preferred shipping method.**"
   ]
  },
  {
   "cell_type": "markdown",
   "id": "68cc89fc-a82f-400a-9634-288b700c4f7e",
   "metadata": {
    "id": "68cc89fc-a82f-400a-9634-288b700c4f7e"
   },
   "source": [
    "**1. Highest number of orders are placed on Monday, Tuesday and least orders on Sunday**\n",
    "\n",
    "**2. Highest revenue is generated on Monday and Wednesday**\n",
    "\n",
    "**3. Highest revenue are generated at 17th day of month followed by peaks at start, end of month**\n",
    "\n",
    "**4. In most of orders no discounts were given, followed by 0.2% discount**"
   ]
  },
  {
   "cell_type": "code",
   "execution_count": null,
   "id": "c686d4a3-d559-4f07-bf8c-b8959a287531",
   "metadata": {
    "id": "c686d4a3-d559-4f07-bf8c-b8959a287531"
   },
   "outputs": [],
   "source": []
  },
  {
   "cell_type": "markdown",
   "id": "9c4c6017-1476-4855-bf02-1b175e50178c",
   "metadata": {
    "id": "9c4c6017-1476-4855-bf02-1b175e50178c"
   },
   "source": [
    "### 1.3 Customer Info"
   ]
  },
  {
   "cell_type": "code",
   "execution_count": 340,
   "id": "50cfe476-b7fd-476e-9495-eae06adcf1a7",
   "metadata": {
    "id": "50cfe476-b7fd-476e-9495-eae06adcf1a7"
   },
   "outputs": [],
   "source": [
    "df_customer_info = pd.read_csv(\"./data/customers_info.csv\")"
   ]
  },
  {
   "cell_type": "code",
   "execution_count": 341,
   "id": "001a4788-d47a-4d8c-9685-f5a450d1b541",
   "metadata": {
    "colab": {
     "base_uri": "https://localhost:8080/"
    },
    "id": "001a4788-d47a-4d8c-9685-f5a450d1b541",
    "outputId": "a439b29a-60c9-4287-8034-2c0b1024f702"
   },
   "outputs": [
    {
     "data": {
      "text/plain": [
       "(4910, 8)"
      ]
     },
     "execution_count": 341,
     "metadata": {},
     "output_type": "execute_result"
    }
   ],
   "source": [
    "df_customer_info.shape"
   ]
  },
  {
   "cell_type": "code",
   "execution_count": 342,
   "id": "c025f113-f6de-4194-a9a7-7183a3ecff07",
   "metadata": {
    "colab": {
     "base_uri": "https://localhost:8080/",
     "height": 206
    },
    "id": "c025f113-f6de-4194-a9a7-7183a3ecff07",
    "outputId": "dedf8a55-739e-4c17-e6f0-9c75772f1811"
   },
   "outputs": [
    {
     "data": {
      "text/html": [
       "<div>\n",
       "<style scoped>\n",
       "    .dataframe tbody tr th:only-of-type {\n",
       "        vertical-align: middle;\n",
       "    }\n",
       "\n",
       "    .dataframe tbody tr th {\n",
       "        vertical-align: top;\n",
       "    }\n",
       "\n",
       "    .dataframe thead th {\n",
       "        text-align: right;\n",
       "    }\n",
       "</style>\n",
       "<table border=\"1\" class=\"dataframe\">\n",
       "  <thead>\n",
       "    <tr style=\"text-align: right;\">\n",
       "      <th></th>\n",
       "      <th>Customer ID</th>\n",
       "      <th>Customer Name</th>\n",
       "      <th>Segment</th>\n",
       "      <th>Country</th>\n",
       "      <th>City</th>\n",
       "      <th>State</th>\n",
       "      <th>Postal Code</th>\n",
       "      <th>Region</th>\n",
       "    </tr>\n",
       "  </thead>\n",
       "  <tbody>\n",
       "    <tr>\n",
       "      <th>0</th>\n",
       "      <td>CG-12520</td>\n",
       "      <td>Claire Gute</td>\n",
       "      <td>Consumer</td>\n",
       "      <td>United States</td>\n",
       "      <td>Henderson</td>\n",
       "      <td>Kentucky</td>\n",
       "      <td>42420</td>\n",
       "      <td>South</td>\n",
       "    </tr>\n",
       "    <tr>\n",
       "      <th>1</th>\n",
       "      <td>DV-13045</td>\n",
       "      <td>Darrin Van Huff</td>\n",
       "      <td>Corporate</td>\n",
       "      <td>United States</td>\n",
       "      <td>Los Angeles</td>\n",
       "      <td>California</td>\n",
       "      <td>90036</td>\n",
       "      <td>West</td>\n",
       "    </tr>\n",
       "    <tr>\n",
       "      <th>2</th>\n",
       "      <td>SO-20335</td>\n",
       "      <td>Sean O'Donnell</td>\n",
       "      <td>Consumer</td>\n",
       "      <td>United States</td>\n",
       "      <td>Fort Lauderdale</td>\n",
       "      <td>Florida</td>\n",
       "      <td>33311</td>\n",
       "      <td>South</td>\n",
       "    </tr>\n",
       "    <tr>\n",
       "      <th>3</th>\n",
       "      <td>BH-11710</td>\n",
       "      <td>Brosina Hoffman</td>\n",
       "      <td>Consumer</td>\n",
       "      <td>United States</td>\n",
       "      <td>Los Angeles</td>\n",
       "      <td>California</td>\n",
       "      <td>90032</td>\n",
       "      <td>West</td>\n",
       "    </tr>\n",
       "    <tr>\n",
       "      <th>4</th>\n",
       "      <td>AA-10480</td>\n",
       "      <td>Andrew Allen</td>\n",
       "      <td>Consumer</td>\n",
       "      <td>United States</td>\n",
       "      <td>Concord</td>\n",
       "      <td>North Carolina</td>\n",
       "      <td>28027</td>\n",
       "      <td>South</td>\n",
       "    </tr>\n",
       "  </tbody>\n",
       "</table>\n",
       "</div>"
      ],
      "text/plain": [
       "  Customer ID    Customer Name    Segment        Country             City  \\\n",
       "0    CG-12520      Claire Gute   Consumer  United States        Henderson   \n",
       "1    DV-13045  Darrin Van Huff  Corporate  United States      Los Angeles   \n",
       "2    SO-20335   Sean O'Donnell   Consumer  United States  Fort Lauderdale   \n",
       "3    BH-11710  Brosina Hoffman   Consumer  United States      Los Angeles   \n",
       "4    AA-10480     Andrew Allen   Consumer  United States          Concord   \n",
       "\n",
       "            State  Postal Code Region  \n",
       "0        Kentucky        42420  South  \n",
       "1      California        90036   West  \n",
       "2         Florida        33311  South  \n",
       "3      California        90032   West  \n",
       "4  North Carolina        28027  South  "
      ]
     },
     "execution_count": 342,
     "metadata": {},
     "output_type": "execute_result"
    }
   ],
   "source": [
    "df_customer_info.head()"
   ]
  },
  {
   "cell_type": "code",
   "execution_count": 343,
   "id": "8853b412-25d6-4ea3-aad4-b9df424bd2aa",
   "metadata": {
    "colab": {
     "base_uri": "https://localhost:8080/"
    },
    "id": "8853b412-25d6-4ea3-aad4-b9df424bd2aa",
    "outputId": "62f806b7-3814-44c0-fe4d-e1a1a86aa6e9"
   },
   "outputs": [
    {
     "name": "stdout",
     "output_type": "stream",
     "text": [
      "<class 'pandas.core.frame.DataFrame'>\n",
      "RangeIndex: 4910 entries, 0 to 4909\n",
      "Data columns (total 8 columns):\n",
      " #   Column         Non-Null Count  Dtype \n",
      "---  ------         --------------  ----- \n",
      " 0   Customer ID    4910 non-null   object\n",
      " 1   Customer Name  4910 non-null   object\n",
      " 2   Segment        4910 non-null   object\n",
      " 3   Country        4910 non-null   object\n",
      " 4   City           4910 non-null   object\n",
      " 5   State          4910 non-null   object\n",
      " 6   Postal Code    4910 non-null   int64 \n",
      " 7   Region         4910 non-null   object\n",
      "dtypes: int64(1), object(7)\n",
      "memory usage: 307.0+ KB\n"
     ]
    }
   ],
   "source": [
    "df_customer_info.info()"
   ]
  },
  {
   "cell_type": "code",
   "execution_count": 344,
   "id": "5f784657-323f-44ca-a159-720fa30db87d",
   "metadata": {
    "colab": {
     "base_uri": "https://localhost:8080/",
     "height": 335
    },
    "id": "5f784657-323f-44ca-a159-720fa30db87d",
    "outputId": "84d75e96-1190-42ac-b2bc-d8ec5dacf6b6"
   },
   "outputs": [
    {
     "data": {
      "text/plain": [
       "Customer ID      793\n",
       "Customer Name    793\n",
       "Segment            3\n",
       "Country            1\n",
       "City             531\n",
       "State             49\n",
       "Postal Code      631\n",
       "Region             4\n",
       "dtype: int64"
      ]
     },
     "execution_count": 344,
     "metadata": {},
     "output_type": "execute_result"
    }
   ],
   "source": [
    "df_customer_info.nunique()"
   ]
  },
  {
   "cell_type": "markdown",
   "id": "80b41684-c630-4ca7-811c-5a8b6f95c74f",
   "metadata": {
    "id": "80b41684-c630-4ca7-811c-5a8b6f95c74f"
   },
   "source": [
    "**imp : unique customer id is 793 and total notnull value is 4910 means their is a duplicate value**"
   ]
  },
  {
   "cell_type": "code",
   "execution_count": 345,
   "id": "51352607-796e-48f8-8204-da8cc6c8374e",
   "metadata": {
    "colab": {
     "base_uri": "https://localhost:8080/",
     "height": 143
    },
    "id": "51352607-796e-48f8-8204-da8cc6c8374e",
    "outputId": "63aea462-ec7c-46f1-e488-78bb29b6e290"
   },
   "outputs": [
    {
     "data": {
      "text/html": [
       "<div>\n",
       "<style scoped>\n",
       "    .dataframe tbody tr th:only-of-type {\n",
       "        vertical-align: middle;\n",
       "    }\n",
       "\n",
       "    .dataframe tbody tr th {\n",
       "        vertical-align: top;\n",
       "    }\n",
       "\n",
       "    .dataframe thead th {\n",
       "        text-align: right;\n",
       "    }\n",
       "</style>\n",
       "<table border=\"1\" class=\"dataframe\">\n",
       "  <thead>\n",
       "    <tr style=\"text-align: right;\">\n",
       "      <th></th>\n",
       "      <th>Customer ID</th>\n",
       "      <th>Customer Name</th>\n",
       "      <th>Segment</th>\n",
       "      <th>Country</th>\n",
       "      <th>City</th>\n",
       "      <th>State</th>\n",
       "      <th>Postal Code</th>\n",
       "      <th>Region</th>\n",
       "    </tr>\n",
       "  </thead>\n",
       "  <tbody>\n",
       "    <tr>\n",
       "      <th>0</th>\n",
       "      <td>CG-12520</td>\n",
       "      <td>Claire Gute</td>\n",
       "      <td>Consumer</td>\n",
       "      <td>United States</td>\n",
       "      <td>Henderson</td>\n",
       "      <td>Kentucky</td>\n",
       "      <td>42420</td>\n",
       "      <td>South</td>\n",
       "    </tr>\n",
       "    <tr>\n",
       "      <th>2704</th>\n",
       "      <td>CG-12520</td>\n",
       "      <td>Claire Gute</td>\n",
       "      <td>Consumer</td>\n",
       "      <td>United States</td>\n",
       "      <td>Houston</td>\n",
       "      <td>Texas</td>\n",
       "      <td>77070</td>\n",
       "      <td>Central</td>\n",
       "    </tr>\n",
       "    <tr>\n",
       "      <th>3359</th>\n",
       "      <td>CG-12520</td>\n",
       "      <td>Claire Gute</td>\n",
       "      <td>Consumer</td>\n",
       "      <td>United States</td>\n",
       "      <td>Dallas</td>\n",
       "      <td>Texas</td>\n",
       "      <td>75217</td>\n",
       "      <td>Central</td>\n",
       "    </tr>\n",
       "  </tbody>\n",
       "</table>\n",
       "</div>"
      ],
      "text/plain": [
       "     Customer ID Customer Name   Segment        Country       City     State  \\\n",
       "0       CG-12520   Claire Gute  Consumer  United States  Henderson  Kentucky   \n",
       "2704    CG-12520   Claire Gute  Consumer  United States    Houston     Texas   \n",
       "3359    CG-12520   Claire Gute  Consumer  United States     Dallas     Texas   \n",
       "\n",
       "      Postal Code   Region  \n",
       "0           42420    South  \n",
       "2704        77070  Central  \n",
       "3359        75217  Central  "
      ]
     },
     "execution_count": 345,
     "metadata": {},
     "output_type": "execute_result"
    }
   ],
   "source": [
    "df_customer_info[df_customer_info['Customer ID'] == 'CG-12520']"
   ]
  },
  {
   "cell_type": "markdown",
   "id": "c194ca86-b648-4fd5-be27-95a6d76ae849",
   "metadata": {
    "id": "c194ca86-b648-4fd5-be27-95a6d76ae849"
   },
   "source": [
    "**imp : Columns could lead to inconsistencies**"
   ]
  },
  {
   "cell_type": "markdown",
   "id": "c178547a-eeb8-4d7e-bf9c-a0d3ec93ad82",
   "metadata": {
    "id": "c178547a-eeb8-4d7e-bf9c-a0d3ec93ad82"
   },
   "source": [
    "### Dropping the features as we want unique values of customers:"
   ]
  },
  {
   "cell_type": "code",
   "execution_count": 346,
   "id": "4090ba9a-f0f9-4f8a-8c77-4b6f49791c26",
   "metadata": {
    "id": "4090ba9a-f0f9-4f8a-8c77-4b6f49791c26"
   },
   "outputs": [],
   "source": [
    "df_customer_info.drop(['City', 'State', 'Postal Code', 'Region'], axis=1, inplace=True)"
   ]
  },
  {
   "cell_type": "code",
   "execution_count": 347,
   "id": "78a3f08c-069e-4163-b4ac-a6fa0addd75b",
   "metadata": {
    "id": "78a3f08c-069e-4163-b4ac-a6fa0addd75b"
   },
   "outputs": [],
   "source": [
    "df_customer_info = df_customer_info.drop_duplicates(subset='Customer ID')"
   ]
  },
  {
   "cell_type": "code",
   "execution_count": 348,
   "id": "b29d643d-0b04-48e0-b3de-ded8c57c4ca8",
   "metadata": {
    "colab": {
     "base_uri": "https://localhost:8080/"
    },
    "id": "b29d643d-0b04-48e0-b3de-ded8c57c4ca8",
    "outputId": "589e068e-b4ec-4853-85df-10ff5631d13f"
   },
   "outputs": [
    {
     "data": {
      "text/plain": [
       "(793, 4)"
      ]
     },
     "execution_count": 348,
     "metadata": {},
     "output_type": "execute_result"
    }
   ],
   "source": [
    "df_customer_info.shape"
   ]
  },
  {
   "cell_type": "code",
   "execution_count": 349,
   "id": "5999dc20-1ad6-450c-a215-1d86a178c427",
   "metadata": {
    "colab": {
     "base_uri": "https://localhost:8080/",
     "height": 206
    },
    "id": "5999dc20-1ad6-450c-a215-1d86a178c427",
    "outputId": "a45aca7b-bc69-4c7d-d805-82b7b1eee51f"
   },
   "outputs": [
    {
     "data": {
      "text/html": [
       "<div>\n",
       "<style scoped>\n",
       "    .dataframe tbody tr th:only-of-type {\n",
       "        vertical-align: middle;\n",
       "    }\n",
       "\n",
       "    .dataframe tbody tr th {\n",
       "        vertical-align: top;\n",
       "    }\n",
       "\n",
       "    .dataframe thead th {\n",
       "        text-align: right;\n",
       "    }\n",
       "</style>\n",
       "<table border=\"1\" class=\"dataframe\">\n",
       "  <thead>\n",
       "    <tr style=\"text-align: right;\">\n",
       "      <th></th>\n",
       "      <th>Customer ID</th>\n",
       "      <th>Customer Name</th>\n",
       "      <th>Segment</th>\n",
       "      <th>Country</th>\n",
       "    </tr>\n",
       "  </thead>\n",
       "  <tbody>\n",
       "    <tr>\n",
       "      <th>0</th>\n",
       "      <td>CG-12520</td>\n",
       "      <td>Claire Gute</td>\n",
       "      <td>Consumer</td>\n",
       "      <td>United States</td>\n",
       "    </tr>\n",
       "    <tr>\n",
       "      <th>1</th>\n",
       "      <td>DV-13045</td>\n",
       "      <td>Darrin Van Huff</td>\n",
       "      <td>Corporate</td>\n",
       "      <td>United States</td>\n",
       "    </tr>\n",
       "    <tr>\n",
       "      <th>2</th>\n",
       "      <td>SO-20335</td>\n",
       "      <td>Sean O'Donnell</td>\n",
       "      <td>Consumer</td>\n",
       "      <td>United States</td>\n",
       "    </tr>\n",
       "    <tr>\n",
       "      <th>3</th>\n",
       "      <td>BH-11710</td>\n",
       "      <td>Brosina Hoffman</td>\n",
       "      <td>Consumer</td>\n",
       "      <td>United States</td>\n",
       "    </tr>\n",
       "    <tr>\n",
       "      <th>4</th>\n",
       "      <td>AA-10480</td>\n",
       "      <td>Andrew Allen</td>\n",
       "      <td>Consumer</td>\n",
       "      <td>United States</td>\n",
       "    </tr>\n",
       "  </tbody>\n",
       "</table>\n",
       "</div>"
      ],
      "text/plain": [
       "  Customer ID    Customer Name    Segment        Country\n",
       "0    CG-12520      Claire Gute   Consumer  United States\n",
       "1    DV-13045  Darrin Van Huff  Corporate  United States\n",
       "2    SO-20335   Sean O'Donnell   Consumer  United States\n",
       "3    BH-11710  Brosina Hoffman   Consumer  United States\n",
       "4    AA-10480     Andrew Allen   Consumer  United States"
      ]
     },
     "execution_count": 349,
     "metadata": {},
     "output_type": "execute_result"
    }
   ],
   "source": [
    "df_customer_info.head()"
   ]
  },
  {
   "cell_type": "markdown",
   "id": "f136d2d7-e856-48cb-a704-86527f919e88",
   "metadata": {
    "id": "f136d2d7-e856-48cb-a704-86527f919e88"
   },
   "source": [
    "### 1.4 Order returned Info"
   ]
  },
  {
   "cell_type": "code",
   "execution_count": 350,
   "id": "a91a609f-f8ae-401c-bf79-8402b9f89f4e",
   "metadata": {
    "id": "a91a609f-f8ae-401c-bf79-8402b9f89f4e"
   },
   "outputs": [],
   "source": [
    "df_order_returned_info= pd.read_csv(\"./data/orders_returned_info.csv\")"
   ]
  },
  {
   "cell_type": "code",
   "execution_count": 351,
   "id": "79936c1d-f8a1-4ccd-b1a9-34e2d3c4b57e",
   "metadata": {
    "colab": {
     "base_uri": "https://localhost:8080/",
     "height": 206
    },
    "id": "79936c1d-f8a1-4ccd-b1a9-34e2d3c4b57e",
    "outputId": "74c30268-a07b-4465-e047-67b75e1eb4f1"
   },
   "outputs": [
    {
     "data": {
      "text/html": [
       "<div>\n",
       "<style scoped>\n",
       "    .dataframe tbody tr th:only-of-type {\n",
       "        vertical-align: middle;\n",
       "    }\n",
       "\n",
       "    .dataframe tbody tr th {\n",
       "        vertical-align: top;\n",
       "    }\n",
       "\n",
       "    .dataframe thead th {\n",
       "        text-align: right;\n",
       "    }\n",
       "</style>\n",
       "<table border=\"1\" class=\"dataframe\">\n",
       "  <thead>\n",
       "    <tr style=\"text-align: right;\">\n",
       "      <th></th>\n",
       "      <th>index</th>\n",
       "      <th>Returned</th>\n",
       "      <th>Order ID</th>\n",
       "    </tr>\n",
       "  </thead>\n",
       "  <tbody>\n",
       "    <tr>\n",
       "      <th>0</th>\n",
       "      <td>0</td>\n",
       "      <td>Yes</td>\n",
       "      <td>CA-2017-153822</td>\n",
       "    </tr>\n",
       "    <tr>\n",
       "      <th>1</th>\n",
       "      <td>1</td>\n",
       "      <td>Yes</td>\n",
       "      <td>CA-2017-129707</td>\n",
       "    </tr>\n",
       "    <tr>\n",
       "      <th>2</th>\n",
       "      <td>2</td>\n",
       "      <td>Yes</td>\n",
       "      <td>CA-2014-152345</td>\n",
       "    </tr>\n",
       "    <tr>\n",
       "      <th>3</th>\n",
       "      <td>3</td>\n",
       "      <td>Yes</td>\n",
       "      <td>CA-2015-156440</td>\n",
       "    </tr>\n",
       "    <tr>\n",
       "      <th>4</th>\n",
       "      <td>4</td>\n",
       "      <td>Yes</td>\n",
       "      <td>US-2017-155999</td>\n",
       "    </tr>\n",
       "  </tbody>\n",
       "</table>\n",
       "</div>"
      ],
      "text/plain": [
       "   index Returned        Order ID\n",
       "0      0      Yes  CA-2017-153822\n",
       "1      1      Yes  CA-2017-129707\n",
       "2      2      Yes  CA-2014-152345\n",
       "3      3      Yes  CA-2015-156440\n",
       "4      4      Yes  US-2017-155999"
      ]
     },
     "execution_count": 351,
     "metadata": {},
     "output_type": "execute_result"
    }
   ],
   "source": [
    "df_order_returned_info.head()"
   ]
  },
  {
   "cell_type": "code",
   "execution_count": 352,
   "id": "c356fb9a-e667-4dbf-b2c4-12c6616cc407",
   "metadata": {
    "colab": {
     "base_uri": "https://localhost:8080/"
    },
    "id": "c356fb9a-e667-4dbf-b2c4-12c6616cc407",
    "outputId": "56237dfd-ec44-4685-dee6-dd5457ea15ab"
   },
   "outputs": [
    {
     "name": "stdout",
     "output_type": "stream",
     "text": [
      "<class 'pandas.core.frame.DataFrame'>\n",
      "RangeIndex: 296 entries, 0 to 295\n",
      "Data columns (total 3 columns):\n",
      " #   Column    Non-Null Count  Dtype \n",
      "---  ------    --------------  ----- \n",
      " 0   index     296 non-null    int64 \n",
      " 1   Returned  296 non-null    object\n",
      " 2   Order ID  296 non-null    object\n",
      "dtypes: int64(1), object(2)\n",
      "memory usage: 7.1+ KB\n"
     ]
    }
   ],
   "source": [
    "df_order_returned_info.info()"
   ]
  },
  {
   "cell_type": "code",
   "execution_count": 353,
   "id": "82906d4e-7ca0-4879-8970-7a4c3236f38a",
   "metadata": {
    "colab": {
     "base_uri": "https://localhost:8080/",
     "height": 178
    },
    "id": "82906d4e-7ca0-4879-8970-7a4c3236f38a",
    "outputId": "bbdb9cea-1cfe-4bf5-8e6b-1e3619bcff1c"
   },
   "outputs": [
    {
     "data": {
      "text/plain": [
       "index       296\n",
       "Returned      1\n",
       "Order ID    296\n",
       "dtype: int64"
      ]
     },
     "execution_count": 353,
     "metadata": {},
     "output_type": "execute_result"
    }
   ],
   "source": [
    "df_order_returned_info.nunique()"
   ]
  },
  {
   "cell_type": "markdown",
   "id": "ceeeb9a9-7157-4979-be6a-9113ba72dd1e",
   "metadata": {
    "id": "ceeeb9a9-7157-4979-be6a-9113ba72dd1e"
   },
   "source": [
    "### 1.5 Region Seller Info"
   ]
  },
  {
   "cell_type": "code",
   "execution_count": 354,
   "id": "6e7afd0f-a04c-4793-9aad-540906f68677",
   "metadata": {
    "id": "6e7afd0f-a04c-4793-9aad-540906f68677"
   },
   "outputs": [],
   "source": [
    "# we will not using this dataset because we dont have any join column\n",
    "df_region_seller_info = pd.read_json(\"./data/region_seller_info.json\")"
   ]
  },
  {
   "cell_type": "code",
   "execution_count": 355,
   "id": "409b8185-6a5c-4a7a-b3ef-aa634503f3bd",
   "metadata": {
    "colab": {
     "base_uri": "https://localhost:8080/",
     "height": 174
    },
    "id": "409b8185-6a5c-4a7a-b3ef-aa634503f3bd",
    "outputId": "21067076-3ecc-4edc-eda6-ffa837e282af"
   },
   "outputs": [
    {
     "data": {
      "text/html": [
       "<div>\n",
       "<style scoped>\n",
       "    .dataframe tbody tr th:only-of-type {\n",
       "        vertical-align: middle;\n",
       "    }\n",
       "\n",
       "    .dataframe tbody tr th {\n",
       "        vertical-align: top;\n",
       "    }\n",
       "\n",
       "    .dataframe thead th {\n",
       "        text-align: right;\n",
       "    }\n",
       "</style>\n",
       "<table border=\"1\" class=\"dataframe\">\n",
       "  <thead>\n",
       "    <tr style=\"text-align: right;\">\n",
       "      <th></th>\n",
       "      <th>0</th>\n",
       "      <th>1</th>\n",
       "      <th>2</th>\n",
       "      <th>3</th>\n",
       "    </tr>\n",
       "  </thead>\n",
       "  <tbody>\n",
       "    <tr>\n",
       "      <th>0</th>\n",
       "      <td>Anna Andreadi</td>\n",
       "      <td>West</td>\n",
       "      <td>Femail</td>\n",
       "      <td>45</td>\n",
       "    </tr>\n",
       "    <tr>\n",
       "      <th>1</th>\n",
       "      <td>Chuck Magee</td>\n",
       "      <td>East</td>\n",
       "      <td>G</td>\n",
       "      <td>43</td>\n",
       "    </tr>\n",
       "    <tr>\n",
       "      <th>2</th>\n",
       "      <td>Kelly Williams</td>\n",
       "      <td>Central</td>\n",
       "      <td>None</td>\n",
       "      <td>35</td>\n",
       "    </tr>\n",
       "    <tr>\n",
       "      <th>3</th>\n",
       "      <td>Cassandra Brandow</td>\n",
       "      <td>South</td>\n",
       "      <td>F</td>\n",
       "      <td>9849</td>\n",
       "    </tr>\n",
       "  </tbody>\n",
       "</table>\n",
       "</div>"
      ],
      "text/plain": [
       "                   0        1       2     3\n",
       "0      Anna Andreadi     West  Femail    45\n",
       "1        Chuck Magee     East       G    43\n",
       "2     Kelly Williams  Central    None    35\n",
       "3  Cassandra Brandow    South       F  9849"
      ]
     },
     "execution_count": 355,
     "metadata": {},
     "output_type": "execute_result"
    }
   ],
   "source": [
    "df_region_seller_info.head()"
   ]
  },
  {
   "cell_type": "markdown",
   "id": "d0d90ee0-696d-4291-8e76-cff3b7dc80e8",
   "metadata": {
    "id": "d0d90ee0-696d-4291-8e76-cff3b7dc80e8"
   },
   "source": [
    "## Data Integration"
   ]
  },
  {
   "cell_type": "code",
   "execution_count": 356,
   "id": "43b9cbd7-183e-4bb9-9265-9352820ae098",
   "metadata": {
    "id": "43b9cbd7-183e-4bb9-9265-9352820ae098"
   },
   "outputs": [],
   "source": [
    "# Step 1: Merge df_customer_tran with df_product\n",
    "merged_step_1 = pd.merge(df_customer_tran, df_product, on=\"Product ID\", how=\"left\")\n",
    "\n",
    "# Step 2: Merge the result with df_customer_info\n",
    "merged_dataframe = pd.merge(merged_step_1, df_customer_info, on=\"Customer ID\", how=\"left\")"
   ]
  },
  {
   "cell_type": "code",
   "execution_count": 357,
   "id": "deb5c4ce-ab64-4f90-8ff3-056723707060",
   "metadata": {
    "colab": {
     "base_uri": "https://localhost:8080/",
     "height": 590
    },
    "id": "deb5c4ce-ab64-4f90-8ff3-056723707060",
    "outputId": "8f679e7f-316e-42a0-b44a-fd3d473c4567"
   },
   "outputs": [
    {
     "data": {
      "text/html": [
       "<div>\n",
       "<style scoped>\n",
       "    .dataframe tbody tr th:only-of-type {\n",
       "        vertical-align: middle;\n",
       "    }\n",
       "\n",
       "    .dataframe tbody tr th {\n",
       "        vertical-align: top;\n",
       "    }\n",
       "\n",
       "    .dataframe thead th {\n",
       "        text-align: right;\n",
       "    }\n",
       "</style>\n",
       "<table border=\"1\" class=\"dataframe\">\n",
       "  <thead>\n",
       "    <tr style=\"text-align: right;\">\n",
       "      <th></th>\n",
       "      <th>Order ID</th>\n",
       "      <th>Order Date</th>\n",
       "      <th>Ship Date</th>\n",
       "      <th>Ship Mode</th>\n",
       "      <th>Customer ID</th>\n",
       "      <th>Product ID</th>\n",
       "      <th>Sales</th>\n",
       "      <th>Quantity</th>\n",
       "      <th>Discount</th>\n",
       "      <th>Profit</th>\n",
       "      <th>Order Year</th>\n",
       "      <th>Order Month</th>\n",
       "      <th>Order Day</th>\n",
       "      <th>Order Day of Week</th>\n",
       "      <th>Order to Ship Duration</th>\n",
       "      <th>Total Revenue</th>\n",
       "      <th>Average Profit per Unit</th>\n",
       "      <th>Profit Margin</th>\n",
       "      <th>Discounted Sales</th>\n",
       "      <th>High Value Customer</th>\n",
       "      <th>Category</th>\n",
       "      <th>Sub-Category</th>\n",
       "      <th>Product Name</th>\n",
       "      <th>printer_related</th>\n",
       "      <th>Customer Name</th>\n",
       "      <th>Segment</th>\n",
       "      <th>Country</th>\n",
       "    </tr>\n",
       "  </thead>\n",
       "  <tbody>\n",
       "    <tr>\n",
       "      <th>0</th>\n",
       "      <td>CA-2016-152156</td>\n",
       "      <td>2016-11-08</td>\n",
       "      <td>2016-11-11</td>\n",
       "      <td>Second Class</td>\n",
       "      <td>CG-12520</td>\n",
       "      <td>FUR-BO-10001798</td>\n",
       "      <td>261.9600</td>\n",
       "      <td>2</td>\n",
       "      <td>0.00</td>\n",
       "      <td>41.9136</td>\n",
       "      <td>2016</td>\n",
       "      <td>11</td>\n",
       "      <td>8</td>\n",
       "      <td>1</td>\n",
       "      <td>3</td>\n",
       "      <td>523.9200</td>\n",
       "      <td>20.9568</td>\n",
       "      <td>0.1600</td>\n",
       "      <td>261.960000</td>\n",
       "      <td>True</td>\n",
       "      <td>Furniture</td>\n",
       "      <td>Bookcases</td>\n",
       "      <td>Bush Somerset Collection Bookcase</td>\n",
       "      <td>False</td>\n",
       "      <td>Claire Gute</td>\n",
       "      <td>Consumer</td>\n",
       "      <td>United States</td>\n",
       "    </tr>\n",
       "    <tr>\n",
       "      <th>1</th>\n",
       "      <td>CA-2016-152156</td>\n",
       "      <td>2016-11-08</td>\n",
       "      <td>2016-11-11</td>\n",
       "      <td>Second Class</td>\n",
       "      <td>CG-12520</td>\n",
       "      <td>FUR-CH-10000454</td>\n",
       "      <td>731.9400</td>\n",
       "      <td>3</td>\n",
       "      <td>0.00</td>\n",
       "      <td>219.5820</td>\n",
       "      <td>2016</td>\n",
       "      <td>11</td>\n",
       "      <td>8</td>\n",
       "      <td>1</td>\n",
       "      <td>3</td>\n",
       "      <td>2195.8200</td>\n",
       "      <td>73.1940</td>\n",
       "      <td>0.3000</td>\n",
       "      <td>731.940000</td>\n",
       "      <td>True</td>\n",
       "      <td>Furniture</td>\n",
       "      <td>Chairs</td>\n",
       "      <td>Hon Deluxe Fabric Upholstered Stacking Chairs,...</td>\n",
       "      <td>False</td>\n",
       "      <td>Claire Gute</td>\n",
       "      <td>Consumer</td>\n",
       "      <td>United States</td>\n",
       "    </tr>\n",
       "    <tr>\n",
       "      <th>2</th>\n",
       "      <td>CA-2016-138688</td>\n",
       "      <td>2016-06-12</td>\n",
       "      <td>2016-06-16</td>\n",
       "      <td>Second Class</td>\n",
       "      <td>DV-13045</td>\n",
       "      <td>OFF-LA-10000240</td>\n",
       "      <td>14.6200</td>\n",
       "      <td>2</td>\n",
       "      <td>0.00</td>\n",
       "      <td>6.8714</td>\n",
       "      <td>2016</td>\n",
       "      <td>6</td>\n",
       "      <td>12</td>\n",
       "      <td>6</td>\n",
       "      <td>4</td>\n",
       "      <td>29.2400</td>\n",
       "      <td>3.4357</td>\n",
       "      <td>0.4700</td>\n",
       "      <td>14.620000</td>\n",
       "      <td>True</td>\n",
       "      <td>Office Supplies</td>\n",
       "      <td>Labels</td>\n",
       "      <td>Self-Adhesive Address Labels for Typewriters b...</td>\n",
       "      <td>False</td>\n",
       "      <td>Darrin Van Huff</td>\n",
       "      <td>Corporate</td>\n",
       "      <td>United States</td>\n",
       "    </tr>\n",
       "    <tr>\n",
       "      <th>3</th>\n",
       "      <td>US-2015-108966</td>\n",
       "      <td>2015-10-11</td>\n",
       "      <td>2015-10-18</td>\n",
       "      <td>Standard Class</td>\n",
       "      <td>SO-20335</td>\n",
       "      <td>FUR-TA-10000577</td>\n",
       "      <td>957.5775</td>\n",
       "      <td>5</td>\n",
       "      <td>0.45</td>\n",
       "      <td>-383.0310</td>\n",
       "      <td>2015</td>\n",
       "      <td>10</td>\n",
       "      <td>11</td>\n",
       "      <td>6</td>\n",
       "      <td>7</td>\n",
       "      <td>4787.8875</td>\n",
       "      <td>-76.6062</td>\n",
       "      <td>-0.4000</td>\n",
       "      <td>526.667625</td>\n",
       "      <td>True</td>\n",
       "      <td>Furniture</td>\n",
       "      <td>Tables</td>\n",
       "      <td>Bretford CR4500 Series Slim Rectangular Table</td>\n",
       "      <td>False</td>\n",
       "      <td>Sean O'Donnell</td>\n",
       "      <td>Consumer</td>\n",
       "      <td>United States</td>\n",
       "    </tr>\n",
       "    <tr>\n",
       "      <th>4</th>\n",
       "      <td>US-2015-108966</td>\n",
       "      <td>2015-10-11</td>\n",
       "      <td>2015-10-18</td>\n",
       "      <td>Standard Class</td>\n",
       "      <td>SO-20335</td>\n",
       "      <td>OFF-ST-10000760</td>\n",
       "      <td>22.3680</td>\n",
       "      <td>2</td>\n",
       "      <td>0.20</td>\n",
       "      <td>2.5164</td>\n",
       "      <td>2015</td>\n",
       "      <td>10</td>\n",
       "      <td>11</td>\n",
       "      <td>6</td>\n",
       "      <td>7</td>\n",
       "      <td>44.7360</td>\n",
       "      <td>1.2582</td>\n",
       "      <td>0.1125</td>\n",
       "      <td>17.894400</td>\n",
       "      <td>True</td>\n",
       "      <td>Office Supplies</td>\n",
       "      <td>Storage</td>\n",
       "      <td>Eldon Fold 'N Roll Cart System</td>\n",
       "      <td>False</td>\n",
       "      <td>Sean O'Donnell</td>\n",
       "      <td>Consumer</td>\n",
       "      <td>United States</td>\n",
       "    </tr>\n",
       "  </tbody>\n",
       "</table>\n",
       "</div>"
      ],
      "text/plain": [
       "         Order ID Order Date  Ship Date       Ship Mode Customer ID  \\\n",
       "0  CA-2016-152156 2016-11-08 2016-11-11    Second Class    CG-12520   \n",
       "1  CA-2016-152156 2016-11-08 2016-11-11    Second Class    CG-12520   \n",
       "2  CA-2016-138688 2016-06-12 2016-06-16    Second Class    DV-13045   \n",
       "3  US-2015-108966 2015-10-11 2015-10-18  Standard Class    SO-20335   \n",
       "4  US-2015-108966 2015-10-11 2015-10-18  Standard Class    SO-20335   \n",
       "\n",
       "        Product ID     Sales  Quantity  Discount    Profit  Order Year  \\\n",
       "0  FUR-BO-10001798  261.9600         2      0.00   41.9136        2016   \n",
       "1  FUR-CH-10000454  731.9400         3      0.00  219.5820        2016   \n",
       "2  OFF-LA-10000240   14.6200         2      0.00    6.8714        2016   \n",
       "3  FUR-TA-10000577  957.5775         5      0.45 -383.0310        2015   \n",
       "4  OFF-ST-10000760   22.3680         2      0.20    2.5164        2015   \n",
       "\n",
       "   Order Month  Order Day  Order Day of Week  Order to Ship Duration  \\\n",
       "0           11          8                  1                       3   \n",
       "1           11          8                  1                       3   \n",
       "2            6         12                  6                       4   \n",
       "3           10         11                  6                       7   \n",
       "4           10         11                  6                       7   \n",
       "\n",
       "   Total Revenue  Average Profit per Unit  Profit Margin  Discounted Sales  \\\n",
       "0       523.9200                  20.9568         0.1600        261.960000   \n",
       "1      2195.8200                  73.1940         0.3000        731.940000   \n",
       "2        29.2400                   3.4357         0.4700         14.620000   \n",
       "3      4787.8875                 -76.6062        -0.4000        526.667625   \n",
       "4        44.7360                   1.2582         0.1125         17.894400   \n",
       "\n",
       "   High Value Customer         Category Sub-Category  \\\n",
       "0                 True        Furniture    Bookcases   \n",
       "1                 True        Furniture       Chairs   \n",
       "2                 True  Office Supplies       Labels   \n",
       "3                 True        Furniture       Tables   \n",
       "4                 True  Office Supplies      Storage   \n",
       "\n",
       "                                        Product Name  printer_related  \\\n",
       "0                  Bush Somerset Collection Bookcase            False   \n",
       "1  Hon Deluxe Fabric Upholstered Stacking Chairs,...            False   \n",
       "2  Self-Adhesive Address Labels for Typewriters b...            False   \n",
       "3      Bretford CR4500 Series Slim Rectangular Table            False   \n",
       "4                     Eldon Fold 'N Roll Cart System            False   \n",
       "\n",
       "     Customer Name    Segment        Country  \n",
       "0      Claire Gute   Consumer  United States  \n",
       "1      Claire Gute   Consumer  United States  \n",
       "2  Darrin Van Huff  Corporate  United States  \n",
       "3   Sean O'Donnell   Consumer  United States  \n",
       "4   Sean O'Donnell   Consumer  United States  "
      ]
     },
     "execution_count": 357,
     "metadata": {},
     "output_type": "execute_result"
    }
   ],
   "source": [
    "merged_dataframe.head()"
   ]
  },
  {
   "cell_type": "code",
   "execution_count": 358,
   "id": "b12d8361-2541-465d-a36d-5a403ce85e97",
   "metadata": {
    "colab": {
     "base_uri": "https://localhost:8080/"
    },
    "id": "b12d8361-2541-465d-a36d-5a403ce85e97",
    "outputId": "3859607c-86f7-4519-c46b-f75812fac777"
   },
   "outputs": [
    {
     "data": {
      "text/plain": [
       "(10331, 27)"
      ]
     },
     "execution_count": 358,
     "metadata": {},
     "output_type": "execute_result"
    }
   ],
   "source": [
    "merged_dataframe.shape"
   ]
  },
  {
   "cell_type": "code",
   "execution_count": 359,
   "id": "8851950b-55c7-4ba7-b5ff-1e668186c95b",
   "metadata": {
    "colab": {
     "base_uri": "https://localhost:8080/"
    },
    "id": "8851950b-55c7-4ba7-b5ff-1e668186c95b",
    "outputId": "855f171a-bdeb-451b-b18b-7b9f82b34598"
   },
   "outputs": [
    {
     "name": "stdout",
     "output_type": "stream",
     "text": [
      "<class 'pandas.core.frame.DataFrame'>\n",
      "Int64Index: 10331 entries, 0 to 10330\n",
      "Data columns (total 27 columns):\n",
      " #   Column                   Non-Null Count  Dtype         \n",
      "---  ------                   --------------  -----         \n",
      " 0   Order ID                 10331 non-null  object        \n",
      " 1   Order Date               10331 non-null  datetime64[ns]\n",
      " 2   Ship Date                10331 non-null  datetime64[ns]\n",
      " 3   Ship Mode                10331 non-null  object        \n",
      " 4   Customer ID              10331 non-null  object        \n",
      " 5   Product ID               10331 non-null  object        \n",
      " 6   Sales                    10331 non-null  float64       \n",
      " 7   Quantity                 10331 non-null  int64         \n",
      " 8   Discount                 10331 non-null  float64       \n",
      " 9   Profit                   10331 non-null  float64       \n",
      " 10  Order Year               10331 non-null  int64         \n",
      " 11  Order Month              10331 non-null  int64         \n",
      " 12  Order Day                10331 non-null  int64         \n",
      " 13  Order Day of Week        10331 non-null  int64         \n",
      " 14  Order to Ship Duration   10331 non-null  int64         \n",
      " 15  Total Revenue            10331 non-null  float64       \n",
      " 16  Average Profit per Unit  10331 non-null  float64       \n",
      " 17  Profit Margin            10331 non-null  float64       \n",
      " 18  Discounted Sales         10331 non-null  float64       \n",
      " 19  High Value Customer      10331 non-null  bool          \n",
      " 20  Category                 10331 non-null  object        \n",
      " 21  Sub-Category             10331 non-null  object        \n",
      " 22  Product Name             10331 non-null  object        \n",
      " 23  printer_related          10331 non-null  bool          \n",
      " 24  Customer Name            10331 non-null  object        \n",
      " 25  Segment                  10331 non-null  object        \n",
      " 26  Country                  10331 non-null  object        \n",
      "dtypes: bool(2), datetime64[ns](2), float64(7), int64(6), object(10)\n",
      "memory usage: 2.1+ MB\n"
     ]
    }
   ],
   "source": [
    "merged_dataframe.info()"
   ]
  },
  {
   "cell_type": "code",
   "execution_count": 360,
   "id": "bbdf7dc8-406b-4e9f-83ed-e9cf3247a341",
   "metadata": {
    "id": "bbdf7dc8-406b-4e9f-83ed-e9cf3247a341"
   },
   "outputs": [],
   "source": [
    "# Convert 'Returned' column in df_orders_returned_info to boolean\n",
    "df_order_returned_info['Returned'] = df_order_returned_info['Returned'] == 'Yes'\n",
    "\n",
    "# Remove the returned orders from the main DataFrame\n",
    "merged_dataframe = merged_dataframe.merge(df_order_returned_info, how='left', on='Order ID', indicator=True)\n",
    "merged_dataframe = merged_dataframe[merged_dataframe['_merge'] == 'left_only']\n",
    "\n",
    "# Drop the 'Returned' and '_merge' columns, if needed\n",
    "merged_dataframe.drop(['Returned', '_merge'], axis=1, inplace=True)"
   ]
  },
  {
   "cell_type": "code",
   "execution_count": 361,
   "id": "7641ddcb-ffff-427b-8e92-1f58d5f74f9f",
   "metadata": {
    "colab": {
     "base_uri": "https://localhost:8080/"
    },
    "id": "7641ddcb-ffff-427b-8e92-1f58d5f74f9f",
    "outputId": "fb7fffed-c056-4a24-f0c3-6b3c0a615fd2"
   },
   "outputs": [
    {
     "data": {
      "text/plain": [
       "(9500, 28)"
      ]
     },
     "execution_count": 361,
     "metadata": {},
     "output_type": "execute_result"
    }
   ],
   "source": [
    "merged_dataframe.shape"
   ]
  },
  {
   "cell_type": "code",
   "execution_count": 362,
   "id": "ab9db2fd-67fd-469b-8e6a-4a9b4e0476c5",
   "metadata": {
    "colab": {
     "base_uri": "https://localhost:8080/"
    },
    "id": "ab9db2fd-67fd-469b-8e6a-4a9b4e0476c5",
    "outputId": "47c007d1-603e-4e04-f5c7-e5fb92c33c4a"
   },
   "outputs": [
    {
     "name": "stdout",
     "output_type": "stream",
     "text": [
      "<class 'pandas.core.frame.DataFrame'>\n",
      "Int64Index: 9500 entries, 0 to 10330\n",
      "Data columns (total 28 columns):\n",
      " #   Column                   Non-Null Count  Dtype         \n",
      "---  ------                   --------------  -----         \n",
      " 0   Order ID                 9500 non-null   object        \n",
      " 1   Order Date               9500 non-null   datetime64[ns]\n",
      " 2   Ship Date                9500 non-null   datetime64[ns]\n",
      " 3   Ship Mode                9500 non-null   object        \n",
      " 4   Customer ID              9500 non-null   object        \n",
      " 5   Product ID               9500 non-null   object        \n",
      " 6   Sales                    9500 non-null   float64       \n",
      " 7   Quantity                 9500 non-null   int64         \n",
      " 8   Discount                 9500 non-null   float64       \n",
      " 9   Profit                   9500 non-null   float64       \n",
      " 10  Order Year               9500 non-null   int64         \n",
      " 11  Order Month              9500 non-null   int64         \n",
      " 12  Order Day                9500 non-null   int64         \n",
      " 13  Order Day of Week        9500 non-null   int64         \n",
      " 14  Order to Ship Duration   9500 non-null   int64         \n",
      " 15  Total Revenue            9500 non-null   float64       \n",
      " 16  Average Profit per Unit  9500 non-null   float64       \n",
      " 17  Profit Margin            9500 non-null   float64       \n",
      " 18  Discounted Sales         9500 non-null   float64       \n",
      " 19  High Value Customer      9500 non-null   bool          \n",
      " 20  Category                 9500 non-null   object        \n",
      " 21  Sub-Category             9500 non-null   object        \n",
      " 22  Product Name             9500 non-null   object        \n",
      " 23  printer_related          9500 non-null   bool          \n",
      " 24  Customer Name            9500 non-null   object        \n",
      " 25  Segment                  9500 non-null   object        \n",
      " 26  Country                  9500 non-null   object        \n",
      " 27  index                    0 non-null      float64       \n",
      "dtypes: bool(2), datetime64[ns](2), float64(8), int64(6), object(10)\n",
      "memory usage: 2.0+ MB\n"
     ]
    }
   ],
   "source": [
    "merged_dataframe.info()"
   ]
  },
  {
   "cell_type": "code",
   "execution_count": 363,
   "id": "90b1a4a0-cd31-406b-89ea-65becc4c1388",
   "metadata": {
    "colab": {
     "base_uri": "https://localhost:8080/"
    },
    "id": "90b1a4a0-cd31-406b-89ea-65becc4c1388",
    "outputId": "5fce2374-7427-411a-ea60-c90109b44d49"
   },
   "outputs": [
    {
     "data": {
      "text/plain": [
       "Index(['Order ID', 'Order Date', 'Ship Date', 'Ship Mode', 'Customer ID',\n",
       "       'Product ID', 'Sales', 'Quantity', 'Discount', 'Profit', 'Order Year',\n",
       "       'Order Month', 'Order Day', 'Order Day of Week',\n",
       "       'Order to Ship Duration', 'Total Revenue', 'Average Profit per Unit',\n",
       "       'Profit Margin', 'Discounted Sales', 'High Value Customer', 'Category',\n",
       "       'Sub-Category', 'Product Name', 'printer_related', 'Customer Name',\n",
       "       'Segment', 'Country', 'index'],\n",
       "      dtype='object')"
      ]
     },
     "execution_count": 363,
     "metadata": {},
     "output_type": "execute_result"
    }
   ],
   "source": [
    "merged_dataframe.columns"
   ]
  },
  {
   "cell_type": "markdown",
   "id": "dc3320a2-b941-4e6b-8214-5b7a7c1d3120",
   "metadata": {
    "id": "dc3320a2-b941-4e6b-8214-5b7a7c1d3120"
   },
   "source": [
    "# **Step 3: Data Splitting, Model Selection and Training**"
   ]
  },
  {
   "cell_type": "code",
   "execution_count": 364,
   "id": "3639bfb1-5899-4504-8ad5-111fc9582152",
   "metadata": {
    "colab": {
     "base_uri": "https://localhost:8080/",
     "height": 206
    },
    "id": "3639bfb1-5899-4504-8ad5-111fc9582152",
    "outputId": "de26f01c-000a-4d56-dcdf-90de0d993fd8"
   },
   "outputs": [
    {
     "data": {
      "text/html": [
       "<div>\n",
       "<style scoped>\n",
       "    .dataframe tbody tr th:only-of-type {\n",
       "        vertical-align: middle;\n",
       "    }\n",
       "\n",
       "    .dataframe tbody tr th {\n",
       "        vertical-align: top;\n",
       "    }\n",
       "\n",
       "    .dataframe thead th {\n",
       "        text-align: right;\n",
       "    }\n",
       "</style>\n",
       "<table border=\"1\" class=\"dataframe\">\n",
       "  <thead>\n",
       "    <tr style=\"text-align: right;\">\n",
       "      <th></th>\n",
       "      <th>Customer ID</th>\n",
       "      <th>Sales</th>\n",
       "      <th>Discount</th>\n",
       "      <th>Total Revenue</th>\n",
       "      <th>Category</th>\n",
       "      <th>Sub-Category</th>\n",
       "      <th>printer_related</th>\n",
       "    </tr>\n",
       "  </thead>\n",
       "  <tbody>\n",
       "    <tr>\n",
       "      <th>0</th>\n",
       "      <td>CG-12520</td>\n",
       "      <td>261.9600</td>\n",
       "      <td>0.00</td>\n",
       "      <td>523.9200</td>\n",
       "      <td>Furniture</td>\n",
       "      <td>Bookcases</td>\n",
       "      <td>False</td>\n",
       "    </tr>\n",
       "    <tr>\n",
       "      <th>1</th>\n",
       "      <td>CG-12520</td>\n",
       "      <td>731.9400</td>\n",
       "      <td>0.00</td>\n",
       "      <td>2195.8200</td>\n",
       "      <td>Furniture</td>\n",
       "      <td>Chairs</td>\n",
       "      <td>False</td>\n",
       "    </tr>\n",
       "    <tr>\n",
       "      <th>2</th>\n",
       "      <td>DV-13045</td>\n",
       "      <td>14.6200</td>\n",
       "      <td>0.00</td>\n",
       "      <td>29.2400</td>\n",
       "      <td>Office Supplies</td>\n",
       "      <td>Labels</td>\n",
       "      <td>False</td>\n",
       "    </tr>\n",
       "    <tr>\n",
       "      <th>3</th>\n",
       "      <td>SO-20335</td>\n",
       "      <td>957.5775</td>\n",
       "      <td>0.45</td>\n",
       "      <td>4787.8875</td>\n",
       "      <td>Furniture</td>\n",
       "      <td>Tables</td>\n",
       "      <td>False</td>\n",
       "    </tr>\n",
       "    <tr>\n",
       "      <th>4</th>\n",
       "      <td>SO-20335</td>\n",
       "      <td>22.3680</td>\n",
       "      <td>0.20</td>\n",
       "      <td>44.7360</td>\n",
       "      <td>Office Supplies</td>\n",
       "      <td>Storage</td>\n",
       "      <td>False</td>\n",
       "    </tr>\n",
       "  </tbody>\n",
       "</table>\n",
       "</div>"
      ],
      "text/plain": [
       "  Customer ID     Sales  Discount  Total Revenue         Category  \\\n",
       "0    CG-12520  261.9600      0.00       523.9200        Furniture   \n",
       "1    CG-12520  731.9400      0.00      2195.8200        Furniture   \n",
       "2    DV-13045   14.6200      0.00        29.2400  Office Supplies   \n",
       "3    SO-20335  957.5775      0.45      4787.8875        Furniture   \n",
       "4    SO-20335   22.3680      0.20        44.7360  Office Supplies   \n",
       "\n",
       "  Sub-Category  printer_related  \n",
       "0    Bookcases            False  \n",
       "1       Chairs            False  \n",
       "2       Labels            False  \n",
       "3       Tables            False  \n",
       "4      Storage            False  "
      ]
     },
     "execution_count": 364,
     "metadata": {},
     "output_type": "execute_result"
    }
   ],
   "source": [
    "pd.set_option('display.max_columns',None)\n",
    "pd.set_option('display.max_rows',None)\n",
    "# Drop unnecessary columns\n",
    "merged_dataframe.drop(['Order ID', 'Order Date', 'Ship Date', 'Ship Mode',\n",
    "       'Product ID', 'Quantity', 'Profit', 'Order Year',\n",
    "       'Order Month', 'Order Day', 'Order Day of Week',\n",
    "       'Order to Ship Duration', 'Average Profit per Unit',\n",
    "       'Profit Margin', 'Discounted Sales', 'High Value Customer',\n",
    "        'Product Name', 'Customer Name',\n",
    "       'Segment', 'Country', 'index'], axis=1, inplace=True)\n",
    "merged_dataframe.head()"
   ]
  },
  {
   "cell_type": "code",
   "execution_count": 365,
   "id": "4768d9e7-45e2-4098-8fb0-89118d510e9b",
   "metadata": {
    "id": "4768d9e7-45e2-4098-8fb0-89118d510e9b"
   },
   "outputs": [],
   "source": [
    "# Imports required libraries\n",
    "import matplotlib\n",
    "import seaborn as sns\n",
    "import warnings\n",
    "import yaml\n",
    "import pandas as pd\n",
    "import numpy as np\n",
    "import pickle\n",
    "import os, sys, json\n",
    "\n",
    "from matplotlib import pyplot as plt\n",
    "from tqdm import tqdm#_notebook as tqdm\n",
    "from sklearn.model_selection import train_test_split\n",
    "from sklearn.preprocessing import LabelEncoder, OneHotEncoder\n",
    "from sklearn.metrics import accuracy_score, classification_report, confusion_matrix, roc_curve, roc_auc_score, recall_score\n",
    "\n",
    "from imblearn.over_sampling import RandomOverSampler, SMOTE\n",
    "from sklearn.model_selection import GridSearchCV, RandomizedSearchCV\n",
    "\n",
    "\n",
    "# suppress warnings :\n",
    "if not sys.warnoptions:\n",
    "    warnings.simplefilter(\"ignore\")"
   ]
  },
  {
   "cell_type": "code",
   "execution_count": 366,
   "id": "5256f9a4-b3f1-4fdb-bac7-debd55449a0c",
   "metadata": {
    "colab": {
     "base_uri": "https://localhost:8080/"
    },
    "id": "5256f9a4-b3f1-4fdb-bac7-debd55449a0c",
    "outputId": "3a3f765a-dfc1-4043-e732-3ba441bd6988"
   },
   "outputs": [
    {
     "name": "stdout",
     "output_type": "stream",
     "text": [
      "✅ Encoders saved successfully!\n",
      "Loaded encoders: dict_keys(['Customer ID', 'Category', 'Sub-Category'])\n"
     ]
    }
   ],
   "source": [
    "\n",
    "import pickle\n",
    "from sklearn.preprocessing import LabelEncoder\n",
    "\n",
    "# Dictionary to store a LabelEncoder per column\n",
    "encoders = {}\n",
    "\n",
    "# Apply encoding per column and store encoders\n",
    "categorical_cols = merged_dataframe.select_dtypes(include='object').columns\n",
    "\n",
    "for col in categorical_cols:\n",
    "    le = LabelEncoder()\n",
    "    merged_dataframe[col] = le.fit_transform(merged_dataframe[col])  # Fit & transform column\n",
    "    encoders[col] = le  # Store encoder for this column\n",
    "\n",
    "# Save the encoders as a dictionary\n",
    "with open(\"encoder.pkl\", \"wb\") as f:\n",
    "    pickle.dump(encoders, f)\n",
    "\n",
    "print(\"✅ Encoders saved successfully!\")\n",
    "\n",
    "print(\"Loaded encoders:\", encoders.keys())\n"
   ]
  },
  {
   "cell_type": "code",
   "execution_count": 367,
   "id": "9bcd4ee0-7294-44ad-a103-a37383d5eade",
   "metadata": {
    "colab": {
     "base_uri": "https://localhost:8080/",
     "height": 206
    },
    "id": "9bcd4ee0-7294-44ad-a103-a37383d5eade",
    "outputId": "125eeca0-edc3-45c9-ad62-502aef995b23"
   },
   "outputs": [
    {
     "data": {
      "text/html": [
       "<div>\n",
       "<style scoped>\n",
       "    .dataframe tbody tr th:only-of-type {\n",
       "        vertical-align: middle;\n",
       "    }\n",
       "\n",
       "    .dataframe tbody tr th {\n",
       "        vertical-align: top;\n",
       "    }\n",
       "\n",
       "    .dataframe thead th {\n",
       "        text-align: right;\n",
       "    }\n",
       "</style>\n",
       "<table border=\"1\" class=\"dataframe\">\n",
       "  <thead>\n",
       "    <tr style=\"text-align: right;\">\n",
       "      <th></th>\n",
       "      <th>Customer ID</th>\n",
       "      <th>Sales</th>\n",
       "      <th>Discount</th>\n",
       "      <th>Total Revenue</th>\n",
       "      <th>Category</th>\n",
       "      <th>Sub-Category</th>\n",
       "      <th>printer_related</th>\n",
       "    </tr>\n",
       "  </thead>\n",
       "  <tbody>\n",
       "    <tr>\n",
       "      <th>0</th>\n",
       "      <td>143</td>\n",
       "      <td>261.9600</td>\n",
       "      <td>0.00</td>\n",
       "      <td>523.9200</td>\n",
       "      <td>0</td>\n",
       "      <td>4</td>\n",
       "      <td>False</td>\n",
       "    </tr>\n",
       "    <tr>\n",
       "      <th>1</th>\n",
       "      <td>143</td>\n",
       "      <td>731.9400</td>\n",
       "      <td>0.00</td>\n",
       "      <td>2195.8200</td>\n",
       "      <td>0</td>\n",
       "      <td>5</td>\n",
       "      <td>False</td>\n",
       "    </tr>\n",
       "    <tr>\n",
       "      <th>2</th>\n",
       "      <td>237</td>\n",
       "      <td>14.6200</td>\n",
       "      <td>0.00</td>\n",
       "      <td>29.2400</td>\n",
       "      <td>1</td>\n",
       "      <td>10</td>\n",
       "      <td>False</td>\n",
       "    </tr>\n",
       "    <tr>\n",
       "      <th>3</th>\n",
       "      <td>703</td>\n",
       "      <td>957.5775</td>\n",
       "      <td>0.45</td>\n",
       "      <td>4787.8875</td>\n",
       "      <td>0</td>\n",
       "      <td>16</td>\n",
       "      <td>False</td>\n",
       "    </tr>\n",
       "    <tr>\n",
       "      <th>4</th>\n",
       "      <td>703</td>\n",
       "      <td>22.3680</td>\n",
       "      <td>0.20</td>\n",
       "      <td>44.7360</td>\n",
       "      <td>1</td>\n",
       "      <td>14</td>\n",
       "      <td>False</td>\n",
       "    </tr>\n",
       "  </tbody>\n",
       "</table>\n",
       "</div>"
      ],
      "text/plain": [
       "   Customer ID     Sales  Discount  Total Revenue  Category  Sub-Category  \\\n",
       "0          143  261.9600      0.00       523.9200         0             4   \n",
       "1          143  731.9400      0.00      2195.8200         0             5   \n",
       "2          237   14.6200      0.00        29.2400         1            10   \n",
       "3          703  957.5775      0.45      4787.8875         0            16   \n",
       "4          703   22.3680      0.20        44.7360         1            14   \n",
       "\n",
       "   printer_related  \n",
       "0            False  \n",
       "1            False  \n",
       "2            False  \n",
       "3            False  \n",
       "4            False  "
      ]
     },
     "execution_count": 367,
     "metadata": {},
     "output_type": "execute_result"
    }
   ],
   "source": [
    "merged_dataframe.head()"
   ]
  },
  {
   "cell_type": "code",
   "execution_count": 368,
   "id": "70172ae6-5de1-4e94-b00d-7b8f553d2099",
   "metadata": {
    "id": "70172ae6-5de1-4e94-b00d-7b8f553d2099"
   },
   "outputs": [],
   "source": [
    "# Separate features (X) and target (y)\n",
    "X = merged_dataframe.drop('printer_related', axis=1)\n",
    "y = merged_dataframe['printer_related']\n",
    "\n",
    "# Split the data into train and test sets\n",
    "X_train, X_test, y_train, y_test = train_test_split(X, y, test_size=0.3, random_state=42)"
   ]
  },
  {
   "cell_type": "code",
   "execution_count": 369,
   "id": "61274358-7229-4c38-9b60-12291d3b5503",
   "metadata": {
    "id": "61274358-7229-4c38-9b60-12291d3b5503"
   },
   "outputs": [],
   "source": [
    "# Step 1: Resample the data using SMOTE\n",
    "smote = SMOTE(random_state=42)\n",
    "X_sampled, y_sampled = smote.fit_resample(X_train, y_train)"
   ]
  },
  {
   "cell_type": "code",
   "execution_count": 370,
   "id": "5a9da367-80f7-4478-8c21-0db6418cfd4b",
   "metadata": {
    "colab": {
     "base_uri": "https://localhost:8080/"
    },
    "id": "5a9da367-80f7-4478-8c21-0db6418cfd4b",
    "outputId": "b6acc1f7-7670-400b-b609-b494647219ec"
   },
   "outputs": [
    {
     "name": "stdout",
     "output_type": "stream",
     "text": [
      "Fitting 5 folds for each of 1 candidates, totalling 5 fits\n",
      "XGBoost model retrained and saved successfully!\n",
      "Best Hyperparameters: {'colsample_bytree': 0.3, 'gamma': 0.4, 'learning_rate': 0.05, 'max_depth': 4, 'n_estimators': 60, 'subsample': 0.4}\n",
      "Accuracy: 0.9480701754385965\n",
      "Recall: 0.8636363636363636\n",
      "Precision: 0.11585365853658537\n",
      "Classification Report:\n",
      "              precision    recall  f1-score   support\n",
      "\n",
      "       False       1.00      0.95      0.97      2828\n",
      "        True       0.12      0.86      0.20        22\n",
      "\n",
      "    accuracy                           0.95      2850\n",
      "   macro avg       0.56      0.91      0.59      2850\n",
      "weighted avg       0.99      0.95      0.97      2850\n",
      "\n",
      "Confusion Matrix:\n",
      "[[2683  145]\n",
      " [   3   19]]\n",
      "Cross-validation recall: 0.9692799087474417\n"
     ]
    }
   ],
   "source": [
    "import xgboost as xgb\n",
    "import pickle\n",
    "from sklearn.model_selection import GridSearchCV\n",
    "from sklearn.metrics import accuracy_score, recall_score,precision_score, classification_report, confusion_matrix\n",
    "import numpy as np\n",
    "\n",
    "# Define hyperparameter grid for XGBoost\n",
    "param_grid = {\n",
    "    'n_estimators': [60],  # Reduce trees even further\n",
    "    'max_depth': [4],  # Shallower trees for better generalization\n",
    "    'learning_rate': [0.05],  # Smoother updates to avoid overfitting\n",
    "    'subsample': [0.4],  # Use even less data per tree\n",
    "    'colsample_bytree': [0.3],  # Reduce feature usage further\n",
    "    'gamma': [0.4],  # Increase gamma for stronger regularization\n",
    "}\n",
    "\n",
    "# Initialize XGBoost classifier\n",
    "xgb_model = xgb.XGBClassifier(objective='binary:logistic', random_state=42)\n",
    "\n",
    "# Perform hyperparameter tuning using GridSearchCV\n",
    "grid_search = GridSearchCV(xgb_model, param_grid, scoring='recall', cv=5, verbose=1, n_jobs=-1)\n",
    "grid_search.fit(X_sampled, y_sampled)\n",
    "\n",
    "# Get best parameters from grid search\n",
    "best_params = grid_search.best_params_\n",
    "\n",
    "# Train model with best hyperparameters\n",
    "final_model = xgb.XGBClassifier(objective='binary:logistic', random_state=42,  **best_params)\n",
    "final_model.fit(X_sampled, y_sampled)\n",
    "\n",
    "# Save trained XGBoost model\n",
    "with open(\"model.pkl\", \"wb\") as f:\n",
    "    pickle.dump(final_model, f)\n",
    "\n",
    "print(\"XGBoost model retrained and saved successfully!\")\n",
    "\n",
    "# Make predictions on the test set\n",
    "y_pred = final_model.predict(X_test).astype(bool)\n",
    "\n",
    "# Calculate accuracy and recall\n",
    "accuracy = accuracy_score(y_test, y_pred)\n",
    "recall = recall_score(y_test, y_pred)\n",
    "precision = precision_score(y_test, y_pred)\n",
    "\n",
    "print(\"Best Hyperparameters:\", best_params)\n",
    "print(\"Accuracy:\", accuracy)\n",
    "print(\"Recall:\", recall)\n",
    "print(\"Precision:\", precision)\n",
    "# Classification Report and Confusion Matrix\n",
    "print(\"Classification Report:\")\n",
    "print(classification_report(y_test, y_pred))\n",
    "print(\"Confusion Matrix:\")\n",
    "print(confusion_matrix(y_test, y_pred))\n",
    "\n",
    "# Cross-validation recall\n",
    "from sklearn.model_selection import cross_val_score\n",
    "cv_scores = cross_val_score(final_model, X_sampled, y_sampled, cv=5, scoring='recall')\n",
    "print(\"Cross-validation recall:\", np.mean(cv_scores))\n"
   ]
  },
  {
   "cell_type": "code",
   "execution_count": 371,
   "id": "bcd2caf2-e0c6-45c7-9183-cf4574e807a6",
   "metadata": {
    "colab": {
     "base_uri": "https://localhost:8080/",
     "height": 303
    },
    "id": "bcd2caf2-e0c6-45c7-9183-cf4574e807a6",
    "outputId": "97e6f035-15a3-4d6b-e966-be2d9e5e4c99"
   },
   "outputs": [
    {
     "data": {
      "text/plain": [
       "Customer ID            317\n",
       "Sales               671.93\n",
       "Discount               0.0\n",
       "Total Revenue      4703.51\n",
       "Category                 1\n",
       "Sub-Category            14\n",
       "printer_related      False\n",
       "Name: 152, dtype: object"
      ]
     },
     "execution_count": 371,
     "metadata": {},
     "output_type": "execute_result"
    }
   ],
   "source": [
    "merged_dataframe.iloc[131]"
   ]
  },
  {
   "cell_type": "markdown",
   "id": "1642ad92-78d4-4d7f-ba67-65235ad7fd91",
   "metadata": {
    "id": "1642ad92-78d4-4d7f-ba67-65235ad7fd91"
   },
   "source": [
    "# **Step 5:  Model Evaluation** *italicized text*"
   ]
  },
  {
   "cell_type": "code",
   "execution_count": 372,
   "id": "278240cd-e4d9-4b0b-b678-155bf6e00044",
   "metadata": {
    "colab": {
     "base_uri": "https://localhost:8080/"
    },
    "id": "278240cd-e4d9-4b0b-b678-155bf6e00044",
    "outputId": "fde9e854-55f6-4ee8-f82d-acd785aa8662"
   },
   "outputs": [
    {
     "name": "stdout",
     "output_type": "stream",
     "text": [
      "Best Hyperparameters: {'colsample_bytree': 0.3, 'gamma': 0.4, 'learning_rate': 0.05, 'max_depth': 4, 'n_estimators': 60, 'subsample': 0.4}\n",
      "Accuracy: 0.9480701754385965\n",
      "Recall: 0.8636363636363636\n"
     ]
    }
   ],
   "source": [
    "# Make predictions on the test set\n",
    "y_pred = final_model.predict(X_test).astype(bool)\n",
    "# Calculate accuracy and recall\n",
    "accuracy = accuracy_score(y_test, y_pred)\n",
    "recall = recall_score(y_test, y_pred)\n",
    "\n",
    "print(\"Best Hyperparameters:\", best_params)\n",
    "print(\"Accuracy:\", accuracy)\n",
    "print(\"Recall:\", recall)"
   ]
  },
  {
   "cell_type": "code",
   "execution_count": 373,
   "id": "ee7c809b-82c9-4bcf-8168-2b7c567034aa",
   "metadata": {
    "colab": {
     "base_uri": "https://localhost:8080/"
    },
    "id": "ee7c809b-82c9-4bcf-8168-2b7c567034aa",
    "outputId": "6e1552bc-5452-436b-c12c-aaf8cdbcb2ad"
   },
   "outputs": [
    {
     "name": "stdout",
     "output_type": "stream",
     "text": [
      "Classification Report:\n",
      "              precision    recall  f1-score   support\n",
      "\n",
      "       False       1.00      0.95      0.97      2828\n",
      "        True       0.12      0.86      0.20        22\n",
      "\n",
      "    accuracy                           0.95      2850\n",
      "   macro avg       0.56      0.91      0.59      2850\n",
      "weighted avg       0.99      0.95      0.97      2850\n",
      "\n",
      "Confusion Matrix:\n",
      "[[2683  145]\n",
      " [   3   19]]\n"
     ]
    }
   ],
   "source": [
    "# Classification Report and Confusion Matrix\n",
    "print(\"Classification Report:\")\n",
    "print(classification_report(y_test, y_pred))\n",
    "print(\"Confusion Matrix:\")\n",
    "print(confusion_matrix(y_test, y_pred))"
   ]
  },
  {
   "cell_type": "code",
   "execution_count": 374,
   "id": "68b59bfa-9010-42ab-b906-fc5664a50686",
   "metadata": {
    "colab": {
     "base_uri": "https://localhost:8080/",
     "height": 493
    },
    "id": "68b59bfa-9010-42ab-b906-fc5664a50686",
    "outputId": "3e9225c1-85cb-4b39-e058-522f0a2b77b7"
   },
   "outputs": [
    {
     "data": {
      "image/png": "[encoded data removed]",
      "text/plain": [
       "<Figure size 700x500 with 2 Axes>"
      ]
     },
     "metadata": {},
     "output_type": "display_data"
    }
   ],
   "source": [
    "import seaborn as sns\n",
    "from sklearn.metrics import confusion_matrix\n",
    "import pandas as pd\n",
    "\n",
    "# Compute the confusion matrix\n",
    "cm = confusion_matrix(y_test, y_pred)\n",
    "# Create confusion matrix DataFrame\n",
    "labels = ['true', 'false']\n",
    "cm_df = pd.DataFrame(cm, index=labels, columns=labels)\n",
    "\n",
    "# Custom heatmap with different color and annotation styling\n",
    "plt.figure(figsize=(7, 5))\n",
    "sns.heatmap(cm_df, annot=True, fmt=\"d\", cmap=\"coolwarm\", linewidths=2, linecolor='black',\n",
    "            annot_kws={\"size\": 14, \"weight\": \"bold\", \"color\": \"black\"})\n",
    "plt.xlabel(\"Predicted\", fontsize=13)\n",
    "plt.ylabel(\"Actual\", fontsize=13)\n",
    "plt.title(\"Confusion Matrix\", fontsize=15, fontweight=\"bold\")\n",
    "plt.show()"
   ]
  },
  {
   "cell_type": "code",
   "execution_count": 375,
   "id": "d9931267-7797-4a6d-aa2c-0dd93d5cb422",
   "metadata": {
    "colab": {
     "base_uri": "https://localhost:8080/",
     "height": 564
    },
    "id": "d9931267-7797-4a6d-aa2c-0dd93d5cb422",
    "outputId": "efeac10a-4922-4f2a-82ab-7aa61cac592f"
   },
   "outputs": [
    {
     "data": {
      "image/png": "[encoded data removed]",
      "text/plain": [
       "<Figure size 1000x600 with 1 Axes>"
      ]
     },
     "metadata": {},
     "output_type": "display_data"
    }
   ],
   "source": [
    "importances = final_model.feature_importances_\n",
    "\n",
    "# Create a DataFrame to store feature importances\n",
    "feature_importances_df = pd.DataFrame({'Feature': X.columns, 'Importance': importances})\n",
    "\n",
    "# Sort the features by importance in descending order\n",
    "feature_importances_df = feature_importances_df.sort_values(by='Importance', ascending=False)\n",
    "\n",
    "# Plot feature importances using a scatter plot\n",
    "plt.figure(figsize=(10, 6))\n",
    "sns.scatterplot(x='Importance', y='Feature', data=feature_importances_df, color='purple', s=100)\n",
    "plt.xlabel('Feature Importance')\n",
    "plt.ylabel('Features')\n",
    "plt.title('Feature Importances Plot')\n",
    "plt.grid(True)\n",
    "plt.show()"
   ]
  },
  {
   "cell_type": "code",
   "execution_count": 376,
   "id": "63uvFEyEDpvg",
   "metadata": {
    "colab": {
     "base_uri": "https://localhost:8080/",
     "height": 564
    },
    "id": "63uvFEyEDpvg",
    "outputId": "096d65a1-4ad4-4c18-eacb-edaababeaa15"
   },
   "outputs": [
    {
     "data": {
      "image/png": "[encoded data removed]",
      "text/plain": [
       "<Figure size 800x600 with 1 Axes>"
      ]
     },
     "metadata": {},
     "output_type": "display_data"
    }
   ],
   "source": [
    "from sklearn.metrics import roc_curve, roc_auc_score\n",
    "import seaborn as sns\n",
    "import matplotlib.pyplot as plt\n",
    "\n",
    "# Get predicted probabilities for the positive class (1)\n",
    "y_prob = final_model.predict_proba(X_test)[:, 1]  # Extract only the probability of class 1\n",
    "\n",
    "# Compute ROC curve\n",
    "fpr, tpr, _ = roc_curve(y_test, y_prob)\n",
    "auc_score = roc_auc_score(y_test, y_prob)\n",
    "\n",
    "# Plot with Seaborn\n",
    "plt.figure(figsize=(8, 6))\n",
    "sns.lineplot(x=fpr, y=tpr, label=f'ROC Curve (AUC = {auc_score:.2f})', color='green')\n",
    "\n",
    "# Add diagonal reference line\n",
    "sns.lineplot(x=[0, 1], y=[0, 1], linestyle=\"--\", color=\"gray\")\n",
    "\n",
    "plt.xlabel('False Positive Rate')\n",
    "plt.ylabel('True Positive Rate')\n",
    "plt.title('ROC Curve')\n",
    "plt.legend(loc='lower right')\n",
    "plt.grid(True)\n",
    "plt.show()\n"
   ]
  },
  {
   "cell_type": "markdown",
   "id": "68eaaebf-ed5e-4192-b22e-f57964129d68",
   "metadata": {
    "id": "68eaaebf-ed5e-4192-b22e-f57964129d68"
   },
   "source": [
    "# **STEP 6: DEPLOYMENT**"
   ]
  },
  {
   "cell_type": "code",
   "execution_count": 377,
   "id": "9092c863-b6a7-433a-90fc-1140025e28b7",
   "metadata": {
    "colab": {
     "base_uri": "https://localhost:8080/"
    },
    "id": "9092c863-b6a7-433a-90fc-1140025e28b7",
    "outputId": "fac96099-fddb-4b5c-fbaa-9ae2b5abfb26"
   },
   "outputs": [
    {
     "name": "stdout",
     "output_type": "stream",
     "text": [
      "True\n",
      "Customer ID       727.00\n",
      "Sales             600.53\n",
      "Discount            0.30\n",
      "Total Revenue    1201.06\n",
      "Category            2.00\n",
      "Sub-Category       11.00\n",
      "Name: 8562, dtype: float64\n"
     ]
    }
   ],
   "source": [
    "value = y_train.iloc[131]\n",
    "valueX = X_train.iloc[131]\n",
    "print(value)\n",
    "print(valueX)"
   ]
  },
  {
   "cell_type": "code",
   "execution_count": 378,
   "id": "_PHdZhCME25p",
   "metadata": {
    "colab": {
     "base_uri": "https://localhost:8080/"
    },
    "id": "_PHdZhCME25p",
    "outputId": "83a5efe5-ed6a-4860-9ba7-77726c8c8389"
   },
   "outputs": [
    {
     "name": "stdout",
     "output_type": "stream",
     "text": [
      "<class 'dict'>\n",
      "Model is fitted. Ready for predictions.\n",
      "Available encoders in encoder.pkl: dict_keys(['Customer ID', 'Category', 'Sub-Category'])\n",
      "Columns in X_new: ['Customer ID', 'Sales', 'Discount', 'Total Revenue', 'Category', 'Sub-Category']\n",
      "   Customer ID   Sales  Discount  Total Revenue  Category  Sub-Category\n",
      "0          727  600.53       0.9        1201.06         2            11\n",
      "Predicted class: [ True]\n",
      "Confidence scores: [0.38833743 0.61166257] (False: 0.3883, True: 0.6117)\n"
     ]
    }
   ],
   "source": [
    "import pickle\n",
    "import pandas as pd\n",
    "from sklearn.preprocessing import LabelEncoder\n",
    "from sklearn.utils.validation import check_is_fitted\n",
    "\n",
    "# Load the saved LabelEncoder\n",
    "with open(\"encoder.pkl\", \"rb\") as f:\n",
    "    loaded_encoders = pickle.load(f)\n",
    "\n",
    "print(type(loaded_encoders))\n",
    "# Load the trained model\n",
    "with open(\"model.pkl\", \"rb\") as f:\n",
    "    loaded_model = pickle.load(f)\n",
    "\n",
    "try:\n",
    "  check_is_fitted(loaded_model)\n",
    "  print(\"Model is fitted. Ready for predictions.\")\n",
    "except Exception as e:\n",
    "  print(\"Model is NOT fitted:\", e)\n",
    "\n",
    "# Define new input data (must match training format)\n",
    "X_new = pd.DataFrame([{\n",
    "    \"Customer ID\": \"SZ-20035\",\n",
    "    \"Sales\": 600.53,\n",
    "    \"Discount\": 0.9,\n",
    "    \"Total Revenue\": 1201.06,\n",
    "    \"Category\": \"Technology\",\n",
    "    \"Sub-Category\": \"Machines\",\n",
    "}\n",
    "])\n",
    "\n",
    "print(\"Available encoders in encoder.pkl:\", loaded_encoders.keys())\n",
    "print(\"Columns in X_new:\", X_new.columns.tolist())\n",
    "\n",
    "for col in X_new.select_dtypes(include='object'):\n",
    "    if col in loaded_encoders:  # Check if an encoder exists for this column\n",
    "        encoder = loaded_encoders[col]  # Get the correct LabelEncoder\n",
    "        X_new[col] = X_new[col].apply(lambda x: encoder.transform([x])[0]\n",
    "                                      if x in encoder.classes_ else -1)  # Assign -1 for unseen categories\n",
    "    else:\n",
    "        print(f\"⚠️ Warning: No encoder found for column '{col}'\")\n",
    "        X_new[col] = -1  # If column was not encoded before, assign -1\n",
    "\n",
    "print(X_new)\n",
    "# Make prediction\n",
    "prediction = loaded_model.predict(X_new).astype(bool)\n",
    "confidence = loaded_model.predict_proba(X_new)\n",
    "print(\"Predicted class:\", prediction)\n",
    "print(f\"Confidence scores: {confidence[0]} (False: {confidence[0][0]:.4f}, True: {confidence[0][1]:.4f})\")"
   ]
  },
  {
   "cell_type": "code",
   "execution_count": 379,
   "id": "qwRWdPrRE89p",
   "metadata": {
    "colab": {
     "base_uri": "https://localhost:8080/",
     "height": 1000
    },
    "id": "qwRWdPrRE89p",
    "outputId": "b0235ff4-018f-4db4-e60d-b68d13561cb2"
   },
   "outputs": [
    {
     "name": "stdout",
     "output_type": "stream",
     "text": [
      "Analyzing XGBoost model prediction...\n",
      "\n",
      "Model Prediction Analysis:\n",
      "Base value (average model output): -0.006313481368124485\n",
      "Number of features analyzed: 6\n"
     ]
    },
    {
     "data": {
      "image/png": "[encoded data removed]",
      "text/plain": [
       "<Figure size 800x390 with 2 Axes>"
      ]
     },
     "metadata": {},
     "output_type": "display_data"
    },
    {
     "data": {
      "image/png": "[encoded data removed]",
      "text/plain": [
       "<Figure size 800x450 with 3 Axes>"
      ]
     },
     "metadata": {},
     "output_type": "display_data"
    },
    {
     "name": "stdout",
     "output_type": "stream",
     "text": [
      "\n",
      "Detailed Feature Contributions:\n",
      "      Feature  SHAP Value  Original Value Impact Direction\n",
      "     Discount    0.618992            0.90         Negative\n",
      "Total Revenue    0.447469         1201.06         Positive\n",
      "     Category    0.287790            2.00         Positive\n",
      " Sub-Category    0.286679           11.00         Positive\n",
      "  Customer ID    0.043578          727.00         Positive\n",
      "        Sales    0.014094          600.53         Positive\n"
     ]
    }
   ],
   "source": [
    "import shap\n",
    "import matplotlib.pyplot as plt\n",
    "import numpy as np\n",
    "import pandas as pd\n",
    "\n",
    "def explain_xgboost_prediction(model, X_input):\n",
    "    \"\"\"\n",
    "    Generate SHAP explanations specifically for XGBoost models\n",
    "    \"\"\"\n",
    "    # Create TreeExplainer specifically for XGBoost\n",
    "    explainer = shap.TreeExplainer(model)\n",
    "\n",
    "    # Get SHAP values - for XGBoost classification, we get values for each class\n",
    "    shap_values = explainer.shap_values(X_input)\n",
    "\n",
    "    # For binary classification, take values for positive class (class 1)\n",
    "    if isinstance(shap_values, list):\n",
    "        shap_values = shap_values[1]  # Values for positive class\n",
    "\n",
    "    # Create feature importance DataFrame\n",
    "    feature_importance = pd.DataFrame({\n",
    "        'Feature': X_input.columns,\n",
    "        'SHAP Value': np.abs(shap_values[0]),  # Absolute value for importance\n",
    "        'Original Value': X_input.iloc[0].values,\n",
    "        'Impact Direction': np.where(shap_values[0] > 0, 'Positive', 'Negative')\n",
    "    })\n",
    "\n",
    "    # Sort by absolute SHAP value\n",
    "    feature_importance = feature_importance.sort_values('SHAP Value', ascending=False)\n",
    "\n",
    "    # Print summary statistics\n",
    "    print(\"\\nModel Prediction Analysis:\")\n",
    "    print(f\"Base value (average model output): {explainer.expected_value}\")\n",
    "    print(f\"Number of features analyzed: {len(feature_importance)}\")\n",
    "\n",
    "    # Generate visualizations\n",
    "\n",
    "    # 1. Summary Plot\n",
    "    plt.figure(figsize=(10, 6))\n",
    "    shap.summary_plot(\n",
    "        shap_values,\n",
    "        X_input,\n",
    "        show=False\n",
    "    )\n",
    "    plt.title(\"Feature Impact Overview\")\n",
    "    plt.tight_layout()\n",
    "    plt.show()\n",
    "\n",
    "    # 3. Waterfall Plot for this specific prediction\n",
    "    plt.figure(figsize=(10, 6))\n",
    "    shap.plots.waterfall(\n",
    "        shap.Explanation(\n",
    "            values=shap_values[0],\n",
    "            base_values=explainer.expected_value,\n",
    "            data=X_input.iloc[0],\n",
    "            feature_names=X_input.columns.tolist()\n",
    "        )\n",
    "    )\n",
    "    return feature_importance\n",
    "\n",
    "# Run the analysis\n",
    "print(\"Analyzing XGBoost model prediction...\")\n",
    "feature_importance = explain_xgboost_prediction(loaded_model, X_new)\n",
    "\n",
    "# Display detailed results\n",
    "print(\"\\nDetailed Feature Contributions:\")\n",
    "pd.set_option('display.max_rows', None)  # Show all rows\n",
    "print(feature_importance.to_string(index=False))"
   ]
  },
  {
   "cell_type": "code",
   "execution_count": 380,
   "id": "c8916UeaFEYK",
   "metadata": {
    "colab": {
     "base_uri": "https://localhost:8080/"
    },
    "id": "c8916UeaFEYK",
    "outputId": "141bcf29-76e7-49f6-ff83-6d3c1349c193"
   },
   "outputs": [
    {
     "name": "stdout",
     "output_type": "stream",
     "text": [
      "✅ Decoded Row:\n",
      " Customer ID       LS-16975\n",
      "Sales               81.424\n",
      "Discount               0.2\n",
      "Total Revenue      162.848\n",
      "Category         Furniture\n",
      "Sub-Category        Chairs\n",
      "Name: 131, dtype: object\n"
     ]
    }
   ],
   "source": [
    "# Get a copy of the encoded row\n",
    "encoded_row = X_test.loc[131].copy()\n",
    "\n",
    "# Decode categorical columns\n",
    "for col in loaded_encoders:\n",
    "    # Ensure column exists\n",
    "    if col in encoded_row:\n",
    "        encoder = loaded_encoders[col]\n",
    "        # Ensure column exists\n",
    "        encoded_value = encoded_row[col]\n",
    "        decoded_value = encoder.inverse_transform([int(encoded_value)])[0]\n",
    "        # Replace with original value\n",
    "        encoded_row[col] = decoded_value\n",
    "\n",
    "# Print decoded row\n",
    "print(\"✅ Decoded Row:\\n\", encoded_row)"
   ]
  },
  {
   "cell_type": "code",
   "execution_count": 381,
   "id": "CWrxi2pAFGa2",
   "metadata": {
    "colab": {
     "base_uri": "https://localhost:8080/"
    },
    "id": "CWrxi2pAFGa2",
    "outputId": "826e5c7e-bcd8-4956-a707-d8feea8687b3"
   },
   "outputs": [
    {
     "name": "stdout",
     "output_type": "stream",
     "text": [
      "Predicted class: [False  True]\n",
      "Actual Labels: [False  True]\n"
     ]
    }
   ],
   "source": [
    "specific_indexes = [172, 462]\n",
    "sample_X_train = X_train.iloc[specific_indexes]\n",
    "sample_y_train = y_train.iloc[specific_indexes]\n",
    "prediction = loaded_model.predict(sample_X_train).astype(bool)\n",
    "\n",
    "print(\"Predicted class:\", prediction)\n",
    "print(\"Actual Labels:\", sample_y_train.values)\n"
   ]
  }
 ],
 "metadata": {
  "colab": {
   "provenance": []
  },
  "kernelspec": {
   "display_name": "base",
   "language": "python",
   "name": "python3"
  },
  "language_info": {
   "codemirror_mode": {
    "name": "ipython",
    "version": 3
   },
   "file_extension": ".py",
   "mimetype": "text/x-python",
   "name": "python",
   "nbconvert_exporter": "python",
   "pygments_lexer": "ipython3",
   "version": "3.10.9"
  }
 },
 "nbformat": 4,
 "nbformat_minor": 5
}
